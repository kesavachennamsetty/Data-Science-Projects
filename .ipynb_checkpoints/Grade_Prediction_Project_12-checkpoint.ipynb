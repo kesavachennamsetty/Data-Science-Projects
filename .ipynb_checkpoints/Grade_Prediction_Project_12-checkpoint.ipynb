{
 "cells": [
  {
   "cell_type": "code",
   "execution_count": 1,
   "id": "a42ca404-0cb8-400b-b081-7a81640f8d00",
   "metadata": {},
   "outputs": [],
   "source": [
    "import pandas as pd"
   ]
  },
  {
   "cell_type": "code",
   "execution_count": 2,
   "id": "ab6a15af-81ff-4001-b30d-009d34219c16",
   "metadata": {},
   "outputs": [],
   "source": [
    "import numpy as np"
   ]
  },
  {
   "cell_type": "code",
   "execution_count": 5,
   "id": "5e989826-8a07-4dde-acd8-f681840524fe",
   "metadata": {},
   "outputs": [],
   "source": [
    "data = pd.read_csv('Data.csv')"
   ]
  },
  {
   "cell_type": "code",
   "execution_count": 7,
   "id": "ffabe97b-c801-4ed7-8c5a-1ca697411e5c",
   "metadata": {},
   "outputs": [
    {
     "name": "stderr",
     "output_type": "stream",
     "text": [
      "C:\\Users\\ramac\\AppData\\Local\\Temp\\ipykernel_3320\\3083324381.py:1: DtypeWarning: Columns (4,9) have mixed types. Specify dtype option on import or set low_memory=False.\n",
      "  AcademicHistory25 = pd.read_csv('AcademicHistory25.csv')\n"
     ]
    }
   ],
   "source": [
    "AcademicHistory25 = pd.read_csv('AcademicHistory25.csv')"
   ]
  },
  {
   "cell_type": "code",
   "execution_count": 9,
   "id": "a7689956-eaa6-4697-995b-810c9c82ffd4",
   "metadata": {},
   "outputs": [],
   "source": [
    "data.rename(columns = {'SPRIDEN_ID':'STUDENT_ID'},inplace = True)"
   ]
  },
  {
   "cell_type": "code",
   "execution_count": 11,
   "id": "22a46c07-b413-4375-becb-266f8253e1d8",
   "metadata": {},
   "outputs": [
    {
     "data": {
      "text/plain": [
       "Index(['STUDENT_ID', 'SORTEST_PIDM', 'SORTEST_TESC_CODE', 'SORTEST_TEST_DATE',\n",
       "       'SORTEST_TEST_SCORE', 'MAX_TEST_SCORE', 'MIN_TEST_SCORE',\n",
       "       'NORMALIZED_TEST_SCORE', 'NON_NUMERIC_SCORES', 'STVTESC_DESC',\n",
       "       'EXEMPTIONS', 'TEST_ATTEMPT_RANK', 'TEST_ATTEMPT_RANK_REVERSED'],\n",
       "      dtype='object')"
      ]
     },
     "execution_count": 11,
     "metadata": {},
     "output_type": "execute_result"
    }
   ],
   "source": [
    "data.columns"
   ]
  },
  {
   "cell_type": "code",
   "execution_count": 13,
   "id": "2883b2ba-8d78-43f5-bfde-489011454aeb",
   "metadata": {},
   "outputs": [
    {
     "data": {
      "text/plain": [
       "Index(['STUDENT_ID', 'HIGH_SCHOOL_CODE', 'FIRST_GENERATION',\n",
       "       'FIRST_TIME_STUDENT', 'HIGH_SCHOOL_GPA', 'AGE', 'TERM_CODE',\n",
       "       'TERM_RANK', 'SUBJECT', 'COURSE_NUMBER', 'COURSE_TITLE', 'FINAL_GRADE',\n",
       "       'CREDIT_HOURS', 'ATTEMPTED_HOURS', 'EARNED_HOURS', 'SHRTGPA_PIDM',\n",
       "       'COURSE_REPEAT', 'COLLEGE_CODE', 'MAJOR_CODE', 'DEGREE',\n",
       "       'SGBSTDN_MAJR_CODE_MINR_1', 'SGBSTDN_PROGRAM_1'],\n",
       "      dtype='object')"
      ]
     },
     "execution_count": 13,
     "metadata": {},
     "output_type": "execute_result"
    }
   ],
   "source": [
    "AcademicHistory25.columns"
   ]
  },
  {
   "cell_type": "code",
   "execution_count": 15,
   "id": "acc692a1-1653-40b2-a32f-4bc2bab56ce8",
   "metadata": {},
   "outputs": [
    {
     "data": {
      "text/plain": [
       "(832557, 13)"
      ]
     },
     "execution_count": 15,
     "metadata": {},
     "output_type": "execute_result"
    }
   ],
   "source": [
    "data.shape"
   ]
  },
  {
   "cell_type": "code",
   "execution_count": 17,
   "id": "6d2ffcb9-1a71-45e2-a806-5c6d8d84d804",
   "metadata": {},
   "outputs": [],
   "source": [
    "df_combined = pd.merge(AcademicHistory25,data,how = 'inner',on = 'STUDENT_ID')"
   ]
  },
  {
   "cell_type": "code",
   "execution_count": 19,
   "id": "730016e1-1efc-4872-9391-2c31877cd217",
   "metadata": {},
   "outputs": [
    {
     "data": {
      "text/plain": [
       "(1642333, 34)"
      ]
     },
     "execution_count": 19,
     "metadata": {},
     "output_type": "execute_result"
    }
   ],
   "source": [
    "df_combined.shape"
   ]
  },
  {
   "cell_type": "code",
   "execution_count": 21,
   "id": "6d28245e-b46e-4f0d-897b-6834e7fb4d8f",
   "metadata": {},
   "outputs": [],
   "source": [
    "df_combined = df_combined.drop_duplicates()"
   ]
  },
  {
   "cell_type": "code",
   "execution_count": 22,
   "id": "7cb41ae8-5aa3-4a53-a9d0-eb3f3ff7d0fa",
   "metadata": {},
   "outputs": [
    {
     "data": {
      "text/plain": [
       "(1642215, 34)"
      ]
     },
     "execution_count": 22,
     "metadata": {},
     "output_type": "execute_result"
    }
   ],
   "source": [
    "df_combined.shape"
   ]
  },
  {
   "cell_type": "code",
   "execution_count": 23,
   "id": "7ceea449-55f1-4066-97da-0d6424bceb1b",
   "metadata": {},
   "outputs": [
    {
     "data": {
      "text/plain": [
       "34"
      ]
     },
     "execution_count": 23,
     "metadata": {},
     "output_type": "execute_result"
    }
   ],
   "source": [
    "len(df_combined.columns)"
   ]
  },
  {
   "cell_type": "code",
   "execution_count": 24,
   "id": "1b6ca6c5-cb53-4367-88bb-bf52f5dd1242",
   "metadata": {},
   "outputs": [
    {
     "data": {
      "text/html": [
       "<div>\n",
       "<style scoped>\n",
       "    .dataframe tbody tr th:only-of-type {\n",
       "        vertical-align: middle;\n",
       "    }\n",
       "\n",
       "    .dataframe tbody tr th {\n",
       "        vertical-align: top;\n",
       "    }\n",
       "\n",
       "    .dataframe thead th {\n",
       "        text-align: right;\n",
       "    }\n",
       "</style>\n",
       "<table border=\"1\" class=\"dataframe\">\n",
       "  <thead>\n",
       "    <tr style=\"text-align: right;\">\n",
       "      <th></th>\n",
       "      <th>STUDENT_ID</th>\n",
       "      <th>HIGH_SCHOOL_CODE</th>\n",
       "      <th>FIRST_GENERATION</th>\n",
       "      <th>FIRST_TIME_STUDENT</th>\n",
       "      <th>HIGH_SCHOOL_GPA</th>\n",
       "      <th>AGE</th>\n",
       "      <th>TERM_CODE</th>\n",
       "      <th>TERM_RANK</th>\n",
       "      <th>SUBJECT</th>\n",
       "      <th>COURSE_NUMBER</th>\n",
       "      <th>...</th>\n",
       "      <th>SORTEST_TEST_DATE</th>\n",
       "      <th>SORTEST_TEST_SCORE</th>\n",
       "      <th>MAX_TEST_SCORE</th>\n",
       "      <th>MIN_TEST_SCORE</th>\n",
       "      <th>NORMALIZED_TEST_SCORE</th>\n",
       "      <th>NON_NUMERIC_SCORES</th>\n",
       "      <th>STVTESC_DESC</th>\n",
       "      <th>EXEMPTIONS</th>\n",
       "      <th>TEST_ATTEMPT_RANK</th>\n",
       "      <th>TEST_ATTEMPT_RANK_REVERSED</th>\n",
       "    </tr>\n",
       "  </thead>\n",
       "  <tbody>\n",
       "    <tr>\n",
       "      <th>0</th>\n",
       "      <td>C03153080</td>\n",
       "      <td>164085</td>\n",
       "      <td>NaN</td>\n",
       "      <td>NaN</td>\n",
       "      <td>NaN</td>\n",
       "      <td>43.0</td>\n",
       "      <td>202320</td>\n",
       "      <td>1</td>\n",
       "      <td>IVYT</td>\n",
       "      <td>111</td>\n",
       "      <td>...</td>\n",
       "      <td>2023-06-22 00:00:00.000 Z</td>\n",
       "      <td>8888.0</td>\n",
       "      <td>NaN</td>\n",
       "      <td>NaN</td>\n",
       "      <td>NaN</td>\n",
       "      <td>NaN</td>\n",
       "      <td>IVYT Competency</td>\n",
       "      <td>1</td>\n",
       "      <td>0</td>\n",
       "      <td>0</td>\n",
       "    </tr>\n",
       "    <tr>\n",
       "      <th>1</th>\n",
       "      <td>C03153363</td>\n",
       "      <td>NaN</td>\n",
       "      <td>1.0</td>\n",
       "      <td>1.0</td>\n",
       "      <td>NaN</td>\n",
       "      <td>59.0</td>\n",
       "      <td>202320</td>\n",
       "      <td>1</td>\n",
       "      <td>IVYT</td>\n",
       "      <td>111</td>\n",
       "      <td>...</td>\n",
       "      <td>2023-06-14 00:00:00.000 Z</td>\n",
       "      <td>8888.0</td>\n",
       "      <td>600.0</td>\n",
       "      <td>0.0</td>\n",
       "      <td>NaN</td>\n",
       "      <td>NaN</td>\n",
       "      <td>College Level Placement ENGL</td>\n",
       "      <td>1</td>\n",
       "      <td>0</td>\n",
       "      <td>0</td>\n",
       "    </tr>\n",
       "    <tr>\n",
       "      <th>2</th>\n",
       "      <td>C03153363</td>\n",
       "      <td>NaN</td>\n",
       "      <td>1.0</td>\n",
       "      <td>1.0</td>\n",
       "      <td>NaN</td>\n",
       "      <td>59.0</td>\n",
       "      <td>202320</td>\n",
       "      <td>1</td>\n",
       "      <td>IVYT</td>\n",
       "      <td>111</td>\n",
       "      <td>...</td>\n",
       "      <td>2023-06-14 00:00:00.000 Z</td>\n",
       "      <td>8888.0</td>\n",
       "      <td>540.0</td>\n",
       "      <td>0.0</td>\n",
       "      <td>NaN</td>\n",
       "      <td>NaN</td>\n",
       "      <td>College Level Placement MATH</td>\n",
       "      <td>1</td>\n",
       "      <td>0</td>\n",
       "      <td>0</td>\n",
       "    </tr>\n",
       "    <tr>\n",
       "      <th>3</th>\n",
       "      <td>C03153363</td>\n",
       "      <td>NaN</td>\n",
       "      <td>1.0</td>\n",
       "      <td>1.0</td>\n",
       "      <td>NaN</td>\n",
       "      <td>59.0</td>\n",
       "      <td>202320</td>\n",
       "      <td>1</td>\n",
       "      <td>FREN</td>\n",
       "      <td>101</td>\n",
       "      <td>...</td>\n",
       "      <td>2023-06-14 00:00:00.000 Z</td>\n",
       "      <td>8888.0</td>\n",
       "      <td>600.0</td>\n",
       "      <td>0.0</td>\n",
       "      <td>NaN</td>\n",
       "      <td>NaN</td>\n",
       "      <td>College Level Placement ENGL</td>\n",
       "      <td>1</td>\n",
       "      <td>0</td>\n",
       "      <td>0</td>\n",
       "    </tr>\n",
       "    <tr>\n",
       "      <th>4</th>\n",
       "      <td>C03153363</td>\n",
       "      <td>NaN</td>\n",
       "      <td>1.0</td>\n",
       "      <td>1.0</td>\n",
       "      <td>NaN</td>\n",
       "      <td>59.0</td>\n",
       "      <td>202320</td>\n",
       "      <td>1</td>\n",
       "      <td>FREN</td>\n",
       "      <td>101</td>\n",
       "      <td>...</td>\n",
       "      <td>2023-06-14 00:00:00.000 Z</td>\n",
       "      <td>8888.0</td>\n",
       "      <td>540.0</td>\n",
       "      <td>0.0</td>\n",
       "      <td>NaN</td>\n",
       "      <td>NaN</td>\n",
       "      <td>College Level Placement MATH</td>\n",
       "      <td>1</td>\n",
       "      <td>0</td>\n",
       "      <td>0</td>\n",
       "    </tr>\n",
       "    <tr>\n",
       "      <th>5</th>\n",
       "      <td>C03157436</td>\n",
       "      <td>NaN</td>\n",
       "      <td>1.0</td>\n",
       "      <td>1.0</td>\n",
       "      <td>NaN</td>\n",
       "      <td>45.0</td>\n",
       "      <td>202210</td>\n",
       "      <td>1</td>\n",
       "      <td>SVAD</td>\n",
       "      <td>150</td>\n",
       "      <td>...</td>\n",
       "      <td>2022-05-27 00:00:00.000 Z</td>\n",
       "      <td>8888.0</td>\n",
       "      <td>600.0</td>\n",
       "      <td>0.0</td>\n",
       "      <td>NaN</td>\n",
       "      <td>NaN</td>\n",
       "      <td>College Level Placement ENGL</td>\n",
       "      <td>1</td>\n",
       "      <td>0</td>\n",
       "      <td>0</td>\n",
       "    </tr>\n",
       "    <tr>\n",
       "      <th>6</th>\n",
       "      <td>C03157436</td>\n",
       "      <td>NaN</td>\n",
       "      <td>1.0</td>\n",
       "      <td>1.0</td>\n",
       "      <td>NaN</td>\n",
       "      <td>45.0</td>\n",
       "      <td>202210</td>\n",
       "      <td>1</td>\n",
       "      <td>SVAD</td>\n",
       "      <td>150</td>\n",
       "      <td>...</td>\n",
       "      <td>2022-05-27 00:00:00.000 Z</td>\n",
       "      <td>8888.0</td>\n",
       "      <td>540.0</td>\n",
       "      <td>0.0</td>\n",
       "      <td>NaN</td>\n",
       "      <td>NaN</td>\n",
       "      <td>College Level Placement MATH</td>\n",
       "      <td>1</td>\n",
       "      <td>0</td>\n",
       "      <td>0</td>\n",
       "    </tr>\n",
       "    <tr>\n",
       "      <th>7</th>\n",
       "      <td>C03154070</td>\n",
       "      <td>332275</td>\n",
       "      <td>0.0</td>\n",
       "      <td>1.0</td>\n",
       "      <td>NaN</td>\n",
       "      <td>69.0</td>\n",
       "      <td>202130</td>\n",
       "      <td>1</td>\n",
       "      <td>APHY</td>\n",
       "      <td>101</td>\n",
       "      <td>...</td>\n",
       "      <td>2022-10-17 05:02:00.000 Z</td>\n",
       "      <td>500.0</td>\n",
       "      <td>1000.0</td>\n",
       "      <td>0.0</td>\n",
       "      <td>0.500000</td>\n",
       "      <td>NaN</td>\n",
       "      <td>TEAS-Science</td>\n",
       "      <td>0</td>\n",
       "      <td>2</td>\n",
       "      <td>1</td>\n",
       "    </tr>\n",
       "    <tr>\n",
       "      <th>8</th>\n",
       "      <td>C03154070</td>\n",
       "      <td>332275</td>\n",
       "      <td>0.0</td>\n",
       "      <td>1.0</td>\n",
       "      <td>NaN</td>\n",
       "      <td>69.0</td>\n",
       "      <td>202130</td>\n",
       "      <td>1</td>\n",
       "      <td>APHY</td>\n",
       "      <td>101</td>\n",
       "      <td>...</td>\n",
       "      <td>2022-09-01 12:59:00.000 Z</td>\n",
       "      <td>568.0</td>\n",
       "      <td>1000.0</td>\n",
       "      <td>0.0</td>\n",
       "      <td>0.568000</td>\n",
       "      <td>NaN</td>\n",
       "      <td>TEAS-Science</td>\n",
       "      <td>0</td>\n",
       "      <td>1</td>\n",
       "      <td>2</td>\n",
       "    </tr>\n",
       "    <tr>\n",
       "      <th>9</th>\n",
       "      <td>C03154070</td>\n",
       "      <td>332275</td>\n",
       "      <td>0.0</td>\n",
       "      <td>1.0</td>\n",
       "      <td>NaN</td>\n",
       "      <td>69.0</td>\n",
       "      <td>202130</td>\n",
       "      <td>1</td>\n",
       "      <td>APHY</td>\n",
       "      <td>101</td>\n",
       "      <td>...</td>\n",
       "      <td>2021-12-16 00:00:00.000 Z</td>\n",
       "      <td>8888.0</td>\n",
       "      <td>600.0</td>\n",
       "      <td>0.0</td>\n",
       "      <td>NaN</td>\n",
       "      <td>NaN</td>\n",
       "      <td>College Level Placement ENGL</td>\n",
       "      <td>1</td>\n",
       "      <td>0</td>\n",
       "      <td>0</td>\n",
       "    </tr>\n",
       "    <tr>\n",
       "      <th>10</th>\n",
       "      <td>C03154070</td>\n",
       "      <td>332275</td>\n",
       "      <td>0.0</td>\n",
       "      <td>1.0</td>\n",
       "      <td>NaN</td>\n",
       "      <td>69.0</td>\n",
       "      <td>202130</td>\n",
       "      <td>1</td>\n",
       "      <td>APHY</td>\n",
       "      <td>101</td>\n",
       "      <td>...</td>\n",
       "      <td>2022-10-17 05:02:00.000 Z</td>\n",
       "      <td>382.0</td>\n",
       "      <td>1000.0</td>\n",
       "      <td>0.0</td>\n",
       "      <td>0.382000</td>\n",
       "      <td>NaN</td>\n",
       "      <td>TEAS-Mathematics</td>\n",
       "      <td>0</td>\n",
       "      <td>2</td>\n",
       "      <td>1</td>\n",
       "    </tr>\n",
       "    <tr>\n",
       "      <th>11</th>\n",
       "      <td>C03154070</td>\n",
       "      <td>332275</td>\n",
       "      <td>0.0</td>\n",
       "      <td>1.0</td>\n",
       "      <td>NaN</td>\n",
       "      <td>69.0</td>\n",
       "      <td>202130</td>\n",
       "      <td>1</td>\n",
       "      <td>APHY</td>\n",
       "      <td>101</td>\n",
       "      <td>...</td>\n",
       "      <td>2022-09-01 12:59:00.000 Z</td>\n",
       "      <td>412.0</td>\n",
       "      <td>1000.0</td>\n",
       "      <td>0.0</td>\n",
       "      <td>0.412000</td>\n",
       "      <td>NaN</td>\n",
       "      <td>TEAS-Mathematics</td>\n",
       "      <td>0</td>\n",
       "      <td>1</td>\n",
       "      <td>2</td>\n",
       "    </tr>\n",
       "    <tr>\n",
       "      <th>12</th>\n",
       "      <td>C03154070</td>\n",
       "      <td>332275</td>\n",
       "      <td>0.0</td>\n",
       "      <td>1.0</td>\n",
       "      <td>NaN</td>\n",
       "      <td>69.0</td>\n",
       "      <td>202130</td>\n",
       "      <td>1</td>\n",
       "      <td>APHY</td>\n",
       "      <td>101</td>\n",
       "      <td>...</td>\n",
       "      <td>2022-10-17 05:02:00.000 Z</td>\n",
       "      <td>NaN</td>\n",
       "      <td>NaN</td>\n",
       "      <td>NaN</td>\n",
       "      <td>NaN</td>\n",
       "      <td>PROFC</td>\n",
       "      <td>TEAS-Academic Readiness</td>\n",
       "      <td>0</td>\n",
       "      <td>2</td>\n",
       "      <td>1</td>\n",
       "    </tr>\n",
       "    <tr>\n",
       "      <th>13</th>\n",
       "      <td>C03154070</td>\n",
       "      <td>332275</td>\n",
       "      <td>0.0</td>\n",
       "      <td>1.0</td>\n",
       "      <td>NaN</td>\n",
       "      <td>69.0</td>\n",
       "      <td>202130</td>\n",
       "      <td>1</td>\n",
       "      <td>APHY</td>\n",
       "      <td>101</td>\n",
       "      <td>...</td>\n",
       "      <td>2022-09-01 12:59:00.000 Z</td>\n",
       "      <td>NaN</td>\n",
       "      <td>NaN</td>\n",
       "      <td>NaN</td>\n",
       "      <td>NaN</td>\n",
       "      <td>BASIC</td>\n",
       "      <td>TEAS-Academic Readiness</td>\n",
       "      <td>0</td>\n",
       "      <td>1</td>\n",
       "      <td>2</td>\n",
       "    </tr>\n",
       "    <tr>\n",
       "      <th>14</th>\n",
       "      <td>C03154070</td>\n",
       "      <td>332275</td>\n",
       "      <td>0.0</td>\n",
       "      <td>1.0</td>\n",
       "      <td>NaN</td>\n",
       "      <td>69.0</td>\n",
       "      <td>202130</td>\n",
       "      <td>1</td>\n",
       "      <td>APHY</td>\n",
       "      <td>101</td>\n",
       "      <td>...</td>\n",
       "      <td>2022-10-17 05:02:00.000 Z</td>\n",
       "      <td>593.0</td>\n",
       "      <td>988.0</td>\n",
       "      <td>0.0</td>\n",
       "      <td>0.600202</td>\n",
       "      <td>NaN</td>\n",
       "      <td>TEAS-Adj Indiv Total Score</td>\n",
       "      <td>0</td>\n",
       "      <td>2</td>\n",
       "      <td>1</td>\n",
       "    </tr>\n",
       "    <tr>\n",
       "      <th>15</th>\n",
       "      <td>C03154070</td>\n",
       "      <td>332275</td>\n",
       "      <td>0.0</td>\n",
       "      <td>1.0</td>\n",
       "      <td>NaN</td>\n",
       "      <td>69.0</td>\n",
       "      <td>202130</td>\n",
       "      <td>1</td>\n",
       "      <td>APHY</td>\n",
       "      <td>101</td>\n",
       "      <td>...</td>\n",
       "      <td>2022-09-01 12:59:00.000 Z</td>\n",
       "      <td>513.0</td>\n",
       "      <td>988.0</td>\n",
       "      <td>0.0</td>\n",
       "      <td>0.519231</td>\n",
       "      <td>NaN</td>\n",
       "      <td>TEAS-Adj Indiv Total Score</td>\n",
       "      <td>0</td>\n",
       "      <td>1</td>\n",
       "      <td>2</td>\n",
       "    </tr>\n",
       "    <tr>\n",
       "      <th>16</th>\n",
       "      <td>C03154070</td>\n",
       "      <td>332275</td>\n",
       "      <td>0.0</td>\n",
       "      <td>1.0</td>\n",
       "      <td>NaN</td>\n",
       "      <td>69.0</td>\n",
       "      <td>202130</td>\n",
       "      <td>1</td>\n",
       "      <td>APHY</td>\n",
       "      <td>101</td>\n",
       "      <td>...</td>\n",
       "      <td>2022-10-17 05:02:00.000 Z</td>\n",
       "      <td>758.0</td>\n",
       "      <td>1000.0</td>\n",
       "      <td>0.0</td>\n",
       "      <td>0.758000</td>\n",
       "      <td>NaN</td>\n",
       "      <td>TEAS-English</td>\n",
       "      <td>0</td>\n",
       "      <td>2</td>\n",
       "      <td>1</td>\n",
       "    </tr>\n",
       "    <tr>\n",
       "      <th>17</th>\n",
       "      <td>C03154070</td>\n",
       "      <td>332275</td>\n",
       "      <td>0.0</td>\n",
       "      <td>1.0</td>\n",
       "      <td>NaN</td>\n",
       "      <td>69.0</td>\n",
       "      <td>202130</td>\n",
       "      <td>1</td>\n",
       "      <td>APHY</td>\n",
       "      <td>101</td>\n",
       "      <td>...</td>\n",
       "      <td>2022-09-01 12:59:00.000 Z</td>\n",
       "      <td>667.0</td>\n",
       "      <td>1000.0</td>\n",
       "      <td>0.0</td>\n",
       "      <td>0.667000</td>\n",
       "      <td>NaN</td>\n",
       "      <td>TEAS-English</td>\n",
       "      <td>0</td>\n",
       "      <td>1</td>\n",
       "      <td>2</td>\n",
       "    </tr>\n",
       "    <tr>\n",
       "      <th>18</th>\n",
       "      <td>C03154070</td>\n",
       "      <td>332275</td>\n",
       "      <td>0.0</td>\n",
       "      <td>1.0</td>\n",
       "      <td>NaN</td>\n",
       "      <td>69.0</td>\n",
       "      <td>202130</td>\n",
       "      <td>1</td>\n",
       "      <td>APHY</td>\n",
       "      <td>101</td>\n",
       "      <td>...</td>\n",
       "      <td>2022-10-17 05:02:00.000 Z</td>\n",
       "      <td>769.0</td>\n",
       "      <td>1000.0</td>\n",
       "      <td>0.0</td>\n",
       "      <td>0.769000</td>\n",
       "      <td>NaN</td>\n",
       "      <td>TEAS-Reading</td>\n",
       "      <td>0</td>\n",
       "      <td>2</td>\n",
       "      <td>1</td>\n",
       "    </tr>\n",
       "    <tr>\n",
       "      <th>19</th>\n",
       "      <td>C03154070</td>\n",
       "      <td>332275</td>\n",
       "      <td>0.0</td>\n",
       "      <td>1.0</td>\n",
       "      <td>NaN</td>\n",
       "      <td>69.0</td>\n",
       "      <td>202130</td>\n",
       "      <td>1</td>\n",
       "      <td>APHY</td>\n",
       "      <td>101</td>\n",
       "      <td>...</td>\n",
       "      <td>2022-09-01 12:59:00.000 Z</td>\n",
       "      <td>436.0</td>\n",
       "      <td>1000.0</td>\n",
       "      <td>0.0</td>\n",
       "      <td>0.436000</td>\n",
       "      <td>NaN</td>\n",
       "      <td>TEAS-Reading</td>\n",
       "      <td>0</td>\n",
       "      <td>1</td>\n",
       "      <td>2</td>\n",
       "    </tr>\n",
       "  </tbody>\n",
       "</table>\n",
       "<p>20 rows × 34 columns</p>\n",
       "</div>"
      ],
      "text/plain": [
       "   STUDENT_ID HIGH_SCHOOL_CODE  FIRST_GENERATION  FIRST_TIME_STUDENT  \\\n",
       "0   C03153080           164085               NaN                 NaN   \n",
       "1   C03153363              NaN               1.0                 1.0   \n",
       "2   C03153363              NaN               1.0                 1.0   \n",
       "3   C03153363              NaN               1.0                 1.0   \n",
       "4   C03153363              NaN               1.0                 1.0   \n",
       "5   C03157436              NaN               1.0                 1.0   \n",
       "6   C03157436              NaN               1.0                 1.0   \n",
       "7   C03154070           332275               0.0                 1.0   \n",
       "8   C03154070           332275               0.0                 1.0   \n",
       "9   C03154070           332275               0.0                 1.0   \n",
       "10  C03154070           332275               0.0                 1.0   \n",
       "11  C03154070           332275               0.0                 1.0   \n",
       "12  C03154070           332275               0.0                 1.0   \n",
       "13  C03154070           332275               0.0                 1.0   \n",
       "14  C03154070           332275               0.0                 1.0   \n",
       "15  C03154070           332275               0.0                 1.0   \n",
       "16  C03154070           332275               0.0                 1.0   \n",
       "17  C03154070           332275               0.0                 1.0   \n",
       "18  C03154070           332275               0.0                 1.0   \n",
       "19  C03154070           332275               0.0                 1.0   \n",
       "\n",
       "   HIGH_SCHOOL_GPA   AGE  TERM_CODE  TERM_RANK SUBJECT COURSE_NUMBER  ...  \\\n",
       "0              NaN  43.0     202320          1    IVYT           111  ...   \n",
       "1              NaN  59.0     202320          1    IVYT           111  ...   \n",
       "2              NaN  59.0     202320          1    IVYT           111  ...   \n",
       "3              NaN  59.0     202320          1    FREN           101  ...   \n",
       "4              NaN  59.0     202320          1    FREN           101  ...   \n",
       "5              NaN  45.0     202210          1    SVAD           150  ...   \n",
       "6              NaN  45.0     202210          1    SVAD           150  ...   \n",
       "7              NaN  69.0     202130          1    APHY           101  ...   \n",
       "8              NaN  69.0     202130          1    APHY           101  ...   \n",
       "9              NaN  69.0     202130          1    APHY           101  ...   \n",
       "10             NaN  69.0     202130          1    APHY           101  ...   \n",
       "11             NaN  69.0     202130          1    APHY           101  ...   \n",
       "12             NaN  69.0     202130          1    APHY           101  ...   \n",
       "13             NaN  69.0     202130          1    APHY           101  ...   \n",
       "14             NaN  69.0     202130          1    APHY           101  ...   \n",
       "15             NaN  69.0     202130          1    APHY           101  ...   \n",
       "16             NaN  69.0     202130          1    APHY           101  ...   \n",
       "17             NaN  69.0     202130          1    APHY           101  ...   \n",
       "18             NaN  69.0     202130          1    APHY           101  ...   \n",
       "19             NaN  69.0     202130          1    APHY           101  ...   \n",
       "\n",
       "            SORTEST_TEST_DATE SORTEST_TEST_SCORE  MAX_TEST_SCORE  \\\n",
       "0   2023-06-22 00:00:00.000 Z             8888.0             NaN   \n",
       "1   2023-06-14 00:00:00.000 Z             8888.0           600.0   \n",
       "2   2023-06-14 00:00:00.000 Z             8888.0           540.0   \n",
       "3   2023-06-14 00:00:00.000 Z             8888.0           600.0   \n",
       "4   2023-06-14 00:00:00.000 Z             8888.0           540.0   \n",
       "5   2022-05-27 00:00:00.000 Z             8888.0           600.0   \n",
       "6   2022-05-27 00:00:00.000 Z             8888.0           540.0   \n",
       "7   2022-10-17 05:02:00.000 Z              500.0          1000.0   \n",
       "8   2022-09-01 12:59:00.000 Z              568.0          1000.0   \n",
       "9   2021-12-16 00:00:00.000 Z             8888.0           600.0   \n",
       "10  2022-10-17 05:02:00.000 Z              382.0          1000.0   \n",
       "11  2022-09-01 12:59:00.000 Z              412.0          1000.0   \n",
       "12  2022-10-17 05:02:00.000 Z                NaN             NaN   \n",
       "13  2022-09-01 12:59:00.000 Z                NaN             NaN   \n",
       "14  2022-10-17 05:02:00.000 Z              593.0           988.0   \n",
       "15  2022-09-01 12:59:00.000 Z              513.0           988.0   \n",
       "16  2022-10-17 05:02:00.000 Z              758.0          1000.0   \n",
       "17  2022-09-01 12:59:00.000 Z              667.0          1000.0   \n",
       "18  2022-10-17 05:02:00.000 Z              769.0          1000.0   \n",
       "19  2022-09-01 12:59:00.000 Z              436.0          1000.0   \n",
       "\n",
       "    MIN_TEST_SCORE  NORMALIZED_TEST_SCORE  NON_NUMERIC_SCORES  \\\n",
       "0              NaN                    NaN                 NaN   \n",
       "1              0.0                    NaN                 NaN   \n",
       "2              0.0                    NaN                 NaN   \n",
       "3              0.0                    NaN                 NaN   \n",
       "4              0.0                    NaN                 NaN   \n",
       "5              0.0                    NaN                 NaN   \n",
       "6              0.0                    NaN                 NaN   \n",
       "7              0.0               0.500000                 NaN   \n",
       "8              0.0               0.568000                 NaN   \n",
       "9              0.0                    NaN                 NaN   \n",
       "10             0.0               0.382000                 NaN   \n",
       "11             0.0               0.412000                 NaN   \n",
       "12             NaN                    NaN               PROFC   \n",
       "13             NaN                    NaN               BASIC   \n",
       "14             0.0               0.600202                 NaN   \n",
       "15             0.0               0.519231                 NaN   \n",
       "16             0.0               0.758000                 NaN   \n",
       "17             0.0               0.667000                 NaN   \n",
       "18             0.0               0.769000                 NaN   \n",
       "19             0.0               0.436000                 NaN   \n",
       "\n",
       "                    STVTESC_DESC EXEMPTIONS TEST_ATTEMPT_RANK  \\\n",
       "0                IVYT Competency          1                 0   \n",
       "1   College Level Placement ENGL          1                 0   \n",
       "2   College Level Placement MATH          1                 0   \n",
       "3   College Level Placement ENGL          1                 0   \n",
       "4   College Level Placement MATH          1                 0   \n",
       "5   College Level Placement ENGL          1                 0   \n",
       "6   College Level Placement MATH          1                 0   \n",
       "7                   TEAS-Science          0                 2   \n",
       "8                   TEAS-Science          0                 1   \n",
       "9   College Level Placement ENGL          1                 0   \n",
       "10              TEAS-Mathematics          0                 2   \n",
       "11              TEAS-Mathematics          0                 1   \n",
       "12       TEAS-Academic Readiness          0                 2   \n",
       "13       TEAS-Academic Readiness          0                 1   \n",
       "14    TEAS-Adj Indiv Total Score          0                 2   \n",
       "15    TEAS-Adj Indiv Total Score          0                 1   \n",
       "16                  TEAS-English          0                 2   \n",
       "17                  TEAS-English          0                 1   \n",
       "18                  TEAS-Reading          0                 2   \n",
       "19                  TEAS-Reading          0                 1   \n",
       "\n",
       "   TEST_ATTEMPT_RANK_REVERSED  \n",
       "0                           0  \n",
       "1                           0  \n",
       "2                           0  \n",
       "3                           0  \n",
       "4                           0  \n",
       "5                           0  \n",
       "6                           0  \n",
       "7                           1  \n",
       "8                           2  \n",
       "9                           0  \n",
       "10                          1  \n",
       "11                          2  \n",
       "12                          1  \n",
       "13                          2  \n",
       "14                          1  \n",
       "15                          2  \n",
       "16                          1  \n",
       "17                          2  \n",
       "18                          1  \n",
       "19                          2  \n",
       "\n",
       "[20 rows x 34 columns]"
      ]
     },
     "execution_count": 24,
     "metadata": {},
     "output_type": "execute_result"
    }
   ],
   "source": [
    "df_combined.head(20)"
   ]
  },
  {
   "cell_type": "code",
   "execution_count": 25,
   "id": "1c06909a-eeb8-403d-a623-1d99bb229e60",
   "metadata": {},
   "outputs": [
    {
     "name": "stdout",
     "output_type": "stream",
     "text": [
      "STUDENT_ID-----dtype------->>>>>object\n",
      "HIGH_SCHOOL_CODE-----dtype------->>>>>object\n",
      "FIRST_GENERATION-----dtype------->>>>>float64\n",
      "FIRST_TIME_STUDENT-----dtype------->>>>>float64\n",
      "HIGH_SCHOOL_GPA-----dtype------->>>>>object\n",
      "AGE-----dtype------->>>>>float64\n",
      "TERM_CODE-----dtype------->>>>>int64\n",
      "TERM_RANK-----dtype------->>>>>int64\n",
      "SUBJECT-----dtype------->>>>>object\n",
      "COURSE_NUMBER-----dtype------->>>>>object\n",
      "COURSE_TITLE-----dtype------->>>>>object\n",
      "FINAL_GRADE-----dtype------->>>>>object\n",
      "CREDIT_HOURS-----dtype------->>>>>float64\n",
      "ATTEMPTED_HOURS-----dtype------->>>>>float64\n",
      "EARNED_HOURS-----dtype------->>>>>float64\n",
      "SHRTGPA_PIDM-----dtype------->>>>>int64\n",
      "COURSE_REPEAT-----dtype------->>>>>object\n",
      "COLLEGE_CODE-----dtype------->>>>>object\n",
      "MAJOR_CODE-----dtype------->>>>>object\n",
      "DEGREE-----dtype------->>>>>object\n",
      "SGBSTDN_MAJR_CODE_MINR_1-----dtype------->>>>>float64\n",
      "SGBSTDN_PROGRAM_1-----dtype------->>>>>object\n",
      "SORTEST_PIDM-----dtype------->>>>>int64\n",
      "SORTEST_TESC_CODE-----dtype------->>>>>object\n",
      "SORTEST_TEST_DATE-----dtype------->>>>>object\n",
      "SORTEST_TEST_SCORE-----dtype------->>>>>float64\n",
      "MAX_TEST_SCORE-----dtype------->>>>>float64\n",
      "MIN_TEST_SCORE-----dtype------->>>>>float64\n",
      "NORMALIZED_TEST_SCORE-----dtype------->>>>>float64\n",
      "NON_NUMERIC_SCORES-----dtype------->>>>>object\n",
      "STVTESC_DESC-----dtype------->>>>>object\n",
      "EXEMPTIONS-----dtype------->>>>>int64\n",
      "TEST_ATTEMPT_RANK-----dtype------->>>>>int64\n",
      "TEST_ATTEMPT_RANK_REVERSED-----dtype------->>>>>int64\n"
     ]
    }
   ],
   "source": [
    "for col in df_combined.columns:\n",
    "    print(col+'-----dtype------->>>>>'+str(df_combined[col].dtype))"
   ]
  },
  {
   "cell_type": "code",
   "execution_count": 31,
   "id": "6ed165ee-4caf-4763-8356-f74bea35da8e",
   "metadata": {},
   "outputs": [
    {
     "name": "stdout",
     "output_type": "stream",
     "text": [
      "STUDENT_ID------dtpe------>>>>>>150201___(1642215, 34)___is_na_%__0.0___percentage_unique__9.146244553849527\n",
      "HIGH_SCHOOL_CODE------dtpe------>>>>>>5812___(1642215, 34)___is_na_%__2.633638104633072___percentage_unique__0.35391224656942\n",
      "HIGH_SCHOOL_GPA------dtpe------>>>>>>4667___(1642215, 34)___is_na_%__81.26773899885215___percentage_unique__0.2841893418340473\n",
      "SUBJECT------dtpe------>>>>>>133___(1642215, 34)___is_na_%__0.0___percentage_unique__0.008098817755287828\n",
      "COURSE_NUMBER------dtpe------>>>>>>306___(1642215, 34)___is_na_%__0.0___percentage_unique__0.018633370173820114\n",
      "COURSE_TITLE------dtpe------>>>>>>1099___(1642215, 34)___is_na_%__0.0___percentage_unique__0.06692180987264153\n",
      "FINAL_GRADE------dtpe------>>>>>>22___(1642215, 34)___is_na_%__0.0___percentage_unique__0.0013396540647844528\n",
      "COURSE_REPEAT------dtpe------>>>>>>2___(1642215, 34)___is_na_%__95.42057525963409___percentage_unique__0.00012178673316222298\n",
      "COLLEGE_CODE------dtpe------>>>>>>2___(1642215, 34)___is_na_%__0.004384322393840027___percentage_unique__0.00012178673316222298\n",
      "MAJOR_CODE------dtpe------>>>>>>420___(1642215, 34)___is_na_%__0.0___percentage_unique__0.025575213964066826\n",
      "DEGREE------dtpe------>>>>>>9___(1642215, 34)___is_na_%__0.0___percentage_unique__0.0005480402992300034\n",
      "SGBSTDN_PROGRAM_1------dtpe------>>>>>>3557___(1642215, 34)___is_na_%__0.0___percentage_unique__0.21659770492901356\n",
      "SORTEST_TESC_CODE------dtpe------>>>>>>318___(1642215, 34)___is_na_%__0.0___percentage_unique__0.019364090572793452\n",
      "SORTEST_TEST_DATE------dtpe------>>>>>>319506___(1642215, 34)___is_na_%__0.0___percentage_unique__19.455795982864608\n",
      "NON_NUMERIC_SCORES------dtpe------>>>>>>22___(1642215, 34)___is_na_%__96.18953669282037___percentage_unique__0.0013396540647844528\n",
      "STVTESC_DESC------dtpe------>>>>>>318___(1642215, 34)___is_na_%__0.0___percentage_unique__0.019364090572793452\n"
     ]
    }
   ],
   "source": [
    "for col in df_combined.columns:\n",
    "    if df_combined[col].dtype == 'object':\n",
    "        print(col+'------dtpe------>>>>>>'+str(df_combined[col].nunique())+'___'+str(df_combined.shape)+'___is_na_%__'+str((df_combined[col].isna().sum()/df_combined.shape[0])*100)+'___percentage_unique__'+str((df_combined[col].nunique()/df_combined.shape[0])*100))"
   ]
  },
  {
   "cell_type": "code",
   "execution_count": 32,
   "id": "d9d48690-2232-4f1b-b4c3-805b18e8edf6",
   "metadata": {},
   "outputs": [
    {
     "name": "stdout",
     "output_type": "stream",
     "text": [
      "HIGH_SCHOOL_GPA----81.26773899885215\n",
      "COURSE_REPEAT----95.42057525963409\n",
      "SGBSTDN_MAJR_CODE_MINR_1----100.0\n",
      "NON_NUMERIC_SCORES----96.18953669282037\n"
     ]
    }
   ],
   "source": [
    "for col in df_combined.columns:\n",
    "    if ((df_combined[col].isna().sum()/df_combined.shape[0])*100)>50:\n",
    "        print(str(col)+'----'+str((df_combined[col].isna().sum()/df_combined.shape[0])*100))\n",
    "    "
   ]
  },
  {
   "cell_type": "code",
   "execution_count": 33,
   "id": "249f52ee-94b1-4b09-92a1-c12114657792",
   "metadata": {},
   "outputs": [],
   "source": [
    "df_combined.drop(['COURSE_REPEAT','SGBSTDN_MAJR_CODE_MINR_1','NON_NUMERIC_SCORES'],axis = 1,inplace = True)"
   ]
  },
  {
   "cell_type": "code",
   "execution_count": 34,
   "id": "4936a432-cdbb-4f4b-a7f1-ddf3682fd381",
   "metadata": {},
   "outputs": [
    {
     "data": {
      "text/plain": [
       "STUDENT_ID                          0\n",
       "HIGH_SCHOOL_CODE                43250\n",
       "FIRST_GENERATION               676958\n",
       "FIRST_TIME_STUDENT             676958\n",
       "HIGH_SCHOOL_GPA               1334591\n",
       "AGE                                89\n",
       "TERM_CODE                           0\n",
       "TERM_RANK                           0\n",
       "SUBJECT                             0\n",
       "COURSE_NUMBER                       0\n",
       "COURSE_TITLE                        0\n",
       "FINAL_GRADE                         0\n",
       "CREDIT_HOURS                        0\n",
       "ATTEMPTED_HOURS                     0\n",
       "EARNED_HOURS                        0\n",
       "SHRTGPA_PIDM                        0\n",
       "COLLEGE_CODE                       72\n",
       "MAJOR_CODE                          0\n",
       "DEGREE                              0\n",
       "SGBSTDN_PROGRAM_1                   0\n",
       "SORTEST_PIDM                        0\n",
       "SORTEST_TESC_CODE                   0\n",
       "SORTEST_TEST_DATE                   0\n",
       "SORTEST_TEST_SCORE              34613\n",
       "MAX_TEST_SCORE                  38725\n",
       "MIN_TEST_SCORE                  38725\n",
       "NORMALIZED_TEST_SCORE          600076\n",
       "STVTESC_DESC                        0\n",
       "EXEMPTIONS                          0\n",
       "TEST_ATTEMPT_RANK                   0\n",
       "TEST_ATTEMPT_RANK_REVERSED          0\n",
       "dtype: int64"
      ]
     },
     "execution_count": 34,
     "metadata": {},
     "output_type": "execute_result"
    }
   ],
   "source": [
    "df_combined.isna().sum()"
   ]
  },
  {
   "cell_type": "markdown",
   "id": "47b4aab6-029e-4c1a-9617-4a2bd39251b0",
   "metadata": {},
   "source": [
    "## Function for converting the categorical into non categorical data"
   ]
  },
  {
   "cell_type": "code",
   "execution_count": 38,
   "id": "adb6243d-9ad7-4a22-8480-91dfbd35c01c",
   "metadata": {},
   "outputs": [],
   "source": [
    "from sklearn.preprocessing import LabelEncoder, OneHotEncoder"
   ]
  },
  {
   "cell_type": "code",
   "execution_count": 40,
   "id": "1b494ffb-afca-4566-a790-4956bcb9cd13",
   "metadata": {},
   "outputs": [],
   "source": [
    "df_combined['COLLEGE_CODE'] = df_combined['COLLEGE_CODE'].astype(str)"
   ]
  },
  {
   "cell_type": "code",
   "execution_count": 41,
   "id": "d552f00d-88ff-4c5b-8297-ac9e3f3f56ec",
   "metadata": {},
   "outputs": [],
   "source": [
    "import pandas as pd\n",
    "from sklearn.preprocessing import LabelEncoder\n",
    "\n",
    "def numeric_value_conv(df):\n",
    "    df_copy = df.copy()\n",
    "    for col in df_copy.columns:\n",
    "        try:\n",
    "            print(col)\n",
    "            if df_copy[col].dtype == 'object' and col!='STUDENT_ID':\n",
    "                if df_copy[col].nunique() <= 25 and col!= 'FINAL_GRADE' :\n",
    "                    one_hot_encoder = pd.get_dummies(df_copy[col], prefix=col)\n",
    "                    df_copy = pd.concat([df_copy, one_hot_encoder], axis=1)\n",
    "                else:\n",
    "                    label_encoder = LabelEncoder()\n",
    "                    df_copy[col] = label_encoder.fit_transform(df_copy[col])\n",
    "                print(f\"Processed column: {col}\")\n",
    "        except Exception as e:\n",
    "            print(f\"Error processing column {col}: {e}\")\n",
    "            pass\n",
    "    \n",
    "    return df_copy\n",
    "\n",
    "\n"
   ]
  },
  {
   "cell_type": "code",
   "execution_count": 43,
   "id": "dadccd3a-6145-4e5b-98ff-bd11edcb1b74",
   "metadata": {},
   "outputs": [
    {
     "name": "stdout",
     "output_type": "stream",
     "text": [
      "STUDENT_ID\n",
      "HIGH_SCHOOL_CODE\n",
      "Processed column: HIGH_SCHOOL_CODE\n",
      "FIRST_GENERATION\n",
      "FIRST_TIME_STUDENT\n",
      "HIGH_SCHOOL_GPA\n",
      "Error processing column HIGH_SCHOOL_GPA: Encoders require their input argument must be uniformly strings or numbers. Got ['float', 'str']\n",
      "AGE\n",
      "TERM_CODE\n",
      "TERM_RANK\n",
      "SUBJECT\n",
      "Processed column: SUBJECT\n",
      "COURSE_NUMBER\n",
      "Error processing column COURSE_NUMBER: Encoders require their input argument must be uniformly strings or numbers. Got ['int', 'str']\n",
      "COURSE_TITLE\n",
      "Processed column: COURSE_TITLE\n",
      "FINAL_GRADE\n",
      "Processed column: FINAL_GRADE\n",
      "CREDIT_HOURS\n",
      "ATTEMPTED_HOURS\n",
      "EARNED_HOURS\n",
      "SHRTGPA_PIDM\n",
      "COLLEGE_CODE\n",
      "Processed column: COLLEGE_CODE\n",
      "MAJOR_CODE\n",
      "Processed column: MAJOR_CODE\n",
      "DEGREE\n",
      "Processed column: DEGREE\n",
      "SGBSTDN_PROGRAM_1\n",
      "Processed column: SGBSTDN_PROGRAM_1\n",
      "SORTEST_PIDM\n",
      "SORTEST_TESC_CODE\n",
      "Processed column: SORTEST_TESC_CODE\n",
      "SORTEST_TEST_DATE\n",
      "Processed column: SORTEST_TEST_DATE\n",
      "SORTEST_TEST_SCORE\n",
      "MAX_TEST_SCORE\n",
      "MIN_TEST_SCORE\n",
      "NORMALIZED_TEST_SCORE\n",
      "STVTESC_DESC\n",
      "Processed column: STVTESC_DESC\n",
      "EXEMPTIONS\n",
      "TEST_ATTEMPT_RANK\n",
      "TEST_ATTEMPT_RANK_REVERSED\n"
     ]
    }
   ],
   "source": [
    "df_combined = numeric_value_conv(df_combined)"
   ]
  },
  {
   "cell_type": "code",
   "execution_count": 44,
   "id": "bfc87b46-266a-4058-a2eb-6efe1a5d0fcf",
   "metadata": {},
   "outputs": [
    {
     "name": "stdout",
     "output_type": "stream",
     "text": [
      "STUDENT_ID------dtpe------>>>>>>150201___(1642215, 43)___is_na_%__0.0___percentage_unique__9.146244553849527\n",
      "HIGH_SCHOOL_GPA------dtpe------>>>>>>4667___(1642215, 43)___is_na_%__81.26773899885215___percentage_unique__0.2841893418340473\n",
      "COURSE_NUMBER------dtpe------>>>>>>306___(1642215, 43)___is_na_%__0.0___percentage_unique__0.018633370173820114\n",
      "COLLEGE_CODE------dtpe------>>>>>>3___(1642215, 43)___is_na_%__0.0___percentage_unique__0.00018268009974333445\n",
      "DEGREE------dtpe------>>>>>>9___(1642215, 43)___is_na_%__0.0___percentage_unique__0.0005480402992300034\n"
     ]
    }
   ],
   "source": [
    "for col in df_combined.columns:\n",
    "    if df_combined[col].dtype == 'object':\n",
    "        print(col+'------dtpe------>>>>>>'+str(df_combined[col].nunique())+'___'+str(df_combined.shape)+'___is_na_%__'+str((df_combined[col].isna().sum()/df_combined.shape[0])*100)+'___percentage_unique__'+str((df_combined[col].nunique()/df_combined.shape[0])*100))"
   ]
  },
  {
   "cell_type": "code",
   "execution_count": 48,
   "id": "646f649d-3266-4655-9534-88a6ac2a7ea2",
   "metadata": {},
   "outputs": [],
   "source": [
    "df_combined['COURSE_NUMBER'] = df_combined['COURSE_NUMBER'].astype(str)"
   ]
  },
  {
   "cell_type": "code",
   "execution_count": 49,
   "id": "54516753-2a6a-47d3-ab53-8f7532980035",
   "metadata": {},
   "outputs": [],
   "source": [
    "def replace_alphabets_with_ascii(s):\n",
    "    return ''.join(str(ord(char)) if char.isalpha() else char for char in s)"
   ]
  },
  {
   "cell_type": "code",
   "execution_count": 50,
   "id": "b9833ee4-7ffc-4ae1-ac98-a022dc2f4ea3",
   "metadata": {},
   "outputs": [],
   "source": [
    "df_combined['COURSE_NUMBER'] = df_combined['COURSE_NUMBER'].apply(replace_alphabets_with_ascii)"
   ]
  },
  {
   "cell_type": "code",
   "execution_count": 51,
   "id": "28f5fba5-af8a-4a54-8b6c-c06c115ae950",
   "metadata": {},
   "outputs": [],
   "source": [
    "df_combined['COURSE_NUMBER'] = df_combined['COURSE_NUMBER'].astype(int)"
   ]
  },
  {
   "cell_type": "code",
   "execution_count": 52,
   "id": "77537f99-751c-483c-a90d-62be9f983b72",
   "metadata": {},
   "outputs": [
    {
     "data": {
      "text/plain": [
       "array([  111,   101,   150,   102,   211,   212,   110,   205,   280,\n",
       "         113,   213,   240,   115,   109,   103, 11172,   120,   123,\n",
       "         136,   134,   132,   105,   121,   112,   170,    23,   207,\n",
       "         106,   122,   218,   100,    75,   167,   165,   252,   208,\n",
       "         215,   104,   223,   201,   250,   220,   125,   117,   108,\n",
       "         127,   227,   260,   234,   254,   203,   209,   114,   253,\n",
       "          95,   225,   107,   202,   124,   204,   153,    43,   200,\n",
       "         130,   135,   206,    81,   141,   262,   145,   148,   116,\n",
       "         133,   279,   221,   164,   171,   228,   160,   126,   161,\n",
       "         169,    73,    53,   265,   118,   152,   151,   281,   163,\n",
       "         264,   261,   137,   154,   143,   271,   214,   210,   293,\n",
       "         140,   231,   216,   219,   222,   232,   131,   229,   155,\n",
       "       20272,   294,   195,    80,    51,   217,   272,   175, 10272,\n",
       "          72,    52,   180,   284,   273,   267, 17172,   269,   224,\n",
       "       10172,   233,   255,   230,   119,   288,   149,   172,    41,\n",
       "          62,    42,    63,   199,   196,   257,   142,   146,    71,\n",
       "          61,   144,   245,   285,   299,   242,   235, 21172,   251,\n",
       "       20572,   263,   249,   129,   270,   128,   239,   190,   259,\n",
       "         238, 20172,   138, 24572,   176,   197,   290,   173,   283,\n",
       "         297,   147,    67,   185,   189,    83,   266,   236,   282])"
      ]
     },
     "execution_count": 52,
     "metadata": {},
     "output_type": "execute_result"
    }
   ],
   "source": [
    "df_combined['COURSE_NUMBER'].unique()"
   ]
  },
  {
   "cell_type": "code",
   "execution_count": 53,
   "id": "f817859f-95cd-42f5-973a-00c9133cce82",
   "metadata": {},
   "outputs": [
    {
     "data": {
      "text/plain": [
       "Index(['STUDENT_ID', 'HIGH_SCHOOL_CODE', 'FIRST_GENERATION',\n",
       "       'FIRST_TIME_STUDENT', 'HIGH_SCHOOL_GPA', 'AGE', 'TERM_CODE',\n",
       "       'TERM_RANK', 'SUBJECT', 'COURSE_NUMBER', 'COURSE_TITLE', 'FINAL_GRADE',\n",
       "       'CREDIT_HOURS', 'ATTEMPTED_HOURS', 'EARNED_HOURS', 'SHRTGPA_PIDM',\n",
       "       'COLLEGE_CODE', 'MAJOR_CODE', 'DEGREE', 'SGBSTDN_PROGRAM_1',\n",
       "       'SORTEST_PIDM', 'SORTEST_TESC_CODE', 'SORTEST_TEST_DATE',\n",
       "       'SORTEST_TEST_SCORE', 'MAX_TEST_SCORE', 'MIN_TEST_SCORE',\n",
       "       'NORMALIZED_TEST_SCORE', 'STVTESC_DESC', 'EXEMPTIONS',\n",
       "       'TEST_ATTEMPT_RANK', 'TEST_ATTEMPT_RANK_REVERSED', 'COLLEGE_CODE_AS',\n",
       "       'COLLEGE_CODE_IV', 'COLLEGE_CODE_nan', 'DEGREE_AA', 'DEGREE_AAS',\n",
       "       'DEGREE_AFA', 'DEGREE_AGS', 'DEGREE_AS', 'DEGREE_CO', 'DEGREE_CT',\n",
       "       'DEGREE_NC', 'DEGREE_TC'],\n",
       "      dtype='object')"
      ]
     },
     "execution_count": 53,
     "metadata": {},
     "output_type": "execute_result"
    }
   ],
   "source": [
    "df_combined.columns"
   ]
  },
  {
   "cell_type": "code",
   "execution_count": 54,
   "id": "141a7d21-4512-4a93-8a33-9629fa0b8a79",
   "metadata": {},
   "outputs": [
    {
     "name": "stdout",
     "output_type": "stream",
     "text": [
      "STUDENT_ID------dtpe------>>>>>>150201___(1642215, 43)___is_na_%__0.0___percentage_unique__9.146244553849527\n",
      "HIGH_SCHOOL_GPA------dtpe------>>>>>>4667___(1642215, 43)___is_na_%__81.26773899885215___percentage_unique__0.2841893418340473\n",
      "COLLEGE_CODE------dtpe------>>>>>>3___(1642215, 43)___is_na_%__0.0___percentage_unique__0.00018268009974333445\n",
      "DEGREE------dtpe------>>>>>>9___(1642215, 43)___is_na_%__0.0___percentage_unique__0.0005480402992300034\n"
     ]
    }
   ],
   "source": [
    "for col in df_combined.columns:\n",
    "    if df_combined[col].dtype == 'object':\n",
    "        print(col+'------dtpe------>>>>>>'+str(df_combined[col].nunique())+'___'+str(df_combined.shape)+'___is_na_%__'+str((df_combined[col].isna().sum()/df_combined.shape[0])*100)+'___percentage_unique__'+str((df_combined[col].nunique()/df_combined.shape[0])*100))"
   ]
  },
  {
   "cell_type": "code",
   "execution_count": 55,
   "id": "35550481-c693-44e9-becb-f39763bc3bfd",
   "metadata": {},
   "outputs": [
    {
     "data": {
      "text/plain": [
       "Index(['STUDENT_ID', 'HIGH_SCHOOL_CODE', 'FIRST_GENERATION',\n",
       "       'FIRST_TIME_STUDENT', 'HIGH_SCHOOL_GPA', 'AGE', 'TERM_CODE',\n",
       "       'TERM_RANK', 'SUBJECT', 'COURSE_NUMBER', 'COURSE_TITLE', 'FINAL_GRADE',\n",
       "       'CREDIT_HOURS', 'ATTEMPTED_HOURS', 'EARNED_HOURS', 'SHRTGPA_PIDM',\n",
       "       'COLLEGE_CODE', 'MAJOR_CODE', 'DEGREE', 'SGBSTDN_PROGRAM_1',\n",
       "       'SORTEST_PIDM', 'SORTEST_TESC_CODE', 'SORTEST_TEST_DATE',\n",
       "       'SORTEST_TEST_SCORE', 'MAX_TEST_SCORE', 'MIN_TEST_SCORE',\n",
       "       'NORMALIZED_TEST_SCORE', 'STVTESC_DESC', 'EXEMPTIONS',\n",
       "       'TEST_ATTEMPT_RANK', 'TEST_ATTEMPT_RANK_REVERSED', 'COLLEGE_CODE_AS',\n",
       "       'COLLEGE_CODE_IV', 'COLLEGE_CODE_nan', 'DEGREE_AA', 'DEGREE_AAS',\n",
       "       'DEGREE_AFA', 'DEGREE_AGS', 'DEGREE_AS', 'DEGREE_CO', 'DEGREE_CT',\n",
       "       'DEGREE_NC', 'DEGREE_TC'],\n",
       "      dtype='object')"
      ]
     },
     "execution_count": 55,
     "metadata": {},
     "output_type": "execute_result"
    }
   ],
   "source": [
    "df_combined.columns"
   ]
  },
  {
   "cell_type": "code",
   "execution_count": 56,
   "id": "70cf358d-f9bf-4dea-9e3e-dd3a47747967",
   "metadata": {},
   "outputs": [
    {
     "data": {
      "text/plain": [
       "array([20,  0,  3, 21,  2,  6,  8,  4, 14, 18, 15, 17,  1, 19, 16, 11, 10,\n",
       "       13,  7,  9, 12,  5])"
      ]
     },
     "execution_count": 56,
     "metadata": {},
     "output_type": "execute_result"
    }
   ],
   "source": [
    "df_combined.FINAL_GRADE.unique()"
   ]
  },
  {
   "cell_type": "code",
   "execution_count": 57,
   "id": "eadb3d4d-c826-4193-a87f-d988768934a5",
   "metadata": {},
   "outputs": [],
   "source": [
    "df_combined['HIGH_SCHOOL_GPA'] = df_combined['HIGH_SCHOOL_GPA'].astype(str)"
   ]
  },
  {
   "cell_type": "code",
   "execution_count": 59,
   "id": "4b728e04-e3a5-4532-9dcb-a6418e650ade",
   "metadata": {},
   "outputs": [],
   "source": [
    "def extract_numeric(value):\n",
    "    try:\n",
    "        # Extract numeric part from the string\n",
    "        numeric_part = ''.join(c if c.isdigit() or c == '.' else '' for c in value)\n",
    "        return float(numeric_part)\n",
    "    except ValueError:\n",
    "        # Handle cases where conversion fails\n",
    "        return None"
   ]
  },
  {
   "cell_type": "code",
   "execution_count": 63,
   "id": "9d13999d-6b99-4967-888f-5f5241b58b21",
   "metadata": {},
   "outputs": [],
   "source": [
    "df_combined['HIGH_SCHOOL_GPA'] = df_combined['HIGH_SCHOOL_GPA'].apply(extract_numeric)"
   ]
  },
  {
   "cell_type": "code",
   "execution_count": 71,
   "id": "92b6a6ce-baff-45b5-8171-2393c094b2df",
   "metadata": {},
   "outputs": [],
   "source": [
    "df_combined['HIGH_SCHOOL_GPA'] = df_combined['HIGH_SCHOOL_GPA'].astype(float)"
   ]
  },
  {
   "cell_type": "code",
   "execution_count": 75,
   "id": "e797739f-4b7a-4e1d-9dc2-e2128576d8bc",
   "metadata": {},
   "outputs": [
    {
     "data": {
      "text/plain": [
       "dtype('float64')"
      ]
     },
     "execution_count": 75,
     "metadata": {},
     "output_type": "execute_result"
    }
   ],
   "source": [
    "df_combined['HIGH_SCHOOL_GPA'].dtype"
   ]
  },
  {
   "cell_type": "code",
   "execution_count": 78,
   "id": "f7787ecb-830d-4f4a-9150-7b7181070459",
   "metadata": {},
   "outputs": [
    {
     "name": "stdout",
     "output_type": "stream",
     "text": [
      "no display found. Using non-interactive Agg backend\n"
     ]
    }
   ],
   "source": [
    "import os\n",
    "import matplotlib as mpl\n",
    "if os.environ.get('DISPLAY','') == '':\n",
    "    print('no display found. Using non-interactive Agg backend')\n",
    "    mpl.use('Agg')\n",
    "\n",
    "\n",
    "import matplotlib.pyplot as plt\n",
    "import pandas as pd\n",
    "import numpy as np"
   ]
  },
  {
   "cell_type": "code",
   "execution_count": 80,
   "id": "a2c3eaa3-de31-4bc0-bcf0-812ed910a0b8",
   "metadata": {},
   "outputs": [],
   "source": [
    "def ks_chart_function_max(data=None, targetvar=None, targetbase=None, idv_list=None):\n",
    "    base_df = data[(data[targetbase] == 1)]\n",
    "    base_df_numeric = base_df.select_dtypes(include=np.number)\n",
    "    for attr in idv_list:\n",
    "        kstable = ks_summ(data=base_df_numeric.fillna(0), target=targetvar, prob=attr)\n",
    "        kstable.to_csv(attr + '_kstable.csv', sep='|')\n",
    "        subdf = base_df[[targetvar, targetbase, attr]]\n",
    "        df = subdf.fillna(0)\n",
    "        mydf = df.sort_values(by=attr)\n",
    "        mydf = mydf.reset_index(drop=True)\n",
    "        ifd = mydf[targetvar]\n",
    "        mat = mydf[targetbase]\n",
    "        cg = []\n",
    "        cb = []\n",
    "        cg.append(mat[0] - ifd[0])\n",
    "        cb.append(ifd[0])\n",
    "        cgp = []\n",
    "        cbp = []\n",
    "        for i in range(1, len(ifd)):\n",
    "            cg.append(cg[i - 1] + mat[i] - ifd[i])\n",
    "            cb.append(cb[i - 1] + ifd[i])\n",
    "        #####################################\n",
    "        for i in range(0, len(ifd)):\n",
    "            cgp.append(cg[i] / float(cg[len(ifd) - 1]))\n",
    "            cbp.append(cb[i] / float(cb[len(ifd) - 1]))\n",
    "        ####################################\n",
    "        ks = []\n",
    "        for i in range(0, len(ifd)):\n",
    "            ks.append(cgp[i] - cbp[i])\n",
    "        ######################################\n",
    "        absks = [abs(x) for x in ks]\n",
    "        maxks = max(absks)\n",
    "        mydf['ks_value'] = absks\n",
    "        ks80 = mydf['ks_value'][round(0.8 * len(ifd))]\n",
    "        ks20 = mydf['ks_value'][round(0.2 * len(ifd))]\n",
    "        percentile80 = mydf[attr][round(0.8 * len(ifd))]\n",
    "        percentile20 = mydf[attr][round(0.2 * len(ifd))]\n",
    "        subset_20df = mydf[mydf[attr] <= percentile20]\n",
    "        ifdsum20 = subset_20df[targetvar].sum()\n",
    "        matsum20 = subset_20df[targetbase].sum()\n",
    "        fpd20 = ifdsum20 / float(matsum20)\n",
    "        subset_80df = mydf[mydf[attr] <= percentile80]\n",
    "        ifdsum80 = subset_80df[targetvar].sum()\n",
    "        matsum80 = subset_80df[targetbase].sum()\n",
    "        fpd80 = ifdsum80 / float(matsum80)\n",
    "        if fpd80 >= fpd20:\n",
    "            highfpd = fpd80\n",
    "        else:\n",
    "            highfpd = fpd20\n",
    "        #####################################\n",
    "        plt.plot(mydf[attr], cgp, label=\"cumulative good\")\n",
    "        plt.plot(mydf[attr], cbp, label=\"cumulative bad\")\n",
    "        plt.xlim(mydf[attr].min(),mydf[attr][round(0.95 * len(ifd))])\n",
    "        plt.axvline(x=mydf[attr][round(0.8 * len(ifd))], label=\"80% of attr value\", color=\"red\")\n",
    "        plt.xlabel('attr value')\n",
    "        plt.ylabel('percentage')\n",
    "        ax = plt.gca()\n",
    "        plt.title(attr, wrap=True)\n",
    "        plt.text(0.6, 0.2,\n",
    "                 'maximum ks={Te_t},\\nks at 80%={Ke_k},\\nks at 20%={Me_m}\\n\\ntarget 80%={f_8},\\ntarget 20%={f_2}'.format(\n",
    "                     Te_t=round(maxks, 3), Ke_k=round(ks80, 3), Me_m=round(ks20, 3), f_8=round(fpd80, 3),\n",
    "                     f_2=round(fpd20, 3)), transform=ax.transAxes, fontsize=10, wrap=True)\n",
    "        plt.legend()\n",
    "        plt.savefig('_' + str(round(highfpd, 3)) + attr + '.pdf')\n",
    "        plt.close()\n"
   ]
  },
  {
   "cell_type": "code",
   "execution_count": 82,
   "id": "6da705e8-a99b-46ec-afbf-e5ad401a81f3",
   "metadata": {},
   "outputs": [],
   "source": [
    "def ks_summ(data=None, target=None, prob=None):\n",
    "    data['count'] = 1\n",
    "    data['target0'] = 1 - data[target]\n",
    "    # data['bucket'],boundaries = pd.qcut(data[prob], 10,duplicates='drop')\n",
    "    kstable = pd.DataFrame()\n",
    "    try:\n",
    "        data['bucket'] = pd.qcut(data[prob], 10)\n",
    "    except Exception as e:\n",
    "        try:\n",
    "            data['bucket'] = pd.qcut(data[prob], 9)\n",
    "        except Exception as e:\n",
    "            try:\n",
    "                data['bucket'] = pd.qcut(data[prob], 8)\n",
    "            except Exception as e:\n",
    "                try:\n",
    "                    data['bucket'] = pd.qcut(data[prob], 7)\n",
    "                except Exception as e:\n",
    "                    try:\n",
    "                        data['bucket'] = pd.qcut(data[prob], 6)\n",
    "                    except Exception as e:\n",
    "                        try:\n",
    "                            data['bucket'] = pd.qcut(data[prob], 5)\n",
    "                        except Exception as e:\n",
    "                            try:\n",
    "                                data['bucket'] = pd.qcut(data[prob], 4)\n",
    "                            except Exception as e:\n",
    "                                try:\n",
    "                                    data['bucket'] = pd.qcut(data[prob], 3)\n",
    "                                except Exception as e:\n",
    "                                    try:\n",
    "                                        data['bucket'] = pd.qcut(data[prob], 2)\n",
    "                                    except Exception as e:\n",
    "                                        return kstable\n",
    "    grouped = data.groupby('bucket', as_index=False)\n",
    "    kstable['min_prob'] = grouped.min()[prob]\n",
    "    kstable['max_prob'] = grouped.max()[prob]\n",
    "    kstable['events'] = grouped.sum()[target]\n",
    "    kstable['nonevents'] = grouped.sum()['target0']\n",
    "    #######################################\n",
    "    kstable[target] = grouped.sum()[target]\n",
    "    kstable['target%'] = np.round(100.0 * grouped.sum()[target] / grouped.sum()['count'], 2)\n",
    "    #######################################\n",
    "    kstable['ct'] = grouped.sum()['count']\n",
    "    kstable = kstable.sort_values(by=\"min_prob\", ascending=False).reset_index(drop=True)\n",
    "    kstable['event_rate'] = (kstable.events / data[target].sum()).apply('{0:.2%}'.format)\n",
    "    kstable['nonevent_rate'] = (kstable.nonevents / data['target0'].sum()).apply('{0:.2%}'.format)\n",
    "    kstable['cum_eventrate'] = (kstable.events / data[target].sum()).cumsum()\n",
    "    kstable['cum_noneventrate'] = (kstable.nonevents / data['target0'].sum()).cumsum()\n",
    "    kstable['KS'] = np.round(kstable['cum_eventrate'] - kstable['cum_noneventrate'], 3) * 100\n",
    "    # Formating\n",
    "    kstable['cum_eventrate'] = kstable['cum_eventrate'].apply('{0:.2%}'.format)\n",
    "    kstable['cum_noneventrate'] = kstable['cum_noneventrate'].apply('{0:.2%}'.format)\n",
    "    # kstable.index = range(1, 11)\n",
    "    # kstable.index = range(1, 6)\n",
    "    kstable.index.rename('Decile', inplace=True)\n",
    "    pd.set_option('display.max_columns', None)\n",
    "    kstable = kstable[\n",
    "        ['min_prob', 'max_prob', 'events', 'nonevents', 'ct', 'event_rate', 'nonevent_rate', 'cum_eventrate',\n",
    "         'cum_noneventrate', 'KS', 'target%']]\n",
    "    return (kstable)\n"
   ]
  },
  {
   "cell_type": "code",
   "execution_count": 84,
   "id": "b2230417-e515-4cb8-b4ae-c5b905fe5863",
   "metadata": {},
   "outputs": [
    {
     "data": {
      "text/plain": [
       "Index(['STUDENT_ID', 'HIGH_SCHOOL_CODE', 'FIRST_GENERATION',\n",
       "       'FIRST_TIME_STUDENT', 'HIGH_SCHOOL_GPA', 'AGE', 'TERM_CODE',\n",
       "       'TERM_RANK', 'SUBJECT', 'COURSE_NUMBER', 'COURSE_TITLE', 'FINAL_GRADE',\n",
       "       'CREDIT_HOURS', 'ATTEMPTED_HOURS', 'EARNED_HOURS', 'SHRTGPA_PIDM',\n",
       "       'COLLEGE_CODE', 'MAJOR_CODE', 'DEGREE', 'SGBSTDN_PROGRAM_1',\n",
       "       'SORTEST_PIDM', 'SORTEST_TESC_CODE', 'SORTEST_TEST_DATE',\n",
       "       'SORTEST_TEST_SCORE', 'MAX_TEST_SCORE', 'MIN_TEST_SCORE',\n",
       "       'NORMALIZED_TEST_SCORE', 'STVTESC_DESC', 'EXEMPTIONS',\n",
       "       'TEST_ATTEMPT_RANK', 'TEST_ATTEMPT_RANK_REVERSED', 'COLLEGE_CODE_AS',\n",
       "       'COLLEGE_CODE_IV', 'COLLEGE_CODE_nan', 'DEGREE_AA', 'DEGREE_AAS',\n",
       "       'DEGREE_AFA', 'DEGREE_AGS', 'DEGREE_AS', 'DEGREE_CO', 'DEGREE_CT',\n",
       "       'DEGREE_NC', 'DEGREE_TC'],\n",
       "      dtype='object')"
      ]
     },
     "execution_count": 84,
     "metadata": {},
     "output_type": "execute_result"
    }
   ],
   "source": [
    "df_combined.columns"
   ]
  },
  {
   "cell_type": "code",
   "execution_count": 101,
   "id": "0be4ce3b-27c7-4c9c-b0d2-dee230b9257b",
   "metadata": {},
   "outputs": [
    {
     "data": {
      "text/plain": [
       "array([202320, 202210, 202130, 202410, 202120, 202330, 202110, 202230,\n",
       "       202310, 202220, 202430, 202420], dtype=int64)"
      ]
     },
     "execution_count": 101,
     "metadata": {},
     "output_type": "execute_result"
    }
   ],
   "source": [
    "df_combined['TERM_CODE'].unique()"
   ]
  },
  {
   "cell_type": "code",
   "execution_count": 103,
   "id": "d7a2527a-9593-4bfd-9e05-f4fa1f70a5b3",
   "metadata": {},
   "outputs": [],
   "source": [
    "req_col = ['HIGH_SCHOOL_CODE', 'FIRST_GENERATION',\n",
    "       'FIRST_TIME_STUDENT', 'HIGH_SCHOOL_GPA', 'AGE', 'TERM_CODE',\n",
    "       'TERM_RANK', 'SUBJECT',\n",
    "       'CREDIT_HOURS', 'ATTEMPTED_HOURS', 'EARNED_HOURS', 'MAJOR_CODE', 'SGBSTDN_PROGRAM_1',\n",
    "        'SORTEST_PIDM', 'SORTEST_TESC_CODE', 'SORTEST_TEST_DATE',\n",
    "       'SORTEST_TEST_SCORE', 'MAX_TEST_SCORE', 'MIN_TEST_SCORE',\n",
    "       'NORMALIZED_TEST_SCORE', 'STVTESC_DESC', 'EXEMPTIONS',\n",
    "       'TEST_ATTEMPT_RANK', 'TEST_ATTEMPT_RANK_REVERSED', 'COLLEGE_CODE_AS',\n",
    "       'COLLEGE_CODE_IV', 'COLLEGE_CODE_nan', 'DEGREE_AA', 'DEGREE_AAS',\n",
    "       'DEGREE_AFA', 'DEGREE_AGS', 'DEGREE_AS', 'DEGREE_CO', 'DEGREE_CT',\n",
    "       'DEGREE_NC', 'DEGREE_TC']"
   ]
  },
  {
   "cell_type": "code",
   "execution_count": 105,
   "id": "28022e56-66b0-40f5-808e-e0d8ce4512c8",
   "metadata": {},
   "outputs": [],
   "source": [
    "idv_list = req_col\n",
    "targetvar  = 'FINAL_GRADE'\n",
    "targetbase = 'base'\n",
    "data = df_combined"
   ]
  },
  {
   "cell_type": "code",
   "execution_count": 107,
   "id": "9fda6cbe-adb1-411b-92cf-5b7ba9bb952d",
   "metadata": {},
   "outputs": [],
   "source": [
    "#ks_chart_function_max(data=data, targetvar=targetvar, targetbase=targetbase, idv_list=idv_list)"
   ]
  },
  {
   "cell_type": "code",
   "execution_count": null,
   "id": "97083b4b-ae06-40b2-84f9-f550621e53e1",
   "metadata": {},
   "outputs": [],
   "source": []
  },
  {
   "cell_type": "code",
   "execution_count": null,
   "id": "afde9b8a-fa82-4eaa-9465-39df78347833",
   "metadata": {},
   "outputs": [],
   "source": []
  },
  {
   "cell_type": "code",
   "execution_count": null,
   "id": "10af814d-4b9b-41fc-b4fb-f129d95f3ad9",
   "metadata": {},
   "outputs": [],
   "source": []
  },
  {
   "cell_type": "code",
   "execution_count": 115,
   "id": "a58706f0-db02-4114-ab63-70db0b074c3c",
   "metadata": {},
   "outputs": [
    {
     "ename": "MemoryError",
     "evalue": "could not allocate 67108864 bytes",
     "output_type": "error",
     "traceback": [
      "\u001b[1;31m---------------------------------------------------------------------------\u001b[0m",
      "\u001b[1;31mMemoryError\u001b[0m                               Traceback (most recent call last)",
      "Cell \u001b[1;32mIn[115], line 10\u001b[0m\n\u001b[0;32m      8\u001b[0m \u001b[38;5;66;03m# Train a Random Forest classifier\u001b[39;00m\n\u001b[0;32m      9\u001b[0m model \u001b[38;5;241m=\u001b[39m RandomForestClassifier()\n\u001b[1;32m---> 10\u001b[0m model\u001b[38;5;241m.\u001b[39mfit(X, y)\n\u001b[0;32m     12\u001b[0m \u001b[38;5;66;03m# Get feature importances\u001b[39;00m\n\u001b[0;32m     13\u001b[0m feature_importances \u001b[38;5;241m=\u001b[39m model\u001b[38;5;241m.\u001b[39mfeature_importances_\n",
      "File \u001b[1;32m~\\anaconda3\\Lib\\site-packages\\sklearn\\base.py:1474\u001b[0m, in \u001b[0;36m_fit_context.<locals>.decorator.<locals>.wrapper\u001b[1;34m(estimator, *args, **kwargs)\u001b[0m\n\u001b[0;32m   1467\u001b[0m     estimator\u001b[38;5;241m.\u001b[39m_validate_params()\n\u001b[0;32m   1469\u001b[0m \u001b[38;5;28;01mwith\u001b[39;00m config_context(\n\u001b[0;32m   1470\u001b[0m     skip_parameter_validation\u001b[38;5;241m=\u001b[39m(\n\u001b[0;32m   1471\u001b[0m         prefer_skip_nested_validation \u001b[38;5;129;01mor\u001b[39;00m global_skip_validation\n\u001b[0;32m   1472\u001b[0m     )\n\u001b[0;32m   1473\u001b[0m ):\n\u001b[1;32m-> 1474\u001b[0m     \u001b[38;5;28;01mreturn\u001b[39;00m fit_method(estimator, \u001b[38;5;241m*\u001b[39margs, \u001b[38;5;241m*\u001b[39m\u001b[38;5;241m*\u001b[39mkwargs)\n",
      "File \u001b[1;32m~\\anaconda3\\Lib\\site-packages\\sklearn\\ensemble\\_forest.py:489\u001b[0m, in \u001b[0;36mBaseForest.fit\u001b[1;34m(self, X, y, sample_weight)\u001b[0m\n\u001b[0;32m    478\u001b[0m trees \u001b[38;5;241m=\u001b[39m [\n\u001b[0;32m    479\u001b[0m     \u001b[38;5;28mself\u001b[39m\u001b[38;5;241m.\u001b[39m_make_estimator(append\u001b[38;5;241m=\u001b[39m\u001b[38;5;28;01mFalse\u001b[39;00m, random_state\u001b[38;5;241m=\u001b[39mrandom_state)\n\u001b[0;32m    480\u001b[0m     \u001b[38;5;28;01mfor\u001b[39;00m i \u001b[38;5;129;01min\u001b[39;00m \u001b[38;5;28mrange\u001b[39m(n_more_estimators)\n\u001b[0;32m    481\u001b[0m ]\n\u001b[0;32m    483\u001b[0m \u001b[38;5;66;03m# Parallel loop: we prefer the threading backend as the Cython code\u001b[39;00m\n\u001b[0;32m    484\u001b[0m \u001b[38;5;66;03m# for fitting the trees is internally releasing the Python GIL\u001b[39;00m\n\u001b[0;32m    485\u001b[0m \u001b[38;5;66;03m# making threading more efficient than multiprocessing in\u001b[39;00m\n\u001b[0;32m    486\u001b[0m \u001b[38;5;66;03m# that case. However, for joblib 0.12+ we respect any\u001b[39;00m\n\u001b[0;32m    487\u001b[0m \u001b[38;5;66;03m# parallel_backend contexts set at a higher level,\u001b[39;00m\n\u001b[0;32m    488\u001b[0m \u001b[38;5;66;03m# since correctness does not rely on using threads.\u001b[39;00m\n\u001b[1;32m--> 489\u001b[0m trees \u001b[38;5;241m=\u001b[39m Parallel(\n\u001b[0;32m    490\u001b[0m     n_jobs\u001b[38;5;241m=\u001b[39m\u001b[38;5;28mself\u001b[39m\u001b[38;5;241m.\u001b[39mn_jobs,\n\u001b[0;32m    491\u001b[0m     verbose\u001b[38;5;241m=\u001b[39m\u001b[38;5;28mself\u001b[39m\u001b[38;5;241m.\u001b[39mverbose,\n\u001b[0;32m    492\u001b[0m     prefer\u001b[38;5;241m=\u001b[39m\u001b[38;5;124m\"\u001b[39m\u001b[38;5;124mthreads\u001b[39m\u001b[38;5;124m\"\u001b[39m,\n\u001b[0;32m    493\u001b[0m )(\n\u001b[0;32m    494\u001b[0m     delayed(_parallel_build_trees)(\n\u001b[0;32m    495\u001b[0m         t,\n\u001b[0;32m    496\u001b[0m         \u001b[38;5;28mself\u001b[39m\u001b[38;5;241m.\u001b[39mbootstrap,\n\u001b[0;32m    497\u001b[0m         X,\n\u001b[0;32m    498\u001b[0m         y,\n\u001b[0;32m    499\u001b[0m         sample_weight,\n\u001b[0;32m    500\u001b[0m         i,\n\u001b[0;32m    501\u001b[0m         \u001b[38;5;28mlen\u001b[39m(trees),\n\u001b[0;32m    502\u001b[0m         verbose\u001b[38;5;241m=\u001b[39m\u001b[38;5;28mself\u001b[39m\u001b[38;5;241m.\u001b[39mverbose,\n\u001b[0;32m    503\u001b[0m         class_weight\u001b[38;5;241m=\u001b[39m\u001b[38;5;28mself\u001b[39m\u001b[38;5;241m.\u001b[39mclass_weight,\n\u001b[0;32m    504\u001b[0m         n_samples_bootstrap\u001b[38;5;241m=\u001b[39mn_samples_bootstrap,\n\u001b[0;32m    505\u001b[0m         missing_values_in_feature_mask\u001b[38;5;241m=\u001b[39mmissing_values_in_feature_mask,\n\u001b[0;32m    506\u001b[0m     )\n\u001b[0;32m    507\u001b[0m     \u001b[38;5;28;01mfor\u001b[39;00m i, t \u001b[38;5;129;01min\u001b[39;00m \u001b[38;5;28menumerate\u001b[39m(trees)\n\u001b[0;32m    508\u001b[0m )\n\u001b[0;32m    510\u001b[0m \u001b[38;5;66;03m# Collect newly grown trees\u001b[39;00m\n\u001b[0;32m    511\u001b[0m \u001b[38;5;28mself\u001b[39m\u001b[38;5;241m.\u001b[39mestimators_\u001b[38;5;241m.\u001b[39mextend(trees)\n",
      "File \u001b[1;32m~\\anaconda3\\Lib\\site-packages\\sklearn\\utils\\parallel.py:67\u001b[0m, in \u001b[0;36mParallel.__call__\u001b[1;34m(self, iterable)\u001b[0m\n\u001b[0;32m     62\u001b[0m config \u001b[38;5;241m=\u001b[39m get_config()\n\u001b[0;32m     63\u001b[0m iterable_with_config \u001b[38;5;241m=\u001b[39m (\n\u001b[0;32m     64\u001b[0m     (_with_config(delayed_func, config), args, kwargs)\n\u001b[0;32m     65\u001b[0m     \u001b[38;5;28;01mfor\u001b[39;00m delayed_func, args, kwargs \u001b[38;5;129;01min\u001b[39;00m iterable\n\u001b[0;32m     66\u001b[0m )\n\u001b[1;32m---> 67\u001b[0m \u001b[38;5;28;01mreturn\u001b[39;00m \u001b[38;5;28msuper\u001b[39m()\u001b[38;5;241m.\u001b[39m\u001b[38;5;21m__call__\u001b[39m(iterable_with_config)\n",
      "File \u001b[1;32m~\\anaconda3\\Lib\\site-packages\\joblib\\parallel.py:1918\u001b[0m, in \u001b[0;36mParallel.__call__\u001b[1;34m(self, iterable)\u001b[0m\n\u001b[0;32m   1916\u001b[0m     output \u001b[38;5;241m=\u001b[39m \u001b[38;5;28mself\u001b[39m\u001b[38;5;241m.\u001b[39m_get_sequential_output(iterable)\n\u001b[0;32m   1917\u001b[0m     \u001b[38;5;28mnext\u001b[39m(output)\n\u001b[1;32m-> 1918\u001b[0m     \u001b[38;5;28;01mreturn\u001b[39;00m output \u001b[38;5;28;01mif\u001b[39;00m \u001b[38;5;28mself\u001b[39m\u001b[38;5;241m.\u001b[39mreturn_generator \u001b[38;5;28;01melse\u001b[39;00m \u001b[38;5;28mlist\u001b[39m(output)\n\u001b[0;32m   1920\u001b[0m \u001b[38;5;66;03m# Let's create an ID that uniquely identifies the current call. If the\u001b[39;00m\n\u001b[0;32m   1921\u001b[0m \u001b[38;5;66;03m# call is interrupted early and that the same instance is immediately\u001b[39;00m\n\u001b[0;32m   1922\u001b[0m \u001b[38;5;66;03m# re-used, this id will be used to prevent workers that were\u001b[39;00m\n\u001b[0;32m   1923\u001b[0m \u001b[38;5;66;03m# concurrently finalizing a task from the previous call to run the\u001b[39;00m\n\u001b[0;32m   1924\u001b[0m \u001b[38;5;66;03m# callback.\u001b[39;00m\n\u001b[0;32m   1925\u001b[0m \u001b[38;5;28;01mwith\u001b[39;00m \u001b[38;5;28mself\u001b[39m\u001b[38;5;241m.\u001b[39m_lock:\n",
      "File \u001b[1;32m~\\anaconda3\\Lib\\site-packages\\joblib\\parallel.py:1847\u001b[0m, in \u001b[0;36mParallel._get_sequential_output\u001b[1;34m(self, iterable)\u001b[0m\n\u001b[0;32m   1845\u001b[0m \u001b[38;5;28mself\u001b[39m\u001b[38;5;241m.\u001b[39mn_dispatched_batches \u001b[38;5;241m+\u001b[39m\u001b[38;5;241m=\u001b[39m \u001b[38;5;241m1\u001b[39m\n\u001b[0;32m   1846\u001b[0m \u001b[38;5;28mself\u001b[39m\u001b[38;5;241m.\u001b[39mn_dispatched_tasks \u001b[38;5;241m+\u001b[39m\u001b[38;5;241m=\u001b[39m \u001b[38;5;241m1\u001b[39m\n\u001b[1;32m-> 1847\u001b[0m res \u001b[38;5;241m=\u001b[39m func(\u001b[38;5;241m*\u001b[39margs, \u001b[38;5;241m*\u001b[39m\u001b[38;5;241m*\u001b[39mkwargs)\n\u001b[0;32m   1848\u001b[0m \u001b[38;5;28mself\u001b[39m\u001b[38;5;241m.\u001b[39mn_completed_tasks \u001b[38;5;241m+\u001b[39m\u001b[38;5;241m=\u001b[39m \u001b[38;5;241m1\u001b[39m\n\u001b[0;32m   1849\u001b[0m \u001b[38;5;28mself\u001b[39m\u001b[38;5;241m.\u001b[39mprint_progress()\n",
      "File \u001b[1;32m~\\anaconda3\\Lib\\site-packages\\sklearn\\utils\\parallel.py:129\u001b[0m, in \u001b[0;36m_FuncWrapper.__call__\u001b[1;34m(self, *args, **kwargs)\u001b[0m\n\u001b[0;32m    127\u001b[0m     config \u001b[38;5;241m=\u001b[39m {}\n\u001b[0;32m    128\u001b[0m \u001b[38;5;28;01mwith\u001b[39;00m config_context(\u001b[38;5;241m*\u001b[39m\u001b[38;5;241m*\u001b[39mconfig):\n\u001b[1;32m--> 129\u001b[0m     \u001b[38;5;28;01mreturn\u001b[39;00m \u001b[38;5;28mself\u001b[39m\u001b[38;5;241m.\u001b[39mfunction(\u001b[38;5;241m*\u001b[39margs, \u001b[38;5;241m*\u001b[39m\u001b[38;5;241m*\u001b[39mkwargs)\n",
      "File \u001b[1;32m~\\anaconda3\\Lib\\site-packages\\sklearn\\ensemble\\_forest.py:192\u001b[0m, in \u001b[0;36m_parallel_build_trees\u001b[1;34m(tree, bootstrap, X, y, sample_weight, tree_idx, n_trees, verbose, class_weight, n_samples_bootstrap, missing_values_in_feature_mask)\u001b[0m\n\u001b[0;32m    189\u001b[0m     \u001b[38;5;28;01melif\u001b[39;00m class_weight \u001b[38;5;241m==\u001b[39m \u001b[38;5;124m\"\u001b[39m\u001b[38;5;124mbalanced_subsample\u001b[39m\u001b[38;5;124m\"\u001b[39m:\n\u001b[0;32m    190\u001b[0m         curr_sample_weight \u001b[38;5;241m*\u001b[39m\u001b[38;5;241m=\u001b[39m compute_sample_weight(\u001b[38;5;124m\"\u001b[39m\u001b[38;5;124mbalanced\u001b[39m\u001b[38;5;124m\"\u001b[39m, y, indices\u001b[38;5;241m=\u001b[39mindices)\n\u001b[1;32m--> 192\u001b[0m     tree\u001b[38;5;241m.\u001b[39m_fit(\n\u001b[0;32m    193\u001b[0m         X,\n\u001b[0;32m    194\u001b[0m         y,\n\u001b[0;32m    195\u001b[0m         sample_weight\u001b[38;5;241m=\u001b[39mcurr_sample_weight,\n\u001b[0;32m    196\u001b[0m         check_input\u001b[38;5;241m=\u001b[39m\u001b[38;5;28;01mFalse\u001b[39;00m,\n\u001b[0;32m    197\u001b[0m         missing_values_in_feature_mask\u001b[38;5;241m=\u001b[39mmissing_values_in_feature_mask,\n\u001b[0;32m    198\u001b[0m     )\n\u001b[0;32m    199\u001b[0m \u001b[38;5;28;01melse\u001b[39;00m:\n\u001b[0;32m    200\u001b[0m     tree\u001b[38;5;241m.\u001b[39m_fit(\n\u001b[0;32m    201\u001b[0m         X,\n\u001b[0;32m    202\u001b[0m         y,\n\u001b[1;32m   (...)\u001b[0m\n\u001b[0;32m    205\u001b[0m         missing_values_in_feature_mask\u001b[38;5;241m=\u001b[39mmissing_values_in_feature_mask,\n\u001b[0;32m    206\u001b[0m     )\n",
      "File \u001b[1;32m~\\anaconda3\\Lib\\site-packages\\sklearn\\tree\\_classes.py:472\u001b[0m, in \u001b[0;36mBaseDecisionTree._fit\u001b[1;34m(self, X, y, sample_weight, check_input, missing_values_in_feature_mask)\u001b[0m\n\u001b[0;32m    461\u001b[0m \u001b[38;5;28;01melse\u001b[39;00m:\n\u001b[0;32m    462\u001b[0m     builder \u001b[38;5;241m=\u001b[39m BestFirstTreeBuilder(\n\u001b[0;32m    463\u001b[0m         splitter,\n\u001b[0;32m    464\u001b[0m         min_samples_split,\n\u001b[1;32m   (...)\u001b[0m\n\u001b[0;32m    469\u001b[0m         \u001b[38;5;28mself\u001b[39m\u001b[38;5;241m.\u001b[39mmin_impurity_decrease,\n\u001b[0;32m    470\u001b[0m     )\n\u001b[1;32m--> 472\u001b[0m builder\u001b[38;5;241m.\u001b[39mbuild(\u001b[38;5;28mself\u001b[39m\u001b[38;5;241m.\u001b[39mtree_, X, y, sample_weight, missing_values_in_feature_mask)\n\u001b[0;32m    474\u001b[0m \u001b[38;5;28;01mif\u001b[39;00m \u001b[38;5;28mself\u001b[39m\u001b[38;5;241m.\u001b[39mn_outputs_ \u001b[38;5;241m==\u001b[39m \u001b[38;5;241m1\u001b[39m \u001b[38;5;129;01mand\u001b[39;00m is_classifier(\u001b[38;5;28mself\u001b[39m):\n\u001b[0;32m    475\u001b[0m     \u001b[38;5;28mself\u001b[39m\u001b[38;5;241m.\u001b[39mn_classes_ \u001b[38;5;241m=\u001b[39m \u001b[38;5;28mself\u001b[39m\u001b[38;5;241m.\u001b[39mn_classes_[\u001b[38;5;241m0\u001b[39m]\n",
      "File \u001b[1;32msklearn\\\\tree\\\\_tree.pyx:166\u001b[0m, in \u001b[0;36msklearn.tree._tree.DepthFirstTreeBuilder.build\u001b[1;34m()\u001b[0m\n",
      "File \u001b[1;32msklearn\\\\tree\\\\_tree.pyx:285\u001b[0m, in \u001b[0;36msklearn.tree._tree.DepthFirstTreeBuilder.build\u001b[1;34m()\u001b[0m\n",
      "File \u001b[1;32msklearn\\\\tree\\\\_tree.pyx:940\u001b[0m, in \u001b[0;36msklearn.tree._tree.Tree._add_node\u001b[1;34m()\u001b[0m\n",
      "File \u001b[1;32msklearn\\\\tree\\\\_tree.pyx:908\u001b[0m, in \u001b[0;36msklearn.tree._tree.Tree._resize_c\u001b[1;34m()\u001b[0m\n",
      "File \u001b[1;32msklearn\\\\tree\\\\_utils.pyx:35\u001b[0m, in \u001b[0;36msklearn.tree._utils.safe_realloc\u001b[1;34m()\u001b[0m\n",
      "\u001b[1;31mMemoryError\u001b[0m: could not allocate 67108864 bytes"
     ]
    }
   ],
   "source": [
    "from sklearn.ensemble import RandomForestClassifier\n",
    "import pandas as pd\n",
    "\n",
    "# Example data\n",
    "X = df_combined[req_col]  # Your feature matrix\n",
    "y = df_combined['FINAL_GRADE']  # Your target variable with 5 unique values\n",
    "\n",
    "# Train a Random Forest classifier\n",
    "model = RandomForestClassifier()\n",
    "model.fit(X, y)\n",
    "\n",
    "# Get feature importances\n",
    "feature_importances = model.feature_importances_\n",
    "features = X.columns\n",
    "importance_df = pd.DataFrame({'Feature': features, 'Importance': feature_importances})\n",
    "importance_df = importance_df.sort_values(by='Importance', ascending=False)\n",
    "\n",
    "print(importance_df)\n"
   ]
  },
  {
   "cell_type": "code",
   "execution_count": null,
   "id": "65bc66b7-98a2-4c48-accb-2a8fcd11eeea",
   "metadata": {},
   "outputs": [],
   "source": []
  },
  {
   "cell_type": "code",
   "execution_count": null,
   "id": "e5abcb4a-5bf3-4c50-989c-1fb38c827ca7",
   "metadata": {},
   "outputs": [],
   "source": []
  },
  {
   "cell_type": "code",
   "execution_count": null,
   "id": "8196cb9a-418f-4602-aa9e-aeaadb907e1b",
   "metadata": {},
   "outputs": [],
   "source": [
    "from sklearn.linear_model import Lasso\n",
    "import pandas as pd"
   ]
  },
  {
   "cell_type": "code",
   "execution_count": 85,
   "id": "0a3a200f-301a-4cd7-9860-ab6e3ee0cb06",
   "metadata": {},
   "outputs": [
    {
     "ename": "NameError",
     "evalue": "name 'Lasso' is not defined",
     "output_type": "error",
     "traceback": [
      "\u001b[1;31m---------------------------------------------------------------------------\u001b[0m",
      "\u001b[1;31mNameError\u001b[0m                                 Traceback (most recent call last)",
      "Cell \u001b[1;32mIn[85], line 4\u001b[0m\n\u001b[0;32m      2\u001b[0m y \u001b[38;5;241m=\u001b[39m df_combined[\u001b[38;5;124m'\u001b[39m\u001b[38;5;124mFINAL_GRADE\u001b[39m\u001b[38;5;124m'\u001b[39m] \n\u001b[0;32m      3\u001b[0m X_ \u001b[38;5;241m=\u001b[39m X\u001b[38;5;241m.\u001b[39mfillna(\u001b[38;5;241m0\u001b[39m)\n\u001b[1;32m----> 4\u001b[0m model \u001b[38;5;241m=\u001b[39m Lasso(alpha\u001b[38;5;241m=\u001b[39m\u001b[38;5;241m0.01\u001b[39m)\n\u001b[0;32m      5\u001b[0m model\u001b[38;5;241m.\u001b[39mfit(X_, y)\n\u001b[0;32m      8\u001b[0m coefficients \u001b[38;5;241m=\u001b[39m model\u001b[38;5;241m.\u001b[39mcoef_\n",
      "\u001b[1;31mNameError\u001b[0m: name 'Lasso' is not defined"
     ]
    }
   ],
   "source": [
    "X_ = X.fillna(0)\n",
    "model = Lasso(alpha=0.01)\n",
    "model.fit(X_, y)\n",
    "\n",
    "\n",
    "coefficients = model.coef_\n",
    "features = X.columns\n",
    "coef_df = pd.DataFrame({'Feature': features, 'Coefficient': coefficients})\n",
    "coef_df = coef_df[coef_df['Coefficient'] != 0].sort_values(by='Coefficient', ascending=False)\n",
    "\n",
    "print(coef_df)"
   ]
  },
  {
   "cell_type": "code",
   "execution_count": null,
   "id": "b73899e2-7ac0-4b50-9394-4a0db892a607",
   "metadata": {},
   "outputs": [],
   "source": []
  },
  {
   "cell_type": "code",
   "execution_count": 82,
   "id": "5fa620d4-b27f-4be1-8abf-095ddd19d570",
   "metadata": {},
   "outputs": [],
   "source": [
    "from sklearn.feature_selection import RFE\n",
    "from sklearn.ensemble import RandomForestClassifier\n",
    "import pandas as pd"
   ]
  },
  {
   "cell_type": "code",
   "execution_count": 151,
   "id": "f36b1db5-3bd6-4f40-ad7d-eb7cc2d34d32",
   "metadata": {},
   "outputs": [
    {
     "ename": "NameError",
     "evalue": "name 'RandomForestClassifier' is not defined",
     "output_type": "error",
     "traceback": [
      "\u001b[1;31m---------------------------------------------------------------------------\u001b[0m",
      "\u001b[1;31mNameError\u001b[0m                                 Traceback (most recent call last)",
      "Cell \u001b[1;32mIn[151], line 1\u001b[0m\n\u001b[1;32m----> 1\u001b[0m model \u001b[38;5;241m=\u001b[39m RandomForestClassifier()\n\u001b[0;32m      2\u001b[0m X \u001b[38;5;241m=\u001b[39m df_combined[req_col]  \u001b[38;5;66;03m# Your feature matrix\u001b[39;00m\n\u001b[0;32m      3\u001b[0m y \u001b[38;5;241m=\u001b[39m df_combined[\u001b[38;5;124m'\u001b[39m\u001b[38;5;124mFINAL_GRADE\u001b[39m\u001b[38;5;124m'\u001b[39m] \n",
      "\u001b[1;31mNameError\u001b[0m: name 'RandomForestClassifier' is not defined"
     ]
    }
   ],
   "source": [
    "model = RandomForestClassifier()\n",
    "X = df_combined[req_col]  # Your feature matrix\n",
    "y = df_combined['FINAL_GRADE'] \n",
    "\n",
    "rfe = RFE(model, n_features_to_select=10)\n",
    "rfe = rfe.fit(X, y)\n",
    "\n",
    "\n",
    "ranking_df = pd.DataFrame({'Feature': X.columns, 'Ranking': rfe.ranking_})\n",
    "ranking_df = ranking_df.sort_values(by='Ranking')\n",
    "\n",
    "print(ranking_df)"
   ]
  },
  {
   "cell_type": "code",
   "execution_count": null,
   "id": "cb408d99-7680-4a41-b4b3-2dd4345966b2",
   "metadata": {},
   "outputs": [],
   "source": []
  },
  {
   "cell_type": "code",
   "execution_count": 112,
   "id": "5ee028b4-48eb-4037-8482-54ffe42b1e69",
   "metadata": {},
   "outputs": [],
   "source": [
    "X = df_combined[req_col]  # Your feature matrix\n",
    "y = df_combined['FINAL_GRADE'] "
   ]
  },
  {
   "cell_type": "code",
   "execution_count": 114,
   "id": "e88219ff-7603-4534-9835-e24d1f8dc9a4",
   "metadata": {},
   "outputs": [],
   "source": [
    "from sklearn.ensemble import RandomForestClassifier"
   ]
  },
  {
   "cell_type": "code",
   "execution_count": 116,
   "id": "499d657d-7197-4d0e-ac3e-b23147258b5b",
   "metadata": {},
   "outputs": [],
   "source": [
    "from sklearn.model_selection import train_test_split"
   ]
  },
  {
   "cell_type": "code",
   "execution_count": 118,
   "id": "fa5067e8-4eaf-4d36-a4b1-b67b60c79d58",
   "metadata": {},
   "outputs": [],
   "source": [
    "X_train, X_test, y_train, y_test = train_test_split(X, y, test_size = 0.30)"
   ]
  },
  {
   "cell_type": "code",
   "execution_count": 119,
   "id": "72d793ff-e2a2-49ad-96cc-105cdbdb36ba",
   "metadata": {},
   "outputs": [],
   "source": [
    "clf = RandomForestClassifier(n_estimators = 100) "
   ]
  },
  {
   "cell_type": "code",
   "execution_count": 122,
   "id": "ced2696e-3ad8-4b03-a20e-ef22d296dd91",
   "metadata": {},
   "outputs": [
    {
     "data": {
      "text/html": [
       "<style>#sk-container-id-1 {\n",
       "  /* Definition of color scheme common for light and dark mode */\n",
       "  --sklearn-color-text: black;\n",
       "  --sklearn-color-line: gray;\n",
       "  /* Definition of color scheme for unfitted estimators */\n",
       "  --sklearn-color-unfitted-level-0: #fff5e6;\n",
       "  --sklearn-color-unfitted-level-1: #f6e4d2;\n",
       "  --sklearn-color-unfitted-level-2: #ffe0b3;\n",
       "  --sklearn-color-unfitted-level-3: chocolate;\n",
       "  /* Definition of color scheme for fitted estimators */\n",
       "  --sklearn-color-fitted-level-0: #f0f8ff;\n",
       "  --sklearn-color-fitted-level-1: #d4ebff;\n",
       "  --sklearn-color-fitted-level-2: #b3dbfd;\n",
       "  --sklearn-color-fitted-level-3: cornflowerblue;\n",
       "\n",
       "  /* Specific color for light theme */\n",
       "  --sklearn-color-text-on-default-background: var(--sg-text-color, var(--theme-code-foreground, var(--jp-content-font-color1, black)));\n",
       "  --sklearn-color-background: var(--sg-background-color, var(--theme-background, var(--jp-layout-color0, white)));\n",
       "  --sklearn-color-border-box: var(--sg-text-color, var(--theme-code-foreground, var(--jp-content-font-color1, black)));\n",
       "  --sklearn-color-icon: #696969;\n",
       "\n",
       "  @media (prefers-color-scheme: dark) {\n",
       "    /* Redefinition of color scheme for dark theme */\n",
       "    --sklearn-color-text-on-default-background: var(--sg-text-color, var(--theme-code-foreground, var(--jp-content-font-color1, white)));\n",
       "    --sklearn-color-background: var(--sg-background-color, var(--theme-background, var(--jp-layout-color0, #111)));\n",
       "    --sklearn-color-border-box: var(--sg-text-color, var(--theme-code-foreground, var(--jp-content-font-color1, white)));\n",
       "    --sklearn-color-icon: #878787;\n",
       "  }\n",
       "}\n",
       "\n",
       "#sk-container-id-1 {\n",
       "  color: var(--sklearn-color-text);\n",
       "}\n",
       "\n",
       "#sk-container-id-1 pre {\n",
       "  padding: 0;\n",
       "}\n",
       "\n",
       "#sk-container-id-1 input.sk-hidden--visually {\n",
       "  border: 0;\n",
       "  clip: rect(1px 1px 1px 1px);\n",
       "  clip: rect(1px, 1px, 1px, 1px);\n",
       "  height: 1px;\n",
       "  margin: -1px;\n",
       "  overflow: hidden;\n",
       "  padding: 0;\n",
       "  position: absolute;\n",
       "  width: 1px;\n",
       "}\n",
       "\n",
       "#sk-container-id-1 div.sk-dashed-wrapped {\n",
       "  border: 1px dashed var(--sklearn-color-line);\n",
       "  margin: 0 0.4em 0.5em 0.4em;\n",
       "  box-sizing: border-box;\n",
       "  padding-bottom: 0.4em;\n",
       "  background-color: var(--sklearn-color-background);\n",
       "}\n",
       "\n",
       "#sk-container-id-1 div.sk-container {\n",
       "  /* jupyter's `normalize.less` sets `[hidden] { display: none; }`\n",
       "     but bootstrap.min.css set `[hidden] { display: none !important; }`\n",
       "     so we also need the `!important` here to be able to override the\n",
       "     default hidden behavior on the sphinx rendered scikit-learn.org.\n",
       "     See: https://github.com/scikit-learn/scikit-learn/issues/21755 */\n",
       "  display: inline-block !important;\n",
       "  position: relative;\n",
       "}\n",
       "\n",
       "#sk-container-id-1 div.sk-text-repr-fallback {\n",
       "  display: none;\n",
       "}\n",
       "\n",
       "div.sk-parallel-item,\n",
       "div.sk-serial,\n",
       "div.sk-item {\n",
       "  /* draw centered vertical line to link estimators */\n",
       "  background-image: linear-gradient(var(--sklearn-color-text-on-default-background), var(--sklearn-color-text-on-default-background));\n",
       "  background-size: 2px 100%;\n",
       "  background-repeat: no-repeat;\n",
       "  background-position: center center;\n",
       "}\n",
       "\n",
       "/* Parallel-specific style estimator block */\n",
       "\n",
       "#sk-container-id-1 div.sk-parallel-item::after {\n",
       "  content: \"\";\n",
       "  width: 100%;\n",
       "  border-bottom: 2px solid var(--sklearn-color-text-on-default-background);\n",
       "  flex-grow: 1;\n",
       "}\n",
       "\n",
       "#sk-container-id-1 div.sk-parallel {\n",
       "  display: flex;\n",
       "  align-items: stretch;\n",
       "  justify-content: center;\n",
       "  background-color: var(--sklearn-color-background);\n",
       "  position: relative;\n",
       "}\n",
       "\n",
       "#sk-container-id-1 div.sk-parallel-item {\n",
       "  display: flex;\n",
       "  flex-direction: column;\n",
       "}\n",
       "\n",
       "#sk-container-id-1 div.sk-parallel-item:first-child::after {\n",
       "  align-self: flex-end;\n",
       "  width: 50%;\n",
       "}\n",
       "\n",
       "#sk-container-id-1 div.sk-parallel-item:last-child::after {\n",
       "  align-self: flex-start;\n",
       "  width: 50%;\n",
       "}\n",
       "\n",
       "#sk-container-id-1 div.sk-parallel-item:only-child::after {\n",
       "  width: 0;\n",
       "}\n",
       "\n",
       "/* Serial-specific style estimator block */\n",
       "\n",
       "#sk-container-id-1 div.sk-serial {\n",
       "  display: flex;\n",
       "  flex-direction: column;\n",
       "  align-items: center;\n",
       "  background-color: var(--sklearn-color-background);\n",
       "  padding-right: 1em;\n",
       "  padding-left: 1em;\n",
       "}\n",
       "\n",
       "\n",
       "/* Toggleable style: style used for estimator/Pipeline/ColumnTransformer box that is\n",
       "clickable and can be expanded/collapsed.\n",
       "- Pipeline and ColumnTransformer use this feature and define the default style\n",
       "- Estimators will overwrite some part of the style using the `sk-estimator` class\n",
       "*/\n",
       "\n",
       "/* Pipeline and ColumnTransformer style (default) */\n",
       "\n",
       "#sk-container-id-1 div.sk-toggleable {\n",
       "  /* Default theme specific background. It is overwritten whether we have a\n",
       "  specific estimator or a Pipeline/ColumnTransformer */\n",
       "  background-color: var(--sklearn-color-background);\n",
       "}\n",
       "\n",
       "/* Toggleable label */\n",
       "#sk-container-id-1 label.sk-toggleable__label {\n",
       "  cursor: pointer;\n",
       "  display: block;\n",
       "  width: 100%;\n",
       "  margin-bottom: 0;\n",
       "  padding: 0.5em;\n",
       "  box-sizing: border-box;\n",
       "  text-align: center;\n",
       "}\n",
       "\n",
       "#sk-container-id-1 label.sk-toggleable__label-arrow:before {\n",
       "  /* Arrow on the left of the label */\n",
       "  content: \"▸\";\n",
       "  float: left;\n",
       "  margin-right: 0.25em;\n",
       "  color: var(--sklearn-color-icon);\n",
       "}\n",
       "\n",
       "#sk-container-id-1 label.sk-toggleable__label-arrow:hover:before {\n",
       "  color: var(--sklearn-color-text);\n",
       "}\n",
       "\n",
       "/* Toggleable content - dropdown */\n",
       "\n",
       "#sk-container-id-1 div.sk-toggleable__content {\n",
       "  max-height: 0;\n",
       "  max-width: 0;\n",
       "  overflow: hidden;\n",
       "  text-align: left;\n",
       "  /* unfitted */\n",
       "  background-color: var(--sklearn-color-unfitted-level-0);\n",
       "}\n",
       "\n",
       "#sk-container-id-1 div.sk-toggleable__content.fitted {\n",
       "  /* fitted */\n",
       "  background-color: var(--sklearn-color-fitted-level-0);\n",
       "}\n",
       "\n",
       "#sk-container-id-1 div.sk-toggleable__content pre {\n",
       "  margin: 0.2em;\n",
       "  border-radius: 0.25em;\n",
       "  color: var(--sklearn-color-text);\n",
       "  /* unfitted */\n",
       "  background-color: var(--sklearn-color-unfitted-level-0);\n",
       "}\n",
       "\n",
       "#sk-container-id-1 div.sk-toggleable__content.fitted pre {\n",
       "  /* unfitted */\n",
       "  background-color: var(--sklearn-color-fitted-level-0);\n",
       "}\n",
       "\n",
       "#sk-container-id-1 input.sk-toggleable__control:checked~div.sk-toggleable__content {\n",
       "  /* Expand drop-down */\n",
       "  max-height: 200px;\n",
       "  max-width: 100%;\n",
       "  overflow: auto;\n",
       "}\n",
       "\n",
       "#sk-container-id-1 input.sk-toggleable__control:checked~label.sk-toggleable__label-arrow:before {\n",
       "  content: \"▾\";\n",
       "}\n",
       "\n",
       "/* Pipeline/ColumnTransformer-specific style */\n",
       "\n",
       "#sk-container-id-1 div.sk-label input.sk-toggleable__control:checked~label.sk-toggleable__label {\n",
       "  color: var(--sklearn-color-text);\n",
       "  background-color: var(--sklearn-color-unfitted-level-2);\n",
       "}\n",
       "\n",
       "#sk-container-id-1 div.sk-label.fitted input.sk-toggleable__control:checked~label.sk-toggleable__label {\n",
       "  background-color: var(--sklearn-color-fitted-level-2);\n",
       "}\n",
       "\n",
       "/* Estimator-specific style */\n",
       "\n",
       "/* Colorize estimator box */\n",
       "#sk-container-id-1 div.sk-estimator input.sk-toggleable__control:checked~label.sk-toggleable__label {\n",
       "  /* unfitted */\n",
       "  background-color: var(--sklearn-color-unfitted-level-2);\n",
       "}\n",
       "\n",
       "#sk-container-id-1 div.sk-estimator.fitted input.sk-toggleable__control:checked~label.sk-toggleable__label {\n",
       "  /* fitted */\n",
       "  background-color: var(--sklearn-color-fitted-level-2);\n",
       "}\n",
       "\n",
       "#sk-container-id-1 div.sk-label label.sk-toggleable__label,\n",
       "#sk-container-id-1 div.sk-label label {\n",
       "  /* The background is the default theme color */\n",
       "  color: var(--sklearn-color-text-on-default-background);\n",
       "}\n",
       "\n",
       "/* On hover, darken the color of the background */\n",
       "#sk-container-id-1 div.sk-label:hover label.sk-toggleable__label {\n",
       "  color: var(--sklearn-color-text);\n",
       "  background-color: var(--sklearn-color-unfitted-level-2);\n",
       "}\n",
       "\n",
       "/* Label box, darken color on hover, fitted */\n",
       "#sk-container-id-1 div.sk-label.fitted:hover label.sk-toggleable__label.fitted {\n",
       "  color: var(--sklearn-color-text);\n",
       "  background-color: var(--sklearn-color-fitted-level-2);\n",
       "}\n",
       "\n",
       "/* Estimator label */\n",
       "\n",
       "#sk-container-id-1 div.sk-label label {\n",
       "  font-family: monospace;\n",
       "  font-weight: bold;\n",
       "  display: inline-block;\n",
       "  line-height: 1.2em;\n",
       "}\n",
       "\n",
       "#sk-container-id-1 div.sk-label-container {\n",
       "  text-align: center;\n",
       "}\n",
       "\n",
       "/* Estimator-specific */\n",
       "#sk-container-id-1 div.sk-estimator {\n",
       "  font-family: monospace;\n",
       "  border: 1px dotted var(--sklearn-color-border-box);\n",
       "  border-radius: 0.25em;\n",
       "  box-sizing: border-box;\n",
       "  margin-bottom: 0.5em;\n",
       "  /* unfitted */\n",
       "  background-color: var(--sklearn-color-unfitted-level-0);\n",
       "}\n",
       "\n",
       "#sk-container-id-1 div.sk-estimator.fitted {\n",
       "  /* fitted */\n",
       "  background-color: var(--sklearn-color-fitted-level-0);\n",
       "}\n",
       "\n",
       "/* on hover */\n",
       "#sk-container-id-1 div.sk-estimator:hover {\n",
       "  /* unfitted */\n",
       "  background-color: var(--sklearn-color-unfitted-level-2);\n",
       "}\n",
       "\n",
       "#sk-container-id-1 div.sk-estimator.fitted:hover {\n",
       "  /* fitted */\n",
       "  background-color: var(--sklearn-color-fitted-level-2);\n",
       "}\n",
       "\n",
       "/* Specification for estimator info (e.g. \"i\" and \"?\") */\n",
       "\n",
       "/* Common style for \"i\" and \"?\" */\n",
       "\n",
       ".sk-estimator-doc-link,\n",
       "a:link.sk-estimator-doc-link,\n",
       "a:visited.sk-estimator-doc-link {\n",
       "  float: right;\n",
       "  font-size: smaller;\n",
       "  line-height: 1em;\n",
       "  font-family: monospace;\n",
       "  background-color: var(--sklearn-color-background);\n",
       "  border-radius: 1em;\n",
       "  height: 1em;\n",
       "  width: 1em;\n",
       "  text-decoration: none !important;\n",
       "  margin-left: 1ex;\n",
       "  /* unfitted */\n",
       "  border: var(--sklearn-color-unfitted-level-1) 1pt solid;\n",
       "  color: var(--sklearn-color-unfitted-level-1);\n",
       "}\n",
       "\n",
       ".sk-estimator-doc-link.fitted,\n",
       "a:link.sk-estimator-doc-link.fitted,\n",
       "a:visited.sk-estimator-doc-link.fitted {\n",
       "  /* fitted */\n",
       "  border: var(--sklearn-color-fitted-level-1) 1pt solid;\n",
       "  color: var(--sklearn-color-fitted-level-1);\n",
       "}\n",
       "\n",
       "/* On hover */\n",
       "div.sk-estimator:hover .sk-estimator-doc-link:hover,\n",
       ".sk-estimator-doc-link:hover,\n",
       "div.sk-label-container:hover .sk-estimator-doc-link:hover,\n",
       ".sk-estimator-doc-link:hover {\n",
       "  /* unfitted */\n",
       "  background-color: var(--sklearn-color-unfitted-level-3);\n",
       "  color: var(--sklearn-color-background);\n",
       "  text-decoration: none;\n",
       "}\n",
       "\n",
       "div.sk-estimator.fitted:hover .sk-estimator-doc-link.fitted:hover,\n",
       ".sk-estimator-doc-link.fitted:hover,\n",
       "div.sk-label-container:hover .sk-estimator-doc-link.fitted:hover,\n",
       ".sk-estimator-doc-link.fitted:hover {\n",
       "  /* fitted */\n",
       "  background-color: var(--sklearn-color-fitted-level-3);\n",
       "  color: var(--sklearn-color-background);\n",
       "  text-decoration: none;\n",
       "}\n",
       "\n",
       "/* Span, style for the box shown on hovering the info icon */\n",
       ".sk-estimator-doc-link span {\n",
       "  display: none;\n",
       "  z-index: 9999;\n",
       "  position: relative;\n",
       "  font-weight: normal;\n",
       "  right: .2ex;\n",
       "  padding: .5ex;\n",
       "  margin: .5ex;\n",
       "  width: min-content;\n",
       "  min-width: 20ex;\n",
       "  max-width: 50ex;\n",
       "  color: var(--sklearn-color-text);\n",
       "  box-shadow: 2pt 2pt 4pt #999;\n",
       "  /* unfitted */\n",
       "  background: var(--sklearn-color-unfitted-level-0);\n",
       "  border: .5pt solid var(--sklearn-color-unfitted-level-3);\n",
       "}\n",
       "\n",
       ".sk-estimator-doc-link.fitted span {\n",
       "  /* fitted */\n",
       "  background: var(--sklearn-color-fitted-level-0);\n",
       "  border: var(--sklearn-color-fitted-level-3);\n",
       "}\n",
       "\n",
       ".sk-estimator-doc-link:hover span {\n",
       "  display: block;\n",
       "}\n",
       "\n",
       "/* \"?\"-specific style due to the `<a>` HTML tag */\n",
       "\n",
       "#sk-container-id-1 a.estimator_doc_link {\n",
       "  float: right;\n",
       "  font-size: 1rem;\n",
       "  line-height: 1em;\n",
       "  font-family: monospace;\n",
       "  background-color: var(--sklearn-color-background);\n",
       "  border-radius: 1rem;\n",
       "  height: 1rem;\n",
       "  width: 1rem;\n",
       "  text-decoration: none;\n",
       "  /* unfitted */\n",
       "  color: var(--sklearn-color-unfitted-level-1);\n",
       "  border: var(--sklearn-color-unfitted-level-1) 1pt solid;\n",
       "}\n",
       "\n",
       "#sk-container-id-1 a.estimator_doc_link.fitted {\n",
       "  /* fitted */\n",
       "  border: var(--sklearn-color-fitted-level-1) 1pt solid;\n",
       "  color: var(--sklearn-color-fitted-level-1);\n",
       "}\n",
       "\n",
       "/* On hover */\n",
       "#sk-container-id-1 a.estimator_doc_link:hover {\n",
       "  /* unfitted */\n",
       "  background-color: var(--sklearn-color-unfitted-level-3);\n",
       "  color: var(--sklearn-color-background);\n",
       "  text-decoration: none;\n",
       "}\n",
       "\n",
       "#sk-container-id-1 a.estimator_doc_link.fitted:hover {\n",
       "  /* fitted */\n",
       "  background-color: var(--sklearn-color-fitted-level-3);\n",
       "}\n",
       "</style><div id=\"sk-container-id-1\" class=\"sk-top-container\"><div class=\"sk-text-repr-fallback\"><pre>RandomForestClassifier()</pre><b>In a Jupyter environment, please rerun this cell to show the HTML representation or trust the notebook. <br />On GitHub, the HTML representation is unable to render, please try loading this page with nbviewer.org.</b></div><div class=\"sk-container\" hidden><div class=\"sk-item\"><div class=\"sk-estimator fitted sk-toggleable\"><input class=\"sk-toggleable__control sk-hidden--visually\" id=\"sk-estimator-id-1\" type=\"checkbox\" checked><label for=\"sk-estimator-id-1\" class=\"sk-toggleable__label fitted sk-toggleable__label-arrow fitted\">&nbsp;&nbsp;RandomForestClassifier<a class=\"sk-estimator-doc-link fitted\" rel=\"noreferrer\" target=\"_blank\" href=\"https://scikit-learn.org/1.4/modules/generated/sklearn.ensemble.RandomForestClassifier.html\">?<span>Documentation for RandomForestClassifier</span></a><span class=\"sk-estimator-doc-link fitted\">i<span>Fitted</span></span></label><div class=\"sk-toggleable__content fitted\"><pre>RandomForestClassifier()</pre></div> </div></div></div></div>"
      ],
      "text/plain": [
       "RandomForestClassifier()"
      ]
     },
     "execution_count": 122,
     "metadata": {},
     "output_type": "execute_result"
    }
   ],
   "source": [
    "clf.fit(X_train, y_train)"
   ]
  },
  {
   "cell_type": "code",
   "execution_count": 123,
   "id": "7166463f-676b-4cb0-9d93-b7f6fd9e7827",
   "metadata": {},
   "outputs": [],
   "source": [
    "y_pred = clf.predict(X_test)"
   ]
  },
  {
   "cell_type": "code",
   "execution_count": 124,
   "id": "fc759b32-8207-4d2e-b2ab-5c0e2cf5f8d5",
   "metadata": {},
   "outputs": [],
   "source": [
    "from sklearn.metrics import accuracy_score"
   ]
  },
  {
   "cell_type": "code",
   "execution_count": 125,
   "id": "9a1e48df-36d3-497a-a9f1-41299e1a470f",
   "metadata": {},
   "outputs": [
    {
     "data": {
      "text/plain": [
       "0.7394619061634173"
      ]
     },
     "execution_count": 125,
     "metadata": {},
     "output_type": "execute_result"
    }
   ],
   "source": [
    "accuracy_score(y_test, y_pred)"
   ]
  },
  {
   "cell_type": "code",
   "execution_count": 116,
   "id": "da3f7fcc-4eb0-4944-86a6-4d7743ef7619",
   "metadata": {},
   "outputs": [],
   "source": [
    "clf = RandomForestClassifier(n_estimators = 100) "
   ]
  },
  {
   "cell_type": "code",
   "execution_count": null,
   "id": "4c648d4b-c944-45d6-b056-f109065cbc5a",
   "metadata": {},
   "outputs": [],
   "source": []
  },
  {
   "cell_type": "code",
   "execution_count": 3,
   "id": "5e60a465-aba6-4cc4-95b1-f0d4ed1185e2",
   "metadata": {},
   "outputs": [
    {
     "name": "stdout",
     "output_type": "stream",
     "text": [
      "Requirement already satisfied: pandas in c:\\users\\ramac\\anaconda3\\lib\\site-packages (2.2.2)\n",
      "Requirement already satisfied: numpy>=1.26.0 in c:\\users\\ramac\\anaconda3\\lib\\site-packages (from pandas) (1.26.4)\n",
      "Requirement already satisfied: python-dateutil>=2.8.2 in c:\\users\\ramac\\anaconda3\\lib\\site-packages (from pandas) (2.9.0.post0)\n",
      "Requirement already satisfied: pytz>=2020.1 in c:\\users\\ramac\\anaconda3\\lib\\site-packages (from pandas) (2024.1)\n",
      "Requirement already satisfied: tzdata>=2022.7 in c:\\users\\ramac\\anaconda3\\lib\\site-packages (from pandas) (2023.3)\n",
      "Requirement already satisfied: six>=1.5 in c:\\users\\ramac\\anaconda3\\lib\\site-packages (from python-dateutil>=2.8.2->pandas) (1.16.0)\n",
      "Note: you may need to restart the kernel to use updated packages.\n"
     ]
    }
   ],
   "source": [
    "pip install pandas"
   ]
  },
  {
   "cell_type": "code",
   "execution_count": 117,
   "id": "dd5ec3f1-5059-460a-b886-3da793a7800b",
   "metadata": {},
   "outputs": [
    {
     "data": {
      "text/plain": [
       "Index(['STUDENT_ID', 'HIGH_SCHOOL_CODE', 'FIRST_GENERATION',\n",
       "       'FIRST_TIME_STUDENT', 'HIGH_SCHOOL_GPA', 'AGE', 'TERM_CODE',\n",
       "       'TERM_RANK', 'SUBJECT', 'COURSE_NUMBER', 'COURSE_TITLE', 'FINAL_GRADE',\n",
       "       'CREDIT_HOURS', 'ATTEMPTED_HOURS', 'EARNED_HOURS', 'SHRTGPA_PIDM',\n",
       "       'COLLEGE_CODE', 'MAJOR_CODE', 'DEGREE', 'SGBSTDN_PROGRAM_1',\n",
       "       'SORTEST_PIDM', 'SORTEST_TESC_CODE', 'SORTEST_TEST_DATE',\n",
       "       'SORTEST_TEST_SCORE', 'MAX_TEST_SCORE', 'MIN_TEST_SCORE',\n",
       "       'NORMALIZED_TEST_SCORE', 'STVTESC_DESC', 'EXEMPTIONS',\n",
       "       'TEST_ATTEMPT_RANK', 'TEST_ATTEMPT_RANK_REVERSED', 'COLLEGE_CODE_AS',\n",
       "       'COLLEGE_CODE_IV', 'COLLEGE_CODE_nan', 'DEGREE_AA', 'DEGREE_AAS',\n",
       "       'DEGREE_AFA', 'DEGREE_AGS', 'DEGREE_AS', 'DEGREE_CO', 'DEGREE_CT',\n",
       "       'DEGREE_NC', 'DEGREE_TC'],\n",
       "      dtype='object')"
      ]
     },
     "execution_count": 117,
     "metadata": {},
     "output_type": "execute_result"
    }
   ],
   "source": [
    "df_combined.columns"
   ]
  },
  {
   "cell_type": "code",
   "execution_count": 121,
   "id": "e3e1038a-87f7-405f-9fe4-c58a43c1d145",
   "metadata": {},
   "outputs": [
    {
     "data": {
      "text/plain": [
       "0          971\n",
       "1          971\n",
       "2          971\n",
       "3          386\n",
       "4          386\n",
       "          ... \n",
       "1642328    971\n",
       "1642329    971\n",
       "1642330    971\n",
       "1642331    971\n",
       "1642332    971\n",
       "Name: COURSE_TITLE, Length: 1642215, dtype: int32"
      ]
     },
     "execution_count": 121,
     "metadata": {},
     "output_type": "execute_result"
    }
   ],
   "source": [
    "df_combined['COURSE_TITLE']"
   ]
  },
  {
   "cell_type": "code",
   "execution_count": null,
   "id": "f8f1597e-597a-43b7-bf6a-4bd0ebed88db",
   "metadata": {},
   "outputs": [],
   "source": [
    "# One-hot encoding for training data\n",
    "one_hot_encoder_train = pd.get_dummies(df_train['COLLEGE_CODE'], prefix='COLLEGE_CODE')\n",
    "df_train = pd.concat([df_train, one_hot_encoder_train], axis=1)\n",
    "\n",
    "# Display the train dataframe\n",
    "print(\"Training Data with One-Hot Encoding:\")\n",
    "print(df_train)\n"
   ]
  },
  {
   "cell_type": "code",
   "execution_count": 78,
   "id": "f7db0f78-dccf-4e59-bd27-4b049526b70f",
   "metadata": {},
   "outputs": [
    {
     "ename": "SyntaxError",
     "evalue": "invalid syntax (2296742191.py, line 5)",
     "output_type": "error",
     "traceback": [
      "\u001b[1;36m  Cell \u001b[1;32mIn[78], line 5\u001b[1;36m\u001b[0m\n\u001b[1;33m    X =\u001b[0m\n\u001b[1;37m        ^\u001b[0m\n\u001b[1;31mSyntaxError\u001b[0m\u001b[1;31m:\u001b[0m invalid syntax\n"
     ]
    }
   ],
   "source": [
    "from sklearn.ensemble import RandomForestClassifier\n",
    "import pandas as pd\n",
    "\n",
    "# Example data\n",
    "X = \n",
    "y = pd.Series(...)     # Your target variable with 5 unique values\n",
    "\n",
    "# Train a Random Forest classifier\n",
    "model = RandomForestClassifier()\n",
    "model.fit(X, y)\n",
    "\n",
    "# Get feature importances\n",
    "feature_importances = model.feature_importances_\n",
    "features = X.columns\n",
    "importance_df = pd.DataFrame({'Feature': features, 'Importance': feature_importances})\n",
    "importance_df = importance_df.sort_values(by='Importance', ascending=False)\n",
    "\n",
    "print(importance_df)\n"
   ]
  },
  {
   "cell_type": "code",
   "execution_count": null,
   "id": "fdc91956-0295-4945-bc49-6fa1828d296f",
   "metadata": {},
   "outputs": [],
   "source": [
    "ls"
   ]
  },
  {
   "cell_type": "code",
   "execution_count": 134,
   "id": "4f3dd786-44e6-46a4-9843-d28fb48dc958",
   "metadata": {},
   "outputs": [
    {
     "data": {
      "text/plain": [
       "'C:\\\\Users\\\\ramac\\\\GradePrediction'"
      ]
     },
     "execution_count": 134,
     "metadata": {},
     "output_type": "execute_result"
    }
   ],
   "source": [
    "pwd"
   ]
  },
  {
   "cell_type": "code",
   "execution_count": null,
   "id": "9f7d21e0-89de-4090-808f-8435d955877b",
   "metadata": {},
   "outputs": [],
   "source": []
  }
 ],
 "metadata": {
  "kernelspec": {
   "display_name": "Python 3 (ipykernel)",
   "language": "python",
   "name": "python3"
  },
  "language_info": {
   "codemirror_mode": {
    "name": "ipython",
    "version": 3
   },
   "file_extension": ".py",
   "mimetype": "text/x-python",
   "name": "python",
   "nbconvert_exporter": "python",
   "pygments_lexer": "ipython3",
   "version": "3.12.4"
  }
 },
 "nbformat": 4,
 "nbformat_minor": 5
}
