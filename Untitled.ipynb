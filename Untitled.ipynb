{
 "cells": [
  {
   "cell_type": "code",
   "execution_count": 7,
   "id": "301680b0-bf37-410a-8a7f-4255421aa206",
   "metadata": {},
   "outputs": [
    {
     "name": "stdout",
     "output_type": "stream",
     "text": [
      " Volume in drive C has no label.\n",
      " Volume Serial Number is 7210-D35D\n",
      "\n",
      " Directory of C:\\Users\\ramac\\Projects\\Data-Science-Projects\n",
      "\n",
      "09/13/2024  09:59 AM    <DIR>          .\n",
      "09/13/2024  09:59 AM    <DIR>          ..\n",
      "09/13/2024  09:54 AM    <DIR>          .ipynb_checkpoints\n",
      "09/04/2024  06:40 PM             3,258 gender_submission.csv\n",
      "09/12/2024  03:35 PM            97,728 Grade_Prediction_Project_12.ipynb\n",
      "09/04/2024  06:40 PM            28,629 test.csv\n",
      "09/04/2024  10:37 PM            66,408 Titanic_project.ipynb\n",
      "09/04/2024  06:40 PM            61,194 train.csv\n",
      "09/13/2024  09:58 AM             2,193 Untitled.ipynb\n",
      "09/13/2024  09:50 AM           635,333 Urban_Air_Quality_and_Health_Impact_Dataset.csv\n",
      "               7 File(s)        894,743 bytes\n",
      "               3 Dir(s)  138,951,565,312 bytes free\n"
     ]
    }
   ],
   "source": [
    "ls"
   ]
  },
  {
   "cell_type": "code",
   "execution_count": 9,
   "id": "808542ab-5466-490a-8219-209a5c59941d",
   "metadata": {},
   "outputs": [],
   "source": [
    "import pandas as pd\n",
    "import numpy as np"
   ]
  },
  {
   "cell_type": "code",
   "execution_count": 11,
   "id": "902fecb2-13e2-43f4-881c-9fc0896f359d",
   "metadata": {},
   "outputs": [],
   "source": [
    "df_urban_air_qlty = pd.read_csv('Urban_Air_Quality_and_Health_Impact_Dataset.csv')"
   ]
  },
  {
   "cell_type": "code",
   "execution_count": 15,
   "id": "ca2a6c75-1921-41f9-88ff-990e1d4f7e44",
   "metadata": {},
   "outputs": [
    {
     "data": {
      "text/plain": [
       "Index(['datetime', 'datetimeEpoch', 'tempmax', 'tempmin', 'temp',\n",
       "       'feelslikemax', 'feelslikemin', 'feelslike', 'dew', 'humidity',\n",
       "       'precip', 'precipprob', 'precipcover', 'preciptype', 'snow',\n",
       "       'snowdepth', 'windgust', 'windspeed', 'winddir', 'pressure',\n",
       "       'cloudcover', 'visibility', 'solarradiation', 'solarenergy', 'uvindex',\n",
       "       'severerisk', 'sunrise', 'sunriseEpoch', 'sunset', 'sunsetEpoch',\n",
       "       'moonphase', 'conditions', 'description', 'icon', 'stations', 'source',\n",
       "       'City', 'Temp_Range', 'Heat_Index', 'Severity_Score', 'Condition_Code',\n",
       "       'Month', 'Season', 'Day_of_Week', 'Is_Weekend', 'Health_Risk_Score'],\n",
       "      dtype='object')"
      ]
     },
     "execution_count": 15,
     "metadata": {},
     "output_type": "execute_result"
    }
   ],
   "source": [
    "df_urban_air_qlty.columns"
   ]
  },
  {
   "cell_type": "code",
   "execution_count": 23,
   "id": "c517cb63-abc4-4956-9aba-52e8060961b8",
   "metadata": {},
   "outputs": [
    {
     "name": "stdout",
     "output_type": "stream",
     "text": [
      "datetime--dtype-->>object--percntg_nan-->>0.0\n",
      "datetimeEpoch--dtype-->>float64--percntg_nan-->>0.0\n",
      "tempmax--dtype-->>float64--percntg_nan-->>0.0\n",
      "tempmin--dtype-->>float64--percntg_nan-->>0.0\n",
      "temp--dtype-->>float64--percntg_nan-->>0.0\n",
      "feelslikemax--dtype-->>float64--percntg_nan-->>0.0\n",
      "feelslikemin--dtype-->>float64--percntg_nan-->>0.0\n",
      "feelslike--dtype-->>float64--percntg_nan-->>0.0\n",
      "dew--dtype-->>float64--percntg_nan-->>0.0\n",
      "humidity--dtype-->>float64--percntg_nan-->>0.0\n",
      "precip--dtype-->>float64--percntg_nan-->>0.0\n",
      "precipprob--dtype-->>float64--percntg_nan-->>0.0\n",
      "precipcover--dtype-->>float64--percntg_nan-->>0.0\n",
      "preciptype--dtype-->>object--percntg_nan-->>62.2\n",
      "snow--dtype-->>float64--percntg_nan-->>0.0\n",
      "snowdepth--dtype-->>float64--percntg_nan-->>7.1\n",
      "windgust--dtype-->>float64--percntg_nan-->>0.0\n",
      "windspeed--dtype-->>float64--percntg_nan-->>0.0\n",
      "winddir--dtype-->>float64--percntg_nan-->>0.0\n",
      "pressure--dtype-->>float64--percntg_nan-->>0.0\n",
      "cloudcover--dtype-->>float64--percntg_nan-->>0.0\n",
      "visibility--dtype-->>float64--percntg_nan-->>0.0\n",
      "solarradiation--dtype-->>float64--percntg_nan-->>0.0\n",
      "solarenergy--dtype-->>float64--percntg_nan-->>0.0\n",
      "uvindex--dtype-->>float64--percntg_nan-->>0.0\n",
      "severerisk--dtype-->>float64--percntg_nan-->>0.0\n",
      "sunrise--dtype-->>object--percntg_nan-->>0.0\n",
      "sunriseEpoch--dtype-->>float64--percntg_nan-->>0.0\n",
      "sunset--dtype-->>object--percntg_nan-->>0.0\n",
      "sunsetEpoch--dtype-->>float64--percntg_nan-->>0.0\n",
      "moonphase--dtype-->>float64--percntg_nan-->>0.0\n",
      "conditions--dtype-->>object--percntg_nan-->>0.0\n",
      "description--dtype-->>object--percntg_nan-->>0.0\n",
      "icon--dtype-->>object--percntg_nan-->>0.0\n",
      "stations--dtype-->>object--percntg_nan-->>93.30000000000001\n",
      "source--dtype-->>object--percntg_nan-->>0.0\n",
      "City--dtype-->>object--percntg_nan-->>0.0\n",
      "Temp_Range--dtype-->>float64--percntg_nan-->>0.0\n",
      "Heat_Index--dtype-->>float64--percntg_nan-->>0.0\n",
      "Severity_Score--dtype-->>float64--percntg_nan-->>0.0\n",
      "Condition_Code--dtype-->>float64--percntg_nan-->>43.1\n",
      "Month--dtype-->>float64--percntg_nan-->>0.0\n",
      "Season--dtype-->>object--percntg_nan-->>0.0\n",
      "Day_of_Week--dtype-->>object--percntg_nan-->>0.0\n",
      "Is_Weekend--dtype-->>bool--percntg_nan-->>0.0\n",
      "Health_Risk_Score--dtype-->>float64--percntg_nan-->>0.0\n"
     ]
    }
   ],
   "source": [
    "for col in df_urban_air_qlty.columns:\n",
    "    print(str(col)+'--dtype-->>'+str(df_urban_air_qlty[col].dtype)+'--percntg_nan-->>'+str((df_urban_air_qlty[col].isna().sum()/df_urban_air_qlty.shape[0])*100))"
   ]
  },
  {
   "cell_type": "code",
   "execution_count": 25,
   "id": "03d801d2-1818-447a-87e8-e6cdf82d0725",
   "metadata": {},
   "outputs": [],
   "source": [
    "df_urban_air_qlty.drop('stations',axis = 1,inplace = True)"
   ]
  },
  {
   "cell_type": "code",
   "execution_count": 27,
   "id": "12cd5de7-fa8c-4aef-a222-6082a9ec10bb",
   "metadata": {},
   "outputs": [
    {
     "data": {
      "text/plain": [
       "array([nan, \"['rain']\"], dtype=object)"
      ]
     },
     "execution_count": 27,
     "metadata": {},
     "output_type": "execute_result"
    }
   ],
   "source": [
    "df_urban_air_qlty['preciptype'].unique()"
   ]
  },
  {
   "cell_type": "code",
   "execution_count": 29,
   "id": "9eea6fa0-8367-4d40-abf6-c8511c3dcece",
   "metadata": {},
   "outputs": [
    {
     "data": {
      "text/plain": [
       "0         NaN\n",
       "1         NaN\n",
       "2         NaN\n",
       "3    ['rain']\n",
       "4    ['rain']\n",
       "Name: preciptype, dtype: object"
      ]
     },
     "execution_count": 29,
     "metadata": {},
     "output_type": "execute_result"
    }
   ],
   "source": [
    "df_urban_air_qlty['preciptype'].head()"
   ]
  },
  {
   "cell_type": "code",
   "execution_count": null,
   "id": "79bc7f65-d744-44ce-bb4a-ab214b812a82",
   "metadata": {},
   "outputs": [],
   "source": []
  }
 ],
 "metadata": {
  "kernelspec": {
   "display_name": "Python 3 (ipykernel)",
   "language": "python",
   "name": "python3"
  },
  "language_info": {
   "codemirror_mode": {
    "name": "ipython",
    "version": 3
   },
   "file_extension": ".py",
   "mimetype": "text/x-python",
   "name": "python",
   "nbconvert_exporter": "python",
   "pygments_lexer": "ipython3",
   "version": "3.12.4"
  }
 },
 "nbformat": 4,
 "nbformat_minor": 5
}
