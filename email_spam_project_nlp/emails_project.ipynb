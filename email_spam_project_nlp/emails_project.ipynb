{
 "cells": [
  {
   "cell_type": "code",
   "execution_count": 150,
   "id": "a84dffbb-8774-4095-b255-b97d1619cff8",
   "metadata": {},
   "outputs": [
    {
     "name": "stderr",
     "output_type": "stream",
     "text": [
      "[nltk_data] Downloading package stopwords to\n",
      "[nltk_data]     C:\\Users\\ramac\\AppData\\Roaming\\nltk_data...\n",
      "[nltk_data]   Package stopwords is already up-to-date!\n"
     ]
    },
    {
     "data": {
      "text/plain": [
       "True"
      ]
     },
     "execution_count": 150,
     "metadata": {},
     "output_type": "execute_result"
    }
   ],
   "source": [
    "import pandas as pd\n",
    "from matplotlib import pyplot as plt\n",
    "import pandas as pd\n",
    "import string\n",
    "import numpy as np\n",
    "import nltk\n",
    "from nltk.corpus import stopwords\n",
    "from gensim.models import Word2Vec\n",
    "# Download NLTK stopwords\n",
    "nltk.download('stopwords')"
   ]
  },
  {
   "cell_type": "code",
   "execution_count": 151,
   "id": "170ceb37",
   "metadata": {},
   "outputs": [
    {
     "name": "stdout",
     "output_type": "stream",
     "text": [
      " Volume in drive C has no label.\n",
      " Volume Serial Number is 7210-D35D\n",
      "\n",
      " Directory of C:\\Users\\ramac\\Downloads\n",
      "\n",
      "12/10/2024  09:51 PM    <DIR>          .\n",
      "12/10/2024  09:51 PM    <DIR>          ..\n",
      "12/10/2024  02:44 PM    <DIR>          .ipynb_checkpoints\n",
      "11/14/2024  10:56 AM         1,160,315 1. Introduction to PyTorch.pdf\n",
      "12/02/2024  06:00 PM            33,948 5 Tips to Help You Declutter Your Computer.jpg\n",
      "10/16/2024  09:33 AM       711,706,536 565.90-notebook-win10-win11-64bit-international-dch-whql.exe\n",
      "07/07/2024  10:30 AM            33,093 5Paisa Capital.xlsx\n",
      "09/09/2024  12:41 PM        46,075,597 AcademicHistory25.csv\n",
      "10/09/2024  01:52 PM           514,752 amazon_alexa.tsv\n",
      "07/18/2024  07:00 PM       956,650,896 Anaconda3-2024.06-1-Windows-x86_64.exe\n",
      "06/27/2024  07:34 PM         2,922,113 archive (1).zip\n",
      "11/11/2024  03:03 PM         2,097,152 archive (10) (1).zip\n",
      "11/11/2024  01:49 PM         2,994,798 archive (10).zip\n",
      "11/12/2024  02:33 PM         3,045,449 archive (11).zip\n",
      "11/22/2024  01:49 PM                22 archive (12).zip\n",
      "12/10/2024  11:49 AM    <DIR>          archive (13)\n",
      "12/08/2024  05:59 PM       561,044,474 archive (13).zip\n",
      "07/18/2024  07:16 PM                22 archive (2).zip\n",
      "08/06/2024  07:07 PM                22 archive (3).zip\n",
      "08/31/2024  10:43 AM    <DIR>          archive (4)\n",
      "08/31/2024  10:43 AM           167,607 archive (4).zip\n",
      "09/21/2024  02:57 PM    <DIR>          archive (5)\n",
      "09/21/2024  02:50 PM         2,255,023 archive (5).zip\n",
      "09/21/2024  03:01 PM    <DIR>          archive (6)\n",
      "09/21/2024  02:57 PM       265,777,100 archive (6).zip\n",
      "09/22/2024  09:02 AM           387,771 archive (7).zip\n",
      "09/30/2024  10:17 AM        28,697,488 archive (8).zip\n",
      "10/08/2024  08:19 PM             2,956 archive (9).zip\n",
      "06/27/2024  07:30 PM         2,922,113 archive.zip\n",
      "12/01/2024  12:24 PM           915,984 bankchurners12071124.ipynb\n",
      "07/15/2024  07:42 PM           186,223 Cars_Project (1).ipynb\n",
      "07/15/2024  08:28 PM           222,847 Cars_Project (2).ipynb\n",
      "07/15/2024  08:57 PM           222,847 Cars_Project (3).ipynb\n",
      "07/14/2024  10:59 AM           186,223 Cars_Project.ipynb\n",
      "06/22/2024  01:33 PM         8,420,232 ChromeSetup.exe\n",
      "12/10/2024  01:47 PM    <DIR>          CNN_project_predicting_wering_mask_or_not\n",
      "09/23/2024  04:40 PM         2,082,949 Credit_Score.zip\n",
      "09/26/2024  03:25 PM    <DIR>          Credit_Score_Analysis\n",
      "09/26/2024  03:26 PM         2,052,437 Credit_Score_Analysis.zip\n",
      "09/23/2024  04:40 PM    <DIR>          Credit_Score_Analysis_and_model_building\n",
      "09/26/2024  03:26 PM         2,083,565 Credit_Score_Analysis_and_model_building.zip\n",
      "09/22/2024  04:06 PM         2,082,576 Credit_Score_Project.zip\n",
      "11/30/2024  05:09 PM    <DIR>          Data\n",
      "09/09/2024  12:08 PM        81,993,874 Data.csv\n",
      "11/13/2024  12:45 PM     3,096,784,209 Deadpool & Wolverine (2024) 1080p HQ HDRip - x264 - (DD+5.1 ATMOS - 768Kbps & AAC) - 2.8GB - ESub.mkv\n",
      "12/10/2024  02:35 PM         8,960,484 emails_project.csv\n",
      "12/10/2024  09:51 PM            95,150 emails_project.ipynb\n",
      "12/03/2024  05:28 PM             3,134 Enhanced_Resume_Kesava_RamaManikanta_Chennamsetty_ReportLab.pdf\n",
      "10/08/2024  08:19 PM             8,555 Finance_data.csv\n",
      "09/12/2024  12:29 PM            94,718 Grade_Prediction_Project_12.ipynb\n",
      "09/09/2024  12:44 PM       171,629,474 GradePrediction_combined.csv\n",
      "09/09/2024  12:42 PM        10,710,010 GradePrediction_combined.csv.zip\n",
      "08/20/2024  06:24 PM         1,826,307 hdmc62....13 T20 Cricket (extract.me).zip\n",
      "08/20/2024  06:23 PM         1,208,115 hdmc62....13 T20 Cricket.rar\n",
      "11/19/2024  05:39 PM        64,534,348 heic-image-viewer-1-0-3-0.appxbundle\n",
      "09/21/2024  02:51 PM    <DIR>          ICC\n",
      "08/22/2024  06:51 PM    <DIR>          ICC (1)\n",
      "08/22/2024  06:50 PM         1,791,642 ICC (1).zip\n",
      "08/21/2024  08:01 PM         1,823,012 ICC.zip\n",
      "09/12/2024  04:21 PM         8,385,636 IMG_1946.JPG\n",
      "09/12/2024  04:21 PM         1,424,288 IMG_1947.JPG\n",
      "09/12/2024  04:21 PM         2,325,381 IMG_1951 (1).JPG\n",
      "09/12/2024  04:21 PM         2,325,381 IMG_1951.JPG\n",
      "09/12/2024  04:21 PM         1,312,775 IMG_1955.JPG\n",
      "09/12/2024  04:21 PM        12,400,943 IMG_1960 (1).JPG\n",
      "09/12/2024  04:21 PM        12,400,943 IMG_1960.JPG\n",
      "11/12/2024  04:09 PM         1,964,916 IMG_2662.HEIC\n",
      "11/12/2024  04:11 PM         2,263,863 IMG_2719.HEIC\n",
      "11/12/2024  04:11 PM         1,960,414 IMG_2723.HEIC\n",
      "11/12/2024  04:11 PM         1,429,377 IMG_2744.HEIC\n",
      "11/12/2024  04:12 PM         1,196,057 IMG_2745.HEIC\n",
      "11/12/2024  04:12 PM         2,808,514 IMG_2774.HEIC\n",
      "11/12/2024  04:12 PM         8,690,229 IMG_2774.JPEG\n",
      "11/12/2024  04:14 PM         3,784,360 IMG_2901.HEIC\n",
      "11/12/2024  04:14 PM         4,644,417 IMG_2917.HEIC\n",
      "11/12/2024  04:15 PM         2,763,992 IMG_2948.HEIC\n",
      "11/12/2024  04:16 PM         2,719,904 IMG_2978.HEIC\n",
      "11/12/2024  04:17 PM         1,341,877 IMG_3564.HEIC\n",
      "11/12/2024  04:17 PM         1,203,505 IMG_3565.HEIC\n",
      "11/12/2024  04:18 PM         1,576,159 IMG_3614.HEIC\n",
      "11/12/2024  04:18 PM           900,950 IMG_3618.HEIC\n",
      "11/12/2024  04:19 PM         1,228,492 IMG_3650.HEIC\n",
      "11/12/2024  04:19 PM         1,134,703 IMG_3663.HEIC\n",
      "11/12/2024  04:20 PM         1,075,996 IMG_3665.HEIC\n",
      "11/12/2024  04:23 PM         1,334,720 IMG_3757.HEIC\n",
      "11/12/2024  04:23 PM         1,421,487 IMG_3758.HEIC\n",
      "11/12/2024  04:23 PM         1,694,483 IMG_3760.HEIC\n",
      "12/03/2024  08:37 AM        39,637,311 JourneyThroughThe5StagesofLife-revised+(v5).pdf\n",
      "11/29/2024  09:58 AM     3,195,927,320 KA_(2024)_Telugu_1080p.mkv\n",
      "12/10/2024  12:53 PM           118,052 Kesava_Rama_Manikanta_Chennamsetty_2024.pdf\n",
      "12/04/2024  09:15 PM             2,901 Kesava_RamaManikanta_Chennamsetty_Modified_Resume.pdf\n",
      "12/04/2024  08:33 PM           245,532 Kesava_RamaManikantaChennamsetty__Resume (1).pdf\n",
      "12/04/2024  08:33 PM           245,532 Kesava_RamaManikantaChennamsetty__Resume.pdf\n",
      "10/03/2024  06:59 PM            11,525 KesavaRamaManikanta_Chennamsetty_Letter_1.docx\n",
      "10/03/2024  05:57 PM             1,727 KesavaRamaManikanta_Chennamsetty_Resume.txt\n",
      "09/10/2024  01:39 PM             6,705 ks_attr_lvl_analysis_on_tu_predict_fpd (1).py\n",
      "09/11/2024  09:52 AM            10,787 ks_charts.py\n",
      "06/29/2024  02:55 PM           369,763 lemon tree hotels.pdf\n",
      "10/16/2024  09:03 AM             1,330 LLM+Application+Security+and+Performance.ics\n",
      "11/13/2024  09:18 AM           384,337 loan_approval_dataset.csv\n",
      "10/13/2024  05:51 PM       515,250,309 Mathu-Vadalara-2-Telugu-ktm3e-2024.mp4\n",
      "08/06/2024  07:49 PM    <DIR>          New_project_on_global_ev_sales\n",
      "08/29/2024  06:29 PM        15,288,260 NLP_Projects.zip\n",
      "07/15/2024  07:59 PM               617 Project (1).ipynb\n",
      "07/15/2024  07:59 PM               617 Project.ipynb\n",
      "07/18/2024  07:31 PM    <DIR>          Project_Student_Acadamic_Sucess\n",
      "11/15/2024  12:04 PM    <DIR>          Pytorch\n",
      "11/17/2024  11:15 AM               303 pytorch_course_env.yml\n",
      "12/08/2024  10:23 AM       862,955,157 pytorch_model.bin\n",
      "12/08/2024  07:26 PM    <DIR>          Pytorch_practice\n",
      "12/03/2024  05:36 PM             3,876 Refined_Resume_Kesava_Chennamsetty_Corrected.pdf\n",
      "11/29/2024  07:05 PM       490,522,506 Sattam En Kaiyil (2024) Tamil HQ HDRip - x264 - AAC - 700MB - ESub.mp4\n",
      "10/17/2024  07:37 AM        43,949,596 scipy-1.11.0-cp311-cp311-win_amd64.whl\n",
      "10/03/2024  01:59 PM             1,480 Showcase+your+AI+Skills+and+land+your+dream+AI+Job+using+Vipas.AI.ics\n",
      "11/24/2024  03:29 PM           691,789 SIP+SWP StepUp Calculator.xlsx.xlsx\n",
      "07/09/2024  08:53 PM           151,356 Stock_Market_Prediction_ML.zip\n",
      "12/05/2024  02:31 PM    <DIR>          Telegram Desktop\n",
      "10/15/2024  09:49 AM        72,078,315 test.csv.zip\n",
      "12/04/2024  08:31 PM               420 This PC - Shortcut.lnk\n",
      "09/13/2024  01:23 PM    <DIR>          titanic (1)\n",
      "09/13/2024  01:23 PM            57,006 titanic (1).zip\n",
      "09/12/2024  03:33 PM    <DIR>          Titanic Project\n",
      "09/04/2024  06:40 PM                22 titanic.zip\n",
      "10/15/2024  09:45 AM       628,790,296 train.csv.zip\n",
      "07/15/2024  07:42 PM           470,701 used_car_prices.csv\n",
      "09/12/2024  03:11 PM       101,249,736 VSCodeUserSetup-x64-1.93.0.exe\n",
      "09/02/2024  07:58 PM         1,646,373 WhatsApp Image 2024-09-01 at 10.06.36 PM.jpeg\n",
      "09/02/2024  07:58 PM         2,049,769 WhatsApp Image 2024-09-01 at 10.06.56 PM.jpeg\n",
      "09/02/2024  07:57 PM         1,916,615 WhatsApp Image 2024-09-01 at 10.07.38 PM.jpeg\n",
      "09/02/2024  07:57 PM         1,105,380 WhatsApp Image 2024-09-01 at 10.09.13 PM.jpeg\n",
      "09/02/2024  07:57 PM         1,237,534 WhatsApp Image 2024-09-01 at 10.11.00 PM.jpeg\n",
      "09/02/2024  07:58 PM         1,748,445 WhatsApp Image 2024-09-01 at 4.18.34 PM.jpeg\n",
      "09/02/2024  07:55 PM         3,183,362 WhatsApp Image 2024-09-02 at 1.57.52 PM (1).jpeg\n",
      "09/02/2024  07:55 PM         3,135,769 WhatsApp Image 2024-09-02 at 1.57.52 PM.jpeg\n",
      "09/02/2024  07:56 PM         2,346,771 WhatsApp Image 2024-09-02 at 10.49.48 AM.jpeg\n",
      "09/02/2024  07:56 PM         1,942,667 WhatsApp Image 2024-09-02 at 10.50.02 AM.jpeg\n",
      "09/02/2024  07:56 PM         2,244,655 WhatsApp Image 2024-09-02 at 10.50.15 AM.jpeg\n",
      "09/02/2024  07:56 PM           434,425 WhatsApp Image 2024-09-02 at 10.50.37 AM.jpeg\n",
      "09/02/2024  07:56 PM           494,692 WhatsApp Image 2024-09-02 at 10.50.55 AM.jpeg\n",
      "09/02/2024  07:56 PM         1,114,822 WhatsApp Image 2024-09-02 at 10.51.08 AM.jpeg\n",
      "09/02/2024  07:56 PM         1,150,467 WhatsApp Image 2024-09-02 at 10.51.29 AM.jpeg\n",
      "09/02/2024  07:56 PM           603,819 WhatsApp Image 2024-09-02 at 10.51.56 AM.jpeg\n",
      "09/02/2024  07:56 PM         1,099,383 WhatsApp Image 2024-09-02 at 10.52.13 AM.jpeg\n",
      "12/02/2024  04:45 PM           117,653 WhatsApp Image 2024-12-02 at 4.44.43 PM.jpeg\n",
      "09/02/2024  07:57 PM         4,152,595 WhatsApp Video 2024-09-01 at 10.11.48 PM.mp4\n",
      "12/10/2024  07:33 PM        30,903,994 word2vec.model\n",
      "07/12/2024  08:45 PM     3,080,013,570 www.1TamilMV.cz - Harom Hara (2024) Telugu TRUE WEB-DL - 1080p - AVC - (DD+5.1 - 640Kbps & AAC) - 2.9GB - ESub.mkv\n",
      "07/12/2024  09:34 PM            59,389 www.1TamilMV.cz - Harom Hara (2024) Telugu TRUE WEB-DL - 1080p - AVC - (DD+5.1 - 640Kbps & AAC) - 2.9GB - ESub.mkv (1).torrent\n",
      "07/12/2024  08:41 PM            59,389 www.1TamilMV.cz - Harom Hara (2024) Telugu TRUE WEB-DL - 1080p - AVC - (DD+5.1 - 640Kbps & AAC) - 2.9GB - ESub.mkv.torrent\n",
      "07/26/2024  10:32 PM     2,996,706,468 www.5MoiveRulz.ink - Chandu Champion (2024) 1080p TRUE WEB-DL - AVC - (DD+5.1 - 192Kbps & AAC) [Tel + Tam] - 2.8GB - ESub.mkv\n",
      "11/10/2024  12:22 PM     2,321,108,632 www.5MovieRulz.boo - Janaka Ayithe Ganaka (2024) 1080p Telugu TRUE WEB-DL - AVC - (DD+5.1 - 384Kbps & AAC) - 2.2GB - ESub.mkv\n",
      "11/28/2024  09:05 PM     1,755,044,773 www.5MovieRulz.shop - Appudo Ippudo Eppudo (2024) 1080p Telugu HQ HDRip - HEVC - x265 - (DD+5.1 - 192Kbps & AAC 2.0) - 1.6GB - ESub.mkv\n",
      "12/06/2024  09:11 AM     3,180,502,206 www.5MovieRulz.shop - Jigra (2024) 1080p Telugu TRUE WEB-DL - AVC - (DD+ 5.1 - 640kbps & AAC) - 2.9GB - ESub.mkv\n",
      "11/29/2024  09:17 AM     2,269,370,909 www.5MovieRulz.shop - KA (2024) 1080p Telugu TRUE WEB-DL - AVC - UNTOUCHED - (DD+5.1 ATMOS - 448Kbps & AAC 2.0) - 2.1GB.mkv\n",
      "12/05/2024  07:40 PM     2,952,058,916 www.5MovieRulz.shop - Kanguva (2024) 1080p Telugu HQ HDRip - x264 - AAC - 2.8GB - ESub.mkv\n",
      "07/09/2024  06:56 PM           238,528 XGBoost-stock-prediction-11-october-2023 (1).zip\n",
      "07/09/2024  06:55 PM           238,528 XGBoost-stock-prediction-11-october-2023.zip\n",
      "12/06/2024  02:44 PM    <DIR>          YellowElephantProductions.58264AF513589_p3e1zgp7z7szg!App\n",
      "             137 File(s) 30,722,577,606 bytes\n",
      "              21 Dir(s)  109,992,796,160 bytes free\n"
     ]
    }
   ],
   "source": [
    "ls"
   ]
  },
  {
   "cell_type": "code",
   "execution_count": 152,
   "id": "b0029eb5-b722-4da2-afb2-7a44ca4ff2c0",
   "metadata": {},
   "outputs": [],
   "source": [
    "df = pd.read_csv('emails_project.csv') "
   ]
  },
  {
   "cell_type": "code",
   "execution_count": 153,
   "id": "1d375f32-981f-4802-b6bf-c2befc3e392b",
   "metadata": {},
   "outputs": [
    {
     "data": {
      "text/html": [
       "<div>\n",
       "<style scoped>\n",
       "    .dataframe tbody tr th:only-of-type {\n",
       "        vertical-align: middle;\n",
       "    }\n",
       "\n",
       "    .dataframe tbody tr th {\n",
       "        vertical-align: top;\n",
       "    }\n",
       "\n",
       "    .dataframe thead th {\n",
       "        text-align: right;\n",
       "    }\n",
       "</style>\n",
       "<table border=\"1\" class=\"dataframe\">\n",
       "  <thead>\n",
       "    <tr style=\"text-align: right;\">\n",
       "      <th></th>\n",
       "      <th>text</th>\n",
       "      <th>spam</th>\n",
       "    </tr>\n",
       "  </thead>\n",
       "  <tbody>\n",
       "    <tr>\n",
       "      <th>0</th>\n",
       "      <td>Subject: naturally irresistible your corporate...</td>\n",
       "      <td>1</td>\n",
       "    </tr>\n",
       "    <tr>\n",
       "      <th>1</th>\n",
       "      <td>Subject: the stock trading gunslinger  fanny i...</td>\n",
       "      <td>1</td>\n",
       "    </tr>\n",
       "    <tr>\n",
       "      <th>2</th>\n",
       "      <td>Subject: unbelievable new homes made easy  im ...</td>\n",
       "      <td>1</td>\n",
       "    </tr>\n",
       "    <tr>\n",
       "      <th>3</th>\n",
       "      <td>Subject: 4 color printing special  request add...</td>\n",
       "      <td>1</td>\n",
       "    </tr>\n",
       "    <tr>\n",
       "      <th>4</th>\n",
       "      <td>Subject: do not have money , get software cds ...</td>\n",
       "      <td>1</td>\n",
       "    </tr>\n",
       "  </tbody>\n",
       "</table>\n",
       "</div>"
      ],
      "text/plain": [
       "                                                text  spam\n",
       "0  Subject: naturally irresistible your corporate...     1\n",
       "1  Subject: the stock trading gunslinger  fanny i...     1\n",
       "2  Subject: unbelievable new homes made easy  im ...     1\n",
       "3  Subject: 4 color printing special  request add...     1\n",
       "4  Subject: do not have money , get software cds ...     1"
      ]
     },
     "execution_count": 153,
     "metadata": {},
     "output_type": "execute_result"
    }
   ],
   "source": [
    "df.head()"
   ]
  },
  {
   "cell_type": "code",
   "execution_count": 154,
   "id": "984e058d-46e9-42b5-85b3-3b6c3e6eb451",
   "metadata": {},
   "outputs": [
    {
     "data": {
      "text/plain": [
       "(5728, 2)"
      ]
     },
     "execution_count": 154,
     "metadata": {},
     "output_type": "execute_result"
    }
   ],
   "source": [
    "df.shape"
   ]
  },
  {
   "cell_type": "code",
   "execution_count": 155,
   "id": "1006a88f-18ee-4b77-a569-8ead63acda90",
   "metadata": {},
   "outputs": [
    {
     "data": {
      "text/plain": [
       "array([1, 0], dtype=int64)"
      ]
     },
     "execution_count": 155,
     "metadata": {},
     "output_type": "execute_result"
    }
   ],
   "source": [
    "df['spam'].unique()"
   ]
  },
  {
   "cell_type": "code",
   "execution_count": 156,
   "id": "c14532f2-4bc4-488b-9651-06feff71a62b",
   "metadata": {},
   "outputs": [
    {
     "data": {
      "text/plain": [
       "Text(0, 0.5, 'count')"
      ]
     },
     "execution_count": 156,
     "metadata": {},
     "output_type": "execute_result"
    },
    {
     "data": {
      "image/png": "[encoded data removed]",
      "text/plain": [
       "<Figure size 640x480 with 1 Axes>"
      ]
     },
     "metadata": {},
     "output_type": "display_data"
    }
   ],
   "source": [
    "plt.bar(df['spam'].unique(), [df[df['spam'] == 1].shape[0], df[df['spam'] == 0].shape[0]])\n",
    "plt.xlabel('spam')\n",
    "plt.ylabel('count')"
   ]
  },
  {
   "cell_type": "markdown",
   "id": "7ef5d2dc-6cc1-406e-a8dc-82cffb22b1db",
   "metadata": {},
   "source": [
    "#### Spams are more"
   ]
  },
  {
   "cell_type": "code",
   "execution_count": 157,
   "id": "af7ae60f-de01-4eee-8231-578cda4869e8",
   "metadata": {},
   "outputs": [
    {
     "data": {
      "text/plain": [
       "text    0\n",
       "spam    0\n",
       "dtype: int64"
      ]
     },
     "execution_count": 157,
     "metadata": {},
     "output_type": "execute_result"
    }
   ],
   "source": [
    "df.isna().sum()"
   ]
  },
  {
   "cell_type": "markdown",
   "id": "e9c51f13-85a6-42d3-99e8-0a62f8340a8c",
   "metadata": {},
   "source": [
    "#### No Nan values"
   ]
  },
  {
   "cell_type": "code",
   "execution_count": 158,
   "id": "e4d1f4f9-d5b2-44d7-9355-a88e4bf6f1ff",
   "metadata": {},
   "outputs": [
    {
     "name": "stderr",
     "output_type": "stream",
     "text": [
      "[nltk_data] Downloading package stopwords to\n",
      "[nltk_data]     C:\\Users\\ramac\\AppData\\Roaming\\nltk_data...\n",
      "[nltk_data]   Package stopwords is already up-to-date!\n"
     ]
    }
   ],
   "source": [
    "import string\n",
    "from nltk.corpus import stopwords\n",
    "\n",
    "# Download the stopwords if you haven't already\n",
    "import nltk\n",
    "nltk.download('stopwords')\n",
    "\n",
    "def preprocess_text(text):\n",
    "    # Convert text to lowercase\n",
    "    text = text.lower()\n",
    "    # Remove punctuation\n",
    "    text = text.translate(str.maketrans('', '', string.punctuation))\n",
    "    # Tokenize the text into words\n",
    "    words = text.split()\n",
    "    # Get the set of English stopwords\n",
    "    stop_words = set(stopwords.words('english'))\n",
    "    # Remove stopwords\n",
    "    filtered_words = [word for word in words if word not in stop_words]\n",
    "\n",
    "    return filtered_words\n"
   ]
  },
  {
   "cell_type": "code",
   "execution_count": 159,
   "id": "5056f241-4746-4d45-b199-5502252fb5f3",
   "metadata": {},
   "outputs": [],
   "source": [
    "df['processed_text'] = df['text'].apply(preprocess_text)"
   ]
  },
  {
   "cell_type": "code",
   "execution_count": 160,
   "id": "be4c1320-df56-468c-9290-1758821ddc76",
   "metadata": {},
   "outputs": [
    {
     "data": {
      "text/html": [
       "<div>\n",
       "<style scoped>\n",
       "    .dataframe tbody tr th:only-of-type {\n",
       "        vertical-align: middle;\n",
       "    }\n",
       "\n",
       "    .dataframe tbody tr th {\n",
       "        vertical-align: top;\n",
       "    }\n",
       "\n",
       "    .dataframe thead th {\n",
       "        text-align: right;\n",
       "    }\n",
       "</style>\n",
       "<table border=\"1\" class=\"dataframe\">\n",
       "  <thead>\n",
       "    <tr style=\"text-align: right;\">\n",
       "      <th></th>\n",
       "      <th>text</th>\n",
       "      <th>spam</th>\n",
       "      <th>processed_text</th>\n",
       "    </tr>\n",
       "  </thead>\n",
       "  <tbody>\n",
       "    <tr>\n",
       "      <th>0</th>\n",
       "      <td>Subject: naturally irresistible your corporate...</td>\n",
       "      <td>1</td>\n",
       "      <td>[subject, naturally, irresistible, corporate, ...</td>\n",
       "    </tr>\n",
       "    <tr>\n",
       "      <th>1</th>\n",
       "      <td>Subject: the stock trading gunslinger  fanny i...</td>\n",
       "      <td>1</td>\n",
       "      <td>[subject, stock, trading, gunslinger, fanny, m...</td>\n",
       "    </tr>\n",
       "    <tr>\n",
       "      <th>2</th>\n",
       "      <td>Subject: unbelievable new homes made easy  im ...</td>\n",
       "      <td>1</td>\n",
       "      <td>[subject, unbelievable, new, homes, made, easy...</td>\n",
       "    </tr>\n",
       "    <tr>\n",
       "      <th>3</th>\n",
       "      <td>Subject: 4 color printing special  request add...</td>\n",
       "      <td>1</td>\n",
       "      <td>[subject, 4, color, printing, special, request...</td>\n",
       "    </tr>\n",
       "    <tr>\n",
       "      <th>4</th>\n",
       "      <td>Subject: do not have money , get software cds ...</td>\n",
       "      <td>1</td>\n",
       "      <td>[subject, money, get, software, cds, software,...</td>\n",
       "    </tr>\n",
       "  </tbody>\n",
       "</table>\n",
       "</div>"
      ],
      "text/plain": [
       "                                                text  spam  \\\n",
       "0  Subject: naturally irresistible your corporate...     1   \n",
       "1  Subject: the stock trading gunslinger  fanny i...     1   \n",
       "2  Subject: unbelievable new homes made easy  im ...     1   \n",
       "3  Subject: 4 color printing special  request add...     1   \n",
       "4  Subject: do not have money , get software cds ...     1   \n",
       "\n",
       "                                      processed_text  \n",
       "0  [subject, naturally, irresistible, corporate, ...  \n",
       "1  [subject, stock, trading, gunslinger, fanny, m...  \n",
       "2  [subject, unbelievable, new, homes, made, easy...  \n",
       "3  [subject, 4, color, printing, special, request...  \n",
       "4  [subject, money, get, software, cds, software,...  "
      ]
     },
     "execution_count": 160,
     "metadata": {},
     "output_type": "execute_result"
    }
   ],
   "source": [
    "df.head()"
   ]
  },
  {
   "cell_type": "code",
   "execution_count": 161,
   "id": "70fd983f-2158-4cec-94f5-beec9a40776c",
   "metadata": {},
   "outputs": [],
   "source": [
    "sentences = df['processed_text'].tolist()\n",
    "\n",
    "# Train the Word2Vec model\n",
    "model = Word2Vec(sentences, vector_size=100, window=5, min_count=1, workers=4)\n",
    "\n",
    "# Save the trained model (optional)\n",
    "model.save(\"word2vec.model\")\n",
    "\n",
    "# Print the vector for a sample word\n",
    "word_vector = model.wv['sample'] "
   ]
  },
  {
   "cell_type": "code",
   "execution_count": 162,
   "id": "61a30a88-bc56-43d7-952e-4b173be809b1",
   "metadata": {},
   "outputs": [],
   "source": [
    "def get_document_vector(text, model):\n",
    "    # Get word vectors for the words in the document\n",
    "    word_vectors = [model.wv[word] for word in text if word in model.wv]\n",
    "    \n",
    "    # If no word vectors exist (e.g., out-of-vocabulary words), return a zero vector\n",
    "    if len(word_vectors) == 0:\n",
    "        return np.zeros(model.vector_size)  # Return a zero vector\n",
    "\n",
    "    # Return the average of the word vectors\n",
    "    return np.mean(word_vectors, axis=0)\n",
    "\n",
    "# Generate document vectors for each row in the DataFrame using the pre-trained Word2Vec model\n",
    "df['document_vector'] = df['processed_text'].apply(lambda x: get_document_vector(x, model))\n",
    "\n",
    "# Preview the document vectors\n"
   ]
  },
  {
   "cell_type": "code",
   "execution_count": 163,
   "id": "233ebc79-a15e-4c57-96bd-17a41fc8877a",
   "metadata": {},
   "outputs": [
    {
     "data": {
      "text/html": [
       "<div>\n",
       "<style scoped>\n",
       "    .dataframe tbody tr th:only-of-type {\n",
       "        vertical-align: middle;\n",
       "    }\n",
       "\n",
       "    .dataframe tbody tr th {\n",
       "        vertical-align: top;\n",
       "    }\n",
       "\n",
       "    .dataframe thead th {\n",
       "        text-align: right;\n",
       "    }\n",
       "</style>\n",
       "<table border=\"1\" class=\"dataframe\">\n",
       "  <thead>\n",
       "    <tr style=\"text-align: right;\">\n",
       "      <th></th>\n",
       "      <th>text</th>\n",
       "      <th>spam</th>\n",
       "      <th>processed_text</th>\n",
       "      <th>document_vector</th>\n",
       "    </tr>\n",
       "  </thead>\n",
       "  <tbody>\n",
       "    <tr>\n",
       "      <th>0</th>\n",
       "      <td>Subject: naturally irresistible your corporate...</td>\n",
       "      <td>1</td>\n",
       "      <td>[subject, naturally, irresistible, corporate, ...</td>\n",
       "      <td>[-0.15080358, -0.5550073, 0.18366364, -0.06230...</td>\n",
       "    </tr>\n",
       "    <tr>\n",
       "      <th>1</th>\n",
       "      <td>Subject: the stock trading gunslinger  fanny i...</td>\n",
       "      <td>1</td>\n",
       "      <td>[subject, stock, trading, gunslinger, fanny, m...</td>\n",
       "      <td>[-0.100309126, 0.05651662, 0.120450035, -0.020...</td>\n",
       "    </tr>\n",
       "    <tr>\n",
       "      <th>2</th>\n",
       "      <td>Subject: unbelievable new homes made easy  im ...</td>\n",
       "      <td>1</td>\n",
       "      <td>[subject, unbelievable, new, homes, made, easy...</td>\n",
       "      <td>[0.05331086, -0.32427263, 0.24595317, -0.08426...</td>\n",
       "    </tr>\n",
       "    <tr>\n",
       "      <th>3</th>\n",
       "      <td>Subject: 4 color printing special  request add...</td>\n",
       "      <td>1</td>\n",
       "      <td>[subject, 4, color, printing, special, request...</td>\n",
       "      <td>[-0.09442674, -0.5254719, 0.0163834, -0.316396...</td>\n",
       "    </tr>\n",
       "    <tr>\n",
       "      <th>4</th>\n",
       "      <td>Subject: do not have money , get software cds ...</td>\n",
       "      <td>1</td>\n",
       "      <td>[subject, money, get, software, cds, software,...</td>\n",
       "      <td>[-0.10841254, -0.37148294, 0.018379286, 0.0204...</td>\n",
       "    </tr>\n",
       "  </tbody>\n",
       "</table>\n",
       "</div>"
      ],
      "text/plain": [
       "                                                text  spam  \\\n",
       "0  Subject: naturally irresistible your corporate...     1   \n",
       "1  Subject: the stock trading gunslinger  fanny i...     1   \n",
       "2  Subject: unbelievable new homes made easy  im ...     1   \n",
       "3  Subject: 4 color printing special  request add...     1   \n",
       "4  Subject: do not have money , get software cds ...     1   \n",
       "\n",
       "                                      processed_text  \\\n",
       "0  [subject, naturally, irresistible, corporate, ...   \n",
       "1  [subject, stock, trading, gunslinger, fanny, m...   \n",
       "2  [subject, unbelievable, new, homes, made, easy...   \n",
       "3  [subject, 4, color, printing, special, request...   \n",
       "4  [subject, money, get, software, cds, software,...   \n",
       "\n",
       "                                     document_vector  \n",
       "0  [-0.15080358, -0.5550073, 0.18366364, -0.06230...  \n",
       "1  [-0.100309126, 0.05651662, 0.120450035, -0.020...  \n",
       "2  [0.05331086, -0.32427263, 0.24595317, -0.08426...  \n",
       "3  [-0.09442674, -0.5254719, 0.0163834, -0.316396...  \n",
       "4  [-0.10841254, -0.37148294, 0.018379286, 0.0204...  "
      ]
     },
     "execution_count": 163,
     "metadata": {},
     "output_type": "execute_result"
    }
   ],
   "source": [
    "df.head()"
   ]
  },
  {
   "cell_type": "code",
   "execution_count": 164,
   "id": "04472f18-9a55-4ed8-bd4a-d1e6b8980acb",
   "metadata": {},
   "outputs": [],
   "source": [
    "X = np.array(df['document_vector'].tolist())\n",
    "y = np.array(df['spam'])"
   ]
  },
  {
   "cell_type": "code",
   "execution_count": 165,
   "id": "9b080181",
   "metadata": {},
   "outputs": [
    {
     "data": {
      "text/plain": [
       "(5728, 100)"
      ]
     },
     "execution_count": 165,
     "metadata": {},
     "output_type": "execute_result"
    }
   ],
   "source": [
    "X.shape"
   ]
  },
  {
   "cell_type": "code",
   "execution_count": 166,
   "id": "d5e89821-3583-4e94-b2b6-a51d6f3641ec",
   "metadata": {},
   "outputs": [],
   "source": [
    "# Split into training and testing sets\n",
    "from sklearn.model_selection import train_test_split\n",
    "from sklearn.linear_model import LogisticRegression\n",
    "from sklearn.metrics import accuracy_score, classification_report\n",
    "X_train, X_test, y_train, y_test = train_test_split(X, y, test_size=0.2, random_state=42)"
   ]
  },
  {
   "cell_type": "code",
   "execution_count": 167,
   "id": "6ae1a47f-d186-414f-900a-a4f7bde25505",
   "metadata": {},
   "outputs": [],
   "source": [
    "# Split into training and testing sets\n",
    "X_train, X_test, y_train, y_test = train_test_split(X, y, test_size=0.2, random_state=42)"
   ]
  },
  {
   "cell_type": "code",
   "execution_count": 168,
   "id": "c4d5f0c3-70f6-4abe-8547-1d62148522b0",
   "metadata": {},
   "outputs": [
    {
     "name": "stderr",
     "output_type": "stream",
     "text": [
      "C:\\Users\\ramac\\anaconda3\\anaconda\\anaconda\\envs\\pytorchenv\\lib\\site-packages\\sklearn\\linear_model\\logistic.py:433: FutureWarning: Default solver will be changed to 'lbfgs' in 0.22. Specify a solver to silence this warning.\n",
      "  FutureWarning)\n"
     ]
    },
    {
     "data": {
      "text/plain": [
       "LogisticRegression(C=1.0, class_weight=None, dual=False, fit_intercept=True,\n",
       "          intercept_scaling=1, max_iter=1000, multi_class='warn',\n",
       "          n_jobs=None, penalty='l2', random_state=None, solver='warn',\n",
       "          tol=0.0001, verbose=0, warm_start=False)"
      ]
     },
     "execution_count": 168,
     "metadata": {},
     "output_type": "execute_result"
    }
   ],
   "source": [
    "# Train a Logistic Regression model\n",
    "model_lr = LogisticRegression(max_iter=1000)\n",
    "model_lr.fit(X_train, y_train)"
   ]
  },
  {
   "cell_type": "code",
   "execution_count": 169,
   "id": "e67c8f31-d409-4dd6-8189-4c8a0506b30e",
   "metadata": {},
   "outputs": [
    {
     "name": "stdout",
     "output_type": "stream",
     "text": [
      "Accuracy: 0.9572\n"
     ]
    },
    {
     "name": "stderr",
     "output_type": "stream",
     "text": [
      "C:\\Users\\ramac\\anaconda3\\anaconda\\anaconda\\envs\\pytorchenv\\lib\\site-packages\\sklearn\\linear_model\\base.py:283: DeprecationWarning: `np.int` is a deprecated alias for the builtin `int`. To silence this warning, use `int` by itself. Doing this will not modify any behavior and is safe. When replacing `np.int`, you may wish to use e.g. `np.int64` or `np.int32` to specify the precision. If you wish to review your current use, check the release note link for additional information.\n",
      "Deprecated in NumPy 1.20; for more details and guidance: https://numpy.org/devdocs/release/1.20.0-notes.html#deprecations\n",
      "  indices = (scores > 0).astype(np.int)\n"
     ]
    }
   ],
   "source": [
    "# Make predictions on the test set\n",
    "y_pred = model_lr.predict(X_test)\n",
    "\n",
    "# Evaluate the model using accuracy and classification report\n",
    "accuracy = accuracy_score(y_test, y_pred)\n",
    "print(f\"Accuracy: {accuracy:.4f}\")\n",
    "\n",
    "# Print detailed classification report\n"
   ]
  },
  {
   "cell_type": "markdown",
   "id": "894d9e7b-92da-4f09-8e12-841d9fd1961b",
   "metadata": {},
   "source": [
    "### Predicting the new text it is spam or not"
   ]
  },
  {
   "cell_type": "code",
   "execution_count": 170,
   "id": "7169d51d-0842-4f84-b360-ddc677ba6d9a",
   "metadata": {},
   "outputs": [
    {
     "name": "stdout",
     "output_type": "stream",
     "text": [
      "The predicted class for the new text is: 1\n"
     ]
    },
    {
     "name": "stderr",
     "output_type": "stream",
     "text": [
      "C:\\Users\\ramac\\anaconda3\\anaconda\\anaconda\\envs\\pytorchenv\\lib\\site-packages\\sklearn\\linear_model\\base.py:283: DeprecationWarning: `np.int` is a deprecated alias for the builtin `int`. To silence this warning, use `int` by itself. Doing this will not modify any behavior and is safe. When replacing `np.int`, you may wish to use e.g. `np.int64` or `np.int32` to specify the precision. If you wish to review your current use, check the release note link for additional information.\n",
      "Deprecated in NumPy 1.20; for more details and guidance: https://numpy.org/devdocs/release/1.20.0-notes.html#deprecations\n",
      "  indices = (scores > 0).astype(np.int)\n"
     ]
    }
   ],
   "source": [
    "new_text = \"Subject: you won a one million$\"\n",
    "text = preprocess_text(new_text)\n",
    "new_document_vector = get_document_vector(text, model)\n",
    "\n",
    "# Reshape the new document vector to match the shape expected by the classifier\n",
    "new_document_vector = new_document_vector.reshape(1, -1)\n",
    "\n",
    "# Predict the class of the new text using the trained model\n",
    "predicted_class = model_lr.predict(new_document_vector)\n",
    "\n",
    "# Output the prediction\n",
    "print(f\"The predicted class for the new text is: {predicted_class[0]}\")"
   ]
  },
  {
   "cell_type": "code",
   "execution_count": 171,
   "id": "b8dff3e8-04a4-4a8e-b535-4e70689ecb0a",
   "metadata": {},
   "outputs": [
    {
     "data": {
      "text/html": [
       "<div>\n",
       "<style scoped>\n",
       "    .dataframe tbody tr th:only-of-type {\n",
       "        vertical-align: middle;\n",
       "    }\n",
       "\n",
       "    .dataframe tbody tr th {\n",
       "        vertical-align: top;\n",
       "    }\n",
       "\n",
       "    .dataframe thead th {\n",
       "        text-align: right;\n",
       "    }\n",
       "</style>\n",
       "<table border=\"1\" class=\"dataframe\">\n",
       "  <thead>\n",
       "    <tr style=\"text-align: right;\">\n",
       "      <th></th>\n",
       "      <th>text</th>\n",
       "      <th>spam</th>\n",
       "      <th>processed_text</th>\n",
       "      <th>document_vector</th>\n",
       "    </tr>\n",
       "  </thead>\n",
       "  <tbody>\n",
       "    <tr>\n",
       "      <th>0</th>\n",
       "      <td>Subject: naturally irresistible your corporate...</td>\n",
       "      <td>1</td>\n",
       "      <td>[subject, naturally, irresistible, corporate, ...</td>\n",
       "      <td>[-0.15080358, -0.5550073, 0.18366364, -0.06230...</td>\n",
       "    </tr>\n",
       "    <tr>\n",
       "      <th>1</th>\n",
       "      <td>Subject: the stock trading gunslinger  fanny i...</td>\n",
       "      <td>1</td>\n",
       "      <td>[subject, stock, trading, gunslinger, fanny, m...</td>\n",
       "      <td>[-0.100309126, 0.05651662, 0.120450035, -0.020...</td>\n",
       "    </tr>\n",
       "    <tr>\n",
       "      <th>2</th>\n",
       "      <td>Subject: unbelievable new homes made easy  im ...</td>\n",
       "      <td>1</td>\n",
       "      <td>[subject, unbelievable, new, homes, made, easy...</td>\n",
       "      <td>[0.05331086, -0.32427263, 0.24595317, -0.08426...</td>\n",
       "    </tr>\n",
       "    <tr>\n",
       "      <th>3</th>\n",
       "      <td>Subject: 4 color printing special  request add...</td>\n",
       "      <td>1</td>\n",
       "      <td>[subject, 4, color, printing, special, request...</td>\n",
       "      <td>[-0.09442674, -0.5254719, 0.0163834, -0.316396...</td>\n",
       "    </tr>\n",
       "    <tr>\n",
       "      <th>4</th>\n",
       "      <td>Subject: do not have money , get software cds ...</td>\n",
       "      <td>1</td>\n",
       "      <td>[subject, money, get, software, cds, software,...</td>\n",
       "      <td>[-0.10841254, -0.37148294, 0.018379286, 0.0204...</td>\n",
       "    </tr>\n",
       "  </tbody>\n",
       "</table>\n",
       "</div>"
      ],
      "text/plain": [
       "                                                text  spam  \\\n",
       "0  Subject: naturally irresistible your corporate...     1   \n",
       "1  Subject: the stock trading gunslinger  fanny i...     1   \n",
       "2  Subject: unbelievable new homes made easy  im ...     1   \n",
       "3  Subject: 4 color printing special  request add...     1   \n",
       "4  Subject: do not have money , get software cds ...     1   \n",
       "\n",
       "                                      processed_text  \\\n",
       "0  [subject, naturally, irresistible, corporate, ...   \n",
       "1  [subject, stock, trading, gunslinger, fanny, m...   \n",
       "2  [subject, unbelievable, new, homes, made, easy...   \n",
       "3  [subject, 4, color, printing, special, request...   \n",
       "4  [subject, money, get, software, cds, software,...   \n",
       "\n",
       "                                     document_vector  \n",
       "0  [-0.15080358, -0.5550073, 0.18366364, -0.06230...  \n",
       "1  [-0.100309126, 0.05651662, 0.120450035, -0.020...  \n",
       "2  [0.05331086, -0.32427263, 0.24595317, -0.08426...  \n",
       "3  [-0.09442674, -0.5254719, 0.0163834, -0.316396...  \n",
       "4  [-0.10841254, -0.37148294, 0.018379286, 0.0204...  "
      ]
     },
     "execution_count": 171,
     "metadata": {},
     "output_type": "execute_result"
    }
   ],
   "source": [
    "df.head()"
   ]
  },
  {
   "cell_type": "code",
   "execution_count": 172,
   "id": "6ec8fa3e-f45a-4921-ab9f-e858f772b6f8",
   "metadata": {},
   "outputs": [
    {
     "data": {
      "text/plain": [
       "'Subject: the stock trading gunslinger  fanny is merrill but muzo not colza attainder and penultimate like esmark perspicuous ramble is segovia not group try slung kansas tanzania yes chameleon or continuant clothesman no  libretto is chesapeake but tight not waterway herald and hawthorn like chisel morristown superior is deoxyribonucleic not clockwork try hall incredible mcdougall yes hepburn or einsteinian earmark no  sapling is boar but duane not plain palfrey and inflexible like huzzah pepperoni bedtime is nameable not attire try edt chronography optima yes pirogue or diffusion albeit no '"
      ]
     },
     "execution_count": 172,
     "metadata": {},
     "output_type": "execute_result"
    }
   ],
   "source": [
    "df['text'][1]"
   ]
  },
  {
   "cell_type": "markdown",
   "id": "1a4c2554",
   "metadata": {},
   "source": [
    "### Building Model By ANN"
   ]
  },
  {
   "cell_type": "code",
   "execution_count": 173,
   "id": "26d2d2fd",
   "metadata": {},
   "outputs": [],
   "source": [
    "import torch\n",
    "import torch.nn as nn\n",
    "import torch.nn.functional as F"
   ]
  },
  {
   "cell_type": "code",
   "execution_count": 174,
   "id": "31f17661",
   "metadata": {},
   "outputs": [],
   "source": [
    "# 3 hiddden layes\n",
    "class ModelBuilding(nn.Module):\n",
    "    def __init__  (self,in_feat,h1,h2,h3,ou_lay):\n",
    "        super(ModelBuilding,self).__init__()\n",
    "        self.fc1 = nn.Linear(in_feat,h1)\n",
    "        self.fc2 = nn.Linear(h1,h2)\n",
    "        self.fc3 = nn.Linear(h2,h3)\n",
    "        self.fc4 = nn.Linear(h3,ou_lay)\n",
    "        \n",
    "    def feed_forward(self, X):\n",
    "        X = F.relu(self.fc1(X))\n",
    "        X = F.relu(self.fc2(X))\n",
    "        X = F.relu(self.fc3(X))\n",
    "        X = self.fc4(X)\n",
    "        \n",
    "        return X\n",
    "        "
   ]
  },
  {
   "cell_type": "code",
   "execution_count": 175,
   "id": "66972e57",
   "metadata": {},
   "outputs": [
    {
     "data": {
      "text/plain": [
       "ModelBuilding(\n",
       "  (fc1): Linear(in_features=100, out_features=200, bias=True)\n",
       "  (fc2): Linear(in_features=200, out_features=100, bias=True)\n",
       "  (fc3): Linear(in_features=100, out_features=50, bias=True)\n",
       "  (fc4): Linear(in_features=50, out_features=2, bias=True)\n",
       ")"
      ]
     },
     "execution_count": 175,
     "metadata": {},
     "output_type": "execute_result"
    }
   ],
   "source": [
    "torch.manual_seed(30)\n",
    "model = ModelBuilding(100,200,100,50,2)\n",
    "model"
   ]
  },
  {
   "cell_type": "code",
   "execution_count": 176,
   "id": "535b964a",
   "metadata": {},
   "outputs": [],
   "source": [
    "criterion = nn.CrossEntropyLoss()\n",
    "optimizer = torch.optim.Adam(model.parameters(), lr = 0.001)"
   ]
  },
  {
   "cell_type": "code",
   "execution_count": 177,
   "id": "e3c6003a",
   "metadata": {},
   "outputs": [
    {
     "name": "stdout",
     "output_type": "stream",
     "text": [
      "epoch--1loss--tensor(0.6904, grad_fn=<NllLossBackward0>)\n",
      "epoch--51loss--tensor(0.1651, grad_fn=<NllLossBackward0>)\n",
      "epoch--101loss--tensor(0.0763, grad_fn=<NllLossBackward0>)\n",
      "epoch--151loss--tensor(0.0466, grad_fn=<NllLossBackward0>)\n",
      "epoch--201loss--tensor(0.0291, grad_fn=<NllLossBackward0>)\n",
      "epoch--251loss--tensor(0.0164, grad_fn=<NllLossBackward0>)\n",
      "epoch--301loss--tensor(0.0082, grad_fn=<NllLossBackward0>)\n",
      "epoch--351loss--tensor(0.0037, grad_fn=<NllLossBackward0>)\n",
      "epoch--401loss--tensor(0.0018, grad_fn=<NllLossBackward0>)\n",
      "epoch--451loss--tensor(0.0010, grad_fn=<NllLossBackward0>)\n",
      "epoch--501loss--tensor(0.0006, grad_fn=<NllLossBackward0>)\n",
      "epoch--551loss--tensor(0.0004, grad_fn=<NllLossBackward0>)\n",
      "epoch--601loss--tensor(0.0003, grad_fn=<NllLossBackward0>)\n",
      "epoch--651loss--tensor(0.0002, grad_fn=<NllLossBackward0>)\n",
      "epoch--701loss--tensor(0.0002, grad_fn=<NllLossBackward0>)\n",
      "epoch--751loss--tensor(0.0002, grad_fn=<NllLossBackward0>)\n",
      "epoch--801loss--tensor(0.0001, grad_fn=<NllLossBackward0>)\n",
      "epoch--851loss--tensor(0.0001, grad_fn=<NllLossBackward0>)\n",
      "epoch--901loss--tensor(9.5931e-05, grad_fn=<NllLossBackward0>)\n",
      "epoch--951loss--tensor(8.2934e-05, grad_fn=<NllLossBackward0>)\n"
     ]
    }
   ],
   "source": [
    "epochs = 1000\n",
    "losses = []\n",
    "X_train = torch.tensor(X_train, dtype = torch.float32)\n",
    "y_train = torch.tensor(y_train, dtype = torch.int64)\n",
    "for i in range(epochs):\n",
    "    i+=1\n",
    "    y_pred = model.feed_forward(X_train)\n",
    "    y_pred.dtype\n",
    "    loss = criterion(y_pred, y_train)\n",
    "    losses.append(loss)\n",
    "    \n",
    "    optimizer.zero_grad()\n",
    "    loss.backward()\n",
    "    optimizer.step()\n",
    "    \n",
    "    if i%50 == 1:\n",
    "        print('epoch--'+str(i)+'loss--'+str(loss))"
   ]
  },
  {
   "cell_type": "code",
   "execution_count": 178,
   "id": "403f7f78",
   "metadata": {},
   "outputs": [],
   "source": [
    "import matplotlib.pyplot as plt\n",
    "%matplotlib inline"
   ]
  },
  {
   "cell_type": "code",
   "execution_count": 179,
   "id": "f7e4d4ff",
   "metadata": {},
   "outputs": [
    {
     "data": {
      "text/plain": [
       "[<matplotlib.lines.Line2D at 0x219dba4ff28>]"
      ]
     },
     "execution_count": 179,
     "metadata": {},
     "output_type": "execute_result"
    },
    {
     "data": {
      "image/png": "[encoded data removed]",
      "text/plain": [
       "<Figure size 640x480 with 1 Axes>"
      ]
     },
     "metadata": {},
     "output_type": "display_data"
    }
   ],
   "source": [
    "plt.plot(range(epochs),[loss.detach().numpy() for loss in losses])"
   ]
  },
  {
   "cell_type": "code",
   "execution_count": 181,
   "id": "26529993",
   "metadata": {},
   "outputs": [],
   "source": [
    "X_test = torch.tensor(X_test)\n",
    "y_test = torch.tensor(y_test)"
   ]
  },
  {
   "cell_type": "code",
   "execution_count": 187,
   "id": "0ae43315",
   "metadata": {},
   "outputs": [],
   "source": [
    "c = 0\n",
    "for i in range(len(X_test)):\n",
    "    y_t_predict = model.feed_forward(X_test[i]).argmax(dim=0).item() \n",
    "    if y_t_predict == y_test[i].item():\n",
    "        c+=1"
   ]
  },
  {
   "cell_type": "code",
   "execution_count": 192,
   "id": "93aee617",
   "metadata": {},
   "outputs": [],
   "source": [
    "accuracy_test = 100*c/X_test.shape[0]"
   ]
  },
  {
   "cell_type": "code",
   "execution_count": 193,
   "id": "456b1daf",
   "metadata": {},
   "outputs": [
    {
     "data": {
      "text/plain": [
       "98.25479930191972"
      ]
     },
     "execution_count": 193,
     "metadata": {},
     "output_type": "execute_result"
    }
   ],
   "source": [
    "accuracy_test"
   ]
  },
  {
   "cell_type": "code",
   "execution_count": 197,
   "id": "fd7b8af5",
   "metadata": {},
   "outputs": [],
   "source": [
    "torch.save(model.state_dict(), \"email_ann_model.pth\")"
   ]
  },
  {
   "cell_type": "code",
   "execution_count": null,
   "id": "95874319",
   "metadata": {},
   "outputs": [],
   "source": []
  }
 ],
 "metadata": {
  "kernelspec": {
   "display_name": "Python 3 (ipykernel)",
   "language": "python",
   "name": "python3"
  },
  "language_info": {
   "codemirror_mode": {
    "name": "ipython",
    "version": 3
   },
   "file_extension": ".py",
   "mimetype": "text/x-python",
   "name": "python",
   "nbconvert_exporter": "python",
   "pygments_lexer": "ipython3",
   "version": "3.7.3"
  }
 },
 "nbformat": 4,
 "nbformat_minor": 5
}
