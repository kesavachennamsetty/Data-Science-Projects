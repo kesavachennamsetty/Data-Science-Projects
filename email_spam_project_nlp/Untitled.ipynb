{
 "cells": [
  {
   "cell_type": "code",
   "execution_count": 7,
   "id": "a84dffbb-8774-4095-b255-b97d1619cff8",
   "metadata": {},
   "outputs": [
    {
     "ename": "ImportError",
     "evalue": "cannot import name 'triu' from 'scipy.linalg' (C:\\Users\\ramac\\anaconda3\\anaconda\\anaconda\\Lib\\site-packages\\scipy\\linalg\\__init__.py)",
     "output_type": "error",
     "traceback": [
      "\u001b[1;31m---------------------------------------------------------------------------\u001b[0m",
      "\u001b[1;31mImportError\u001b[0m                               Traceback (most recent call last)",
      "Cell \u001b[1;32mIn[7], line 7\u001b[0m\n\u001b[0;32m      5\u001b[0m \u001b[38;5;28;01mimport\u001b[39;00m \u001b[38;5;21;01mnltk\u001b[39;00m\n\u001b[0;32m      6\u001b[0m \u001b[38;5;28;01mfrom\u001b[39;00m \u001b[38;5;21;01mnltk\u001b[39;00m\u001b[38;5;21;01m.\u001b[39;00m\u001b[38;5;21;01mcorpus\u001b[39;00m \u001b[38;5;28;01mimport\u001b[39;00m stopwords\n\u001b[1;32m----> 7\u001b[0m \u001b[38;5;28;01mfrom\u001b[39;00m \u001b[38;5;21;01mgensim\u001b[39;00m\u001b[38;5;21;01m.\u001b[39;00m\u001b[38;5;21;01mmodels\u001b[39;00m \u001b[38;5;28;01mimport\u001b[39;00m Word2Vec\n\u001b[0;32m      8\u001b[0m \u001b[38;5;66;03m# Download NLTK stopwords\u001b[39;00m\n\u001b[0;32m      9\u001b[0m nltk\u001b[38;5;241m.\u001b[39mdownload(\u001b[38;5;124m'\u001b[39m\u001b[38;5;124mstopwords\u001b[39m\u001b[38;5;124m'\u001b[39m)\n",
      "File \u001b[1;32m~\\anaconda3\\anaconda\\anaconda\\Lib\\site-packages\\gensim\\__init__.py:11\u001b[0m\n\u001b[0;32m      7\u001b[0m __version__ \u001b[38;5;241m=\u001b[39m \u001b[38;5;124m'\u001b[39m\u001b[38;5;124m4.3.2\u001b[39m\u001b[38;5;124m'\u001b[39m\n\u001b[0;32m      9\u001b[0m \u001b[38;5;28;01mimport\u001b[39;00m \u001b[38;5;21;01mlogging\u001b[39;00m\n\u001b[1;32m---> 11\u001b[0m \u001b[38;5;28;01mfrom\u001b[39;00m \u001b[38;5;21;01mgensim\u001b[39;00m \u001b[38;5;28;01mimport\u001b[39;00m parsing, corpora, matutils, interfaces, models, similarities, utils  \u001b[38;5;66;03m# noqa:F401\u001b[39;00m\n\u001b[0;32m     14\u001b[0m logger \u001b[38;5;241m=\u001b[39m logging\u001b[38;5;241m.\u001b[39mgetLogger(\u001b[38;5;124m'\u001b[39m\u001b[38;5;124mgensim\u001b[39m\u001b[38;5;124m'\u001b[39m)\n\u001b[0;32m     15\u001b[0m \u001b[38;5;28;01mif\u001b[39;00m \u001b[38;5;129;01mnot\u001b[39;00m logger\u001b[38;5;241m.\u001b[39mhandlers:  \u001b[38;5;66;03m# To ensure reload() doesn't add another one\u001b[39;00m\n",
      "File \u001b[1;32m~\\anaconda3\\anaconda\\anaconda\\Lib\\site-packages\\gensim\\corpora\\__init__.py:6\u001b[0m\n\u001b[0;32m      1\u001b[0m \u001b[38;5;124;03m\"\"\"\u001b[39;00m\n\u001b[0;32m      2\u001b[0m \u001b[38;5;124;03mThis package contains implementations of various streaming corpus I/O format.\u001b[39;00m\n\u001b[0;32m      3\u001b[0m \u001b[38;5;124;03m\"\"\"\u001b[39;00m\n\u001b[0;32m      5\u001b[0m \u001b[38;5;66;03m# bring corpus classes directly into package namespace, to save some typing\u001b[39;00m\n\u001b[1;32m----> 6\u001b[0m \u001b[38;5;28;01mfrom\u001b[39;00m \u001b[38;5;21;01m.\u001b[39;00m\u001b[38;5;21;01mindexedcorpus\u001b[39;00m \u001b[38;5;28;01mimport\u001b[39;00m IndexedCorpus  \u001b[38;5;66;03m# noqa:F401 must appear before the other classes\u001b[39;00m\n\u001b[0;32m      8\u001b[0m \u001b[38;5;28;01mfrom\u001b[39;00m \u001b[38;5;21;01m.\u001b[39;00m\u001b[38;5;21;01mmmcorpus\u001b[39;00m \u001b[38;5;28;01mimport\u001b[39;00m MmCorpus  \u001b[38;5;66;03m# noqa:F401\u001b[39;00m\n\u001b[0;32m      9\u001b[0m \u001b[38;5;28;01mfrom\u001b[39;00m \u001b[38;5;21;01m.\u001b[39;00m\u001b[38;5;21;01mbleicorpus\u001b[39;00m \u001b[38;5;28;01mimport\u001b[39;00m BleiCorpus  \u001b[38;5;66;03m# noqa:F401\u001b[39;00m\n",
      "File \u001b[1;32m~\\anaconda3\\anaconda\\anaconda\\Lib\\site-packages\\gensim\\corpora\\indexedcorpus.py:14\u001b[0m\n\u001b[0;32m     10\u001b[0m \u001b[38;5;28;01mimport\u001b[39;00m \u001b[38;5;21;01mlogging\u001b[39;00m\n\u001b[0;32m     12\u001b[0m \u001b[38;5;28;01mimport\u001b[39;00m \u001b[38;5;21;01mnumpy\u001b[39;00m\n\u001b[1;32m---> 14\u001b[0m \u001b[38;5;28;01mfrom\u001b[39;00m \u001b[38;5;21;01mgensim\u001b[39;00m \u001b[38;5;28;01mimport\u001b[39;00m interfaces, utils\n\u001b[0;32m     16\u001b[0m logger \u001b[38;5;241m=\u001b[39m logging\u001b[38;5;241m.\u001b[39mgetLogger(\u001b[38;5;18m__name__\u001b[39m)\n\u001b[0;32m     19\u001b[0m \u001b[38;5;28;01mclass\u001b[39;00m \u001b[38;5;21;01mIndexedCorpus\u001b[39;00m(interfaces\u001b[38;5;241m.\u001b[39mCorpusABC):\n",
      "File \u001b[1;32m~\\anaconda3\\anaconda\\anaconda\\Lib\\site-packages\\gensim\\interfaces.py:19\u001b[0m\n\u001b[0;32m      7\u001b[0m \u001b[38;5;124;03m\"\"\"Basic interfaces used across the whole Gensim package.\u001b[39;00m\n\u001b[0;32m      8\u001b[0m \n\u001b[0;32m      9\u001b[0m \u001b[38;5;124;03mThese interfaces are used for building corpora, model transformation and similarity queries.\u001b[39;00m\n\u001b[1;32m   (...)\u001b[0m\n\u001b[0;32m     14\u001b[0m \n\u001b[0;32m     15\u001b[0m \u001b[38;5;124;03m\"\"\"\u001b[39;00m\n\u001b[0;32m     17\u001b[0m \u001b[38;5;28;01mimport\u001b[39;00m \u001b[38;5;21;01mlogging\u001b[39;00m\n\u001b[1;32m---> 19\u001b[0m \u001b[38;5;28;01mfrom\u001b[39;00m \u001b[38;5;21;01mgensim\u001b[39;00m \u001b[38;5;28;01mimport\u001b[39;00m utils, matutils\n\u001b[0;32m     22\u001b[0m logger \u001b[38;5;241m=\u001b[39m logging\u001b[38;5;241m.\u001b[39mgetLogger(\u001b[38;5;18m__name__\u001b[39m)\n\u001b[0;32m     25\u001b[0m \u001b[38;5;28;01mclass\u001b[39;00m \u001b[38;5;21;01mCorpusABC\u001b[39;00m(utils\u001b[38;5;241m.\u001b[39mSaveLoad):\n",
      "File \u001b[1;32m~\\anaconda3\\anaconda\\anaconda\\Lib\\site-packages\\gensim\\matutils.py:20\u001b[0m\n\u001b[0;32m     18\u001b[0m \u001b[38;5;28;01mimport\u001b[39;00m \u001b[38;5;21;01mscipy\u001b[39;00m\u001b[38;5;21;01m.\u001b[39;00m\u001b[38;5;21;01msparse\u001b[39;00m\n\u001b[0;32m     19\u001b[0m \u001b[38;5;28;01mfrom\u001b[39;00m \u001b[38;5;21;01mscipy\u001b[39;00m\u001b[38;5;21;01m.\u001b[39;00m\u001b[38;5;21;01mstats\u001b[39;00m \u001b[38;5;28;01mimport\u001b[39;00m entropy\n\u001b[1;32m---> 20\u001b[0m \u001b[38;5;28;01mfrom\u001b[39;00m \u001b[38;5;21;01mscipy\u001b[39;00m\u001b[38;5;21;01m.\u001b[39;00m\u001b[38;5;21;01mlinalg\u001b[39;00m \u001b[38;5;28;01mimport\u001b[39;00m get_blas_funcs, triu\n\u001b[0;32m     21\u001b[0m \u001b[38;5;28;01mfrom\u001b[39;00m \u001b[38;5;21;01mscipy\u001b[39;00m\u001b[38;5;21;01m.\u001b[39;00m\u001b[38;5;21;01mlinalg\u001b[39;00m\u001b[38;5;21;01m.\u001b[39;00m\u001b[38;5;21;01mlapack\u001b[39;00m \u001b[38;5;28;01mimport\u001b[39;00m get_lapack_funcs\n\u001b[0;32m     22\u001b[0m \u001b[38;5;28;01mfrom\u001b[39;00m \u001b[38;5;21;01mscipy\u001b[39;00m\u001b[38;5;21;01m.\u001b[39;00m\u001b[38;5;21;01mspecial\u001b[39;00m \u001b[38;5;28;01mimport\u001b[39;00m psi  \u001b[38;5;66;03m# gamma function utils\u001b[39;00m\n",
      "\u001b[1;31mImportError\u001b[0m: cannot import name 'triu' from 'scipy.linalg' (C:\\Users\\ramac\\anaconda3\\anaconda\\anaconda\\Lib\\site-packages\\scipy\\linalg\\__init__.py)"
     ]
    }
   ],
   "source": [
    "import pandas as pd\n",
    "from matplotlib import pyplot as plt\n",
    "import pandas as pd\n",
    "import string\n",
    "import nltk\n",
    "from nltk.corpus import stopwords\n",
    "from gensim.models import Word2Vec\n",
    "# Download NLTK stopwords\n",
    "nltk.download('stopwords')"
   ]
  },
  {
   "cell_type": "code",
   "execution_count": 3,
   "id": "b0029eb5-b722-4da2-afb2-7a44ca4ff2c0",
   "metadata": {},
   "outputs": [],
   "source": [
    "df = pd.read_csv('emails.csv', on_bad_lines='skip') "
   ]
  },
  {
   "cell_type": "code",
   "execution_count": 4,
   "id": "1d375f32-981f-4802-b6bf-c2befc3e392b",
   "metadata": {},
   "outputs": [
    {
     "data": {
      "text/html": [
       "<div>\n",
       "<style scoped>\n",
       "    .dataframe tbody tr th:only-of-type {\n",
       "        vertical-align: middle;\n",
       "    }\n",
       "\n",
       "    .dataframe tbody tr th {\n",
       "        vertical-align: top;\n",
       "    }\n",
       "\n",
       "    .dataframe thead th {\n",
       "        text-align: right;\n",
       "    }\n",
       "</style>\n",
       "<table border=\"1\" class=\"dataframe\">\n",
       "  <thead>\n",
       "    <tr style=\"text-align: right;\">\n",
       "      <th></th>\n",
       "      <th>text</th>\n",
       "      <th>spam</th>\n",
       "    </tr>\n",
       "  </thead>\n",
       "  <tbody>\n",
       "    <tr>\n",
       "      <th>0</th>\n",
       "      <td>Subject: naturally irresistible your corporate...</td>\n",
       "      <td>1</td>\n",
       "    </tr>\n",
       "    <tr>\n",
       "      <th>1</th>\n",
       "      <td>Subject: the stock trading gunslinger  fanny i...</td>\n",
       "      <td>1</td>\n",
       "    </tr>\n",
       "    <tr>\n",
       "      <th>2</th>\n",
       "      <td>Subject: unbelievable new homes made easy  im ...</td>\n",
       "      <td>1</td>\n",
       "    </tr>\n",
       "    <tr>\n",
       "      <th>3</th>\n",
       "      <td>Subject: 4 color printing special  request add...</td>\n",
       "      <td>1</td>\n",
       "    </tr>\n",
       "    <tr>\n",
       "      <th>4</th>\n",
       "      <td>Subject: do not have money , get software cds ...</td>\n",
       "      <td>1</td>\n",
       "    </tr>\n",
       "  </tbody>\n",
       "</table>\n",
       "</div>"
      ],
      "text/plain": [
       "                                                text  spam\n",
       "0  Subject: naturally irresistible your corporate...     1\n",
       "1  Subject: the stock trading gunslinger  fanny i...     1\n",
       "2  Subject: unbelievable new homes made easy  im ...     1\n",
       "3  Subject: 4 color printing special  request add...     1\n",
       "4  Subject: do not have money , get software cds ...     1"
      ]
     },
     "execution_count": 4,
     "metadata": {},
     "output_type": "execute_result"
    }
   ],
   "source": [
    "df.head()"
   ]
  },
  {
   "cell_type": "code",
   "execution_count": 5,
   "id": "984e058d-46e9-42b5-85b3-3b6c3e6eb451",
   "metadata": {},
   "outputs": [
    {
     "data": {
      "text/plain": [
       "(5728, 2)"
      ]
     },
     "execution_count": 5,
     "metadata": {},
     "output_type": "execute_result"
    }
   ],
   "source": [
    "df.shape"
   ]
  },
  {
   "cell_type": "code",
   "execution_count": 6,
   "id": "1006a88f-18ee-4b77-a569-8ead63acda90",
   "metadata": {},
   "outputs": [
    {
     "data": {
      "text/plain": [
       "array([1, 0], dtype=int64)"
      ]
     },
     "execution_count": 6,
     "metadata": {},
     "output_type": "execute_result"
    }
   ],
   "source": [
    "df['spam'].unique()"
   ]
  },
  {
   "cell_type": "code",
   "execution_count": 11,
   "id": "c14532f2-4bc4-488b-9651-06feff71a62b",
   "metadata": {},
   "outputs": [
    {
     "data": {
      "text/plain": [
       "Text(0, 0.5, 'count')"
      ]
     },
     "execution_count": 11,
     "metadata": {},
     "output_type": "execute_result"
    },
    {
     "data": {
      "image/png": "[encoded data removed]",
      "text/plain": [
       "<Figure size 640x480 with 1 Axes>"
      ]
     },
     "metadata": {},
     "output_type": "display_data"
    }
   ],
   "source": [
    "plt.bar(df['spam'].unique(), [df[df['spam'] == 1].shape[0], df[df['spam'] == 0].shape[0]])\n",
    "plt.xlabel('spam')\n",
    "plt.ylabel('count')"
   ]
  },
  {
   "cell_type": "markdown",
   "id": "7ef5d2dc-6cc1-406e-a8dc-82cffb22b1db",
   "metadata": {},
   "source": [
    "#### Spams are more"
   ]
  },
  {
   "cell_type": "code",
   "execution_count": 15,
   "id": "aec23f2d-4766-4b72-a22e-bd662afaa434",
   "metadata": {},
   "outputs": [
    {
     "data": {
      "text/html": [
       "<div>\n",
       "<style scoped>\n",
       "    .dataframe tbody tr th:only-of-type {\n",
       "        vertical-align: middle;\n",
       "    }\n",
       "\n",
       "    .dataframe tbody tr th {\n",
       "        vertical-align: top;\n",
       "    }\n",
       "\n",
       "    .dataframe thead th {\n",
       "        text-align: right;\n",
       "    }\n",
       "</style>\n",
       "<table border=\"1\" class=\"dataframe\">\n",
       "  <thead>\n",
       "    <tr style=\"text-align: right;\">\n",
       "      <th></th>\n",
       "      <th>spam</th>\n",
       "    </tr>\n",
       "  </thead>\n",
       "  <tbody>\n",
       "    <tr>\n",
       "      <th>count</th>\n",
       "      <td>5728.000000</td>\n",
       "    </tr>\n",
       "    <tr>\n",
       "      <th>mean</th>\n",
       "      <td>0.238827</td>\n",
       "    </tr>\n",
       "    <tr>\n",
       "      <th>std</th>\n",
       "      <td>0.426404</td>\n",
       "    </tr>\n",
       "    <tr>\n",
       "      <th>min</th>\n",
       "      <td>0.000000</td>\n",
       "    </tr>\n",
       "    <tr>\n",
       "      <th>25%</th>\n",
       "      <td>0.000000</td>\n",
       "    </tr>\n",
       "    <tr>\n",
       "      <th>50%</th>\n",
       "      <td>0.000000</td>\n",
       "    </tr>\n",
       "    <tr>\n",
       "      <th>75%</th>\n",
       "      <td>0.000000</td>\n",
       "    </tr>\n",
       "    <tr>\n",
       "      <th>max</th>\n",
       "      <td>1.000000</td>\n",
       "    </tr>\n",
       "  </tbody>\n",
       "</table>\n",
       "</div>"
      ],
      "text/plain": [
       "              spam\n",
       "count  5728.000000\n",
       "mean      0.238827\n",
       "std       0.426404\n",
       "min       0.000000\n",
       "25%       0.000000\n",
       "50%       0.000000\n",
       "75%       0.000000\n",
       "max       1.000000"
      ]
     },
     "execution_count": 15,
     "metadata": {},
     "output_type": "execute_result"
    }
   ],
   "source": [
    "df.describe()"
   ]
  },
  {
   "cell_type": "code",
   "execution_count": 16,
   "id": "af7ae60f-de01-4eee-8231-578cda4869e8",
   "metadata": {},
   "outputs": [
    {
     "data": {
      "text/plain": [
       "text    0\n",
       "spam    0\n",
       "dtype: int64"
      ]
     },
     "execution_count": 16,
     "metadata": {},
     "output_type": "execute_result"
    }
   ],
   "source": [
    "df.isna().sum()"
   ]
  },
  {
   "cell_type": "markdown",
   "id": "e9c51f13-85a6-42d3-99e8-0a62f8340a8c",
   "metadata": {},
   "source": [
    "#### No Nan values"
   ]
  },
  {
   "cell_type": "code",
   "execution_count": 20,
   "id": "e4d1f4f9-d5b2-44d7-9355-a88e4bf6f1ff",
   "metadata": {},
   "outputs": [],
   "source": [
    "import string\n",
    "from nltk.corpus import stopwords\n",
    "\n",
    "# Download the stopwords if you haven't already\n",
    "import nltk\n",
    "nltk.download('stopwords')\n",
    "\n",
    "def preprocess_text(text):\n",
    "    # Convert text to lowercase\n",
    "    text = text.lower()\n",
    "    # Remove punctuation\n",
    "    text = text.translate(str.maketrans('', '', string.punctuation))\n",
    "    # Tokenize the text into words\n",
    "    words = text.split()\n",
    "    # Get the set of English stopwords\n",
    "    stop_words = set(stopwords.words('english'))\n",
    "    # Remove stopwords\n",
    "    filtered_words = [word for word in words if word not in stop_words]\n",
    "\n",
    "    return filtered_words\n"
   ]
  },
  {
   "cell_type": "code",
   "execution_count": 21,
   "id": "5056f241-4746-4d45-b199-5502252fb5f3",
   "metadata": {},
   "outputs": [],
   "source": [
    "df['processed_text'] = df['text'].apply(preprocess_text)"
   ]
  },
  {
   "cell_type": "code",
   "execution_count": 23,
   "id": "be4c1320-df56-468c-9290-1758821ddc76",
   "metadata": {},
   "outputs": [
    {
     "data": {
      "text/plain": [
       "['subject',\n",
       " 'naturally',\n",
       " 'irresistible',\n",
       " 'your',\n",
       " 'corporate',\n",
       " 'identity',\n",
       " 'lt',\n",
       " 'is',\n",
       " 'really',\n",
       " 'hard',\n",
       " 'to',\n",
       " 'recollect',\n",
       " 'a',\n",
       " 'company',\n",
       " 'the',\n",
       " 'market',\n",
       " 'is',\n",
       " 'full',\n",
       " 'of',\n",
       " 'suqgestions',\n",
       " 'and',\n",
       " 'the',\n",
       " 'information',\n",
       " 'isoverwhelminq',\n",
       " 'but',\n",
       " 'a',\n",
       " 'good',\n",
       " 'catchy',\n",
       " 'logo',\n",
       " 'stylish',\n",
       " 'statlonery',\n",
       " 'and',\n",
       " 'outstanding',\n",
       " 'website',\n",
       " 'will',\n",
       " 'make',\n",
       " 'the',\n",
       " 'task',\n",
       " 'much',\n",
       " 'easier',\n",
       " 'we',\n",
       " 'do',\n",
       " 'not',\n",
       " 'promise',\n",
       " 'that',\n",
       " 'havinq',\n",
       " 'ordered',\n",
       " 'a',\n",
       " 'iogo',\n",
       " 'your',\n",
       " 'company',\n",
       " 'will',\n",
       " 'automaticaily',\n",
       " 'become',\n",
       " 'a',\n",
       " 'world',\n",
       " 'ieader',\n",
       " 'it',\n",
       " 'isguite',\n",
       " 'ciear',\n",
       " 'that',\n",
       " 'without',\n",
       " 'good',\n",
       " 'products',\n",
       " 'effective',\n",
       " 'business',\n",
       " 'organization',\n",
       " 'and',\n",
       " 'practicable',\n",
       " 'aim',\n",
       " 'it',\n",
       " 'will',\n",
       " 'be',\n",
       " 'hotat',\n",
       " 'nowadays',\n",
       " 'market',\n",
       " 'but',\n",
       " 'we',\n",
       " 'do',\n",
       " 'promise',\n",
       " 'that',\n",
       " 'your',\n",
       " 'marketing',\n",
       " 'efforts',\n",
       " 'will',\n",
       " 'become',\n",
       " 'much',\n",
       " 'more',\n",
       " 'effective',\n",
       " 'here',\n",
       " 'is',\n",
       " 'the',\n",
       " 'list',\n",
       " 'of',\n",
       " 'clear',\n",
       " 'benefits',\n",
       " 'creativeness',\n",
       " 'hand',\n",
       " 'made',\n",
       " 'original',\n",
       " 'logos',\n",
       " 'specially',\n",
       " 'done',\n",
       " 'to',\n",
       " 'reflect',\n",
       " 'your',\n",
       " 'distinctive',\n",
       " 'company',\n",
       " 'image',\n",
       " 'convenience',\n",
       " 'logo',\n",
       " 'and',\n",
       " 'stationery',\n",
       " 'are',\n",
       " 'provided',\n",
       " 'in',\n",
       " 'all',\n",
       " 'formats',\n",
       " 'easy',\n",
       " 'to',\n",
       " 'use',\n",
       " 'content',\n",
       " 'management',\n",
       " 'system',\n",
       " 'letsyou',\n",
       " 'change',\n",
       " 'your',\n",
       " 'website',\n",
       " 'content',\n",
       " 'and',\n",
       " 'even',\n",
       " 'its',\n",
       " 'structure',\n",
       " 'promptness',\n",
       " 'you',\n",
       " 'will',\n",
       " 'see',\n",
       " 'logo',\n",
       " 'drafts',\n",
       " 'within',\n",
       " 'three',\n",
       " 'business',\n",
       " 'days',\n",
       " 'affordability',\n",
       " 'your',\n",
       " 'marketing',\n",
       " 'break',\n",
       " 'through',\n",
       " 'shouldn',\n",
       " 't',\n",
       " 'make',\n",
       " 'gaps',\n",
       " 'in',\n",
       " 'your',\n",
       " 'budget',\n",
       " '100',\n",
       " 'satisfaction',\n",
       " 'guaranteed',\n",
       " 'we',\n",
       " 'provide',\n",
       " 'unlimited',\n",
       " 'amount',\n",
       " 'of',\n",
       " 'changes',\n",
       " 'with',\n",
       " 'no',\n",
       " 'extra',\n",
       " 'fees',\n",
       " 'for',\n",
       " 'you',\n",
       " 'to',\n",
       " 'be',\n",
       " 'surethat',\n",
       " 'you',\n",
       " 'will',\n",
       " 'love',\n",
       " 'the',\n",
       " 'result',\n",
       " 'of',\n",
       " 'this',\n",
       " 'collaboration',\n",
       " 'have',\n",
       " 'a',\n",
       " 'look',\n",
       " 'at',\n",
       " 'our',\n",
       " 'portfolio',\n",
       " 'not',\n",
       " 'interested']"
      ]
     },
     "execution_count": 23,
     "metadata": {},
     "output_type": "execute_result"
    }
   ],
   "source": [
    "df.head()"
   ]
  },
  {
   "cell_type": "code",
   "execution_count": 25,
   "id": "70fd983f-2158-4cec-94f5-beec9a40776c",
   "metadata": {},
   "outputs": [
    {
     "name": "stdout",
     "output_type": "stream",
     "text": [
      "Requirement already satisfied: scipy in c:\\users\\ramac\\anaconda3\\anaconda\\anaconda\\lib\\site-packages (1.13.1)\n",
      "Collecting scipy\n",
      "  Using cached scipy-1.14.1-cp312-cp312-win_amd64.whl.metadata (60 kB)\n",
      "Requirement already satisfied: numpy<2.3,>=1.23.5 in c:\\users\\ramac\\anaconda3\\anaconda\\anaconda\\lib\\site-packages (from scipy) (1.26.4)\n",
      "Using cached scipy-1.14.1-cp312-cp312-win_amd64.whl (44.5 MB)\n",
      "Installing collected packages: scipy\n",
      "  Attempting uninstall: scipy\n",
      "    Found existing installation: scipy 1.13.1\n",
      "    Uninstalling scipy-1.13.1:\n",
      "      Successfully uninstalled scipy-1.13.1\n",
      "Successfully installed scipy-1.14.1\n",
      "Note: you may need to restart the kernel to use updated packages.\n"
     ]
    },
    {
     "name": "stderr",
     "output_type": "stream",
     "text": [
      "  WARNING: Failed to remove contents in a temporary directory 'C:\\Users\\ramac\\anaconda3\\anaconda\\anaconda\\Lib\\site-packages\\~cipy'.\n",
      "  You can safely remove it manually.\n"
     ]
    }
   ],
   "source": [
    "sentences = df['processed_text'].tolist()\n",
    "\n",
    "# Train the Word2Vec model\n",
    "model = Word2Vec(sentences, vector_size=100, window=5, min_count=1, workers=4)\n",
    "\n",
    "# Save the trained model (optional)\n",
    "model.save(\"word2vec.model\")\n",
    "\n",
    "# Print the vector for a sample word\n",
    "word_vector = model.wv['sample'] "
   ]
  },
  {
   "cell_type": "code",
   "execution_count": null,
   "id": "61a30a88-bc56-43d7-952e-4b173be809b1",
   "metadata": {},
   "outputs": [],
   "source": [
    "def get_document_vector(text, model):\n",
    "    # Get word vectors for the words in the document\n",
    "    word_vectors = [model.wv[word] for word in text if word in model.wv]\n",
    "    \n",
    "    # If no word vectors exist (e.g., out-of-vocabulary words), return a zero vector\n",
    "    if len(word_vectors) == 0:\n",
    "        return np.zeros(model.vector_size)  # Return a zero vector\n",
    "\n",
    "    # Return the average of the word vectors\n",
    "    return np.mean(word_vectors, axis=0)\n",
    "\n",
    "# Generate document vectors for each row in the DataFrame using the pre-trained Word2Vec model\n",
    "df['document_vector'] = df['processed_text'].apply(lambda x: get_document_vector(x, model))\n",
    "\n",
    "# Preview the document vectors\n",
    "print(df[['text', 'document_vector', 'spam']])"
   ]
  },
  {
   "cell_type": "code",
   "execution_count": null,
   "id": "233ebc79-a15e-4c57-96bd-17a41fc8877a",
   "metadata": {},
   "outputs": [],
   "source": [
    "df.shape"
   ]
  },
  {
   "cell_type": "code",
   "execution_count": 1,
   "id": "04472f18-9a55-4ed8-bd4a-d1e6b8980acb",
   "metadata": {},
   "outputs": [
    {
     "name": "stdout",
     "output_type": "stream",
     "text": [
      "1.14.1\n"
     ]
    }
   ],
   "source": [
    "X = np.array(df['document_vector'].tolist())\n",
    "y = np.array(df['spam'])"
   ]
  },
  {
   "cell_type": "code",
   "execution_count": 4,
   "id": "d5e89821-3583-4e94-b2b6-a51d6f3641ec",
   "metadata": {},
   "outputs": [
    {
     "name": "stdout",
     "output_type": "stream",
     "text": [
      "Note: you may need to restart the kernel to use updated packages.\n"
     ]
    },
    {
     "name": "stderr",
     "output_type": "stream",
     "text": [
      "ERROR: Invalid requirement: 'gensim\\\\'\n",
      "Hint: It looks like a path. File 'gensim\\' does not exist.\n"
     ]
    }
   ],
   "source": [
    "# Split into training and testing sets\n",
    "from sklearn.model_selection import train_test_split\n",
    "from sklearn.linear_model import LogisticRegression\n",
    "from sklearn.metrics import accuracy_score, classification_report\n",
    "X_train, X_test, y_train, y_test = train_test_split(X, y, test_size=0.2, random_state=42)"
   ]
  },
  {
   "cell_type": "code",
   "execution_count": null,
   "id": "6ae1a47f-d186-414f-900a-a4f7bde25505",
   "metadata": {},
   "outputs": [],
   "source": [
    "# Split into training and testing sets\n",
    "X_train, X_test, y_train, y_test = train_test_split(X, y, test_size=0.2, random_state=42)"
   ]
  },
  {
   "cell_type": "code",
   "execution_count": 5,
   "id": "c4d5f0c3-70f6-4abe-8547-1d62148522b0",
   "metadata": {},
   "outputs": [
    {
     "name": "stdout",
     "output_type": "stream",
     "text": [
      "^C\n",
      "Note: you may need to restart the kernel to use updated packages.\n"
     ]
    }
   ],
   "source": [
    "# Train a Logistic Regression model\n",
    "model_lr = LogisticRegression(max_iter=1000)\n",
    "model_lr.fit(X_train, y_train)"
   ]
  },
  {
   "cell_type": "code",
   "execution_count": null,
   "id": "e67c8f31-d409-4dd6-8189-4c8a0506b30e",
   "metadata": {},
   "outputs": [],
   "source": [
    "# Make predictions on the test set\n",
    "y_pred = model_lr.predict(X_test)\n",
    "\n",
    "# Evaluate the model using accuracy and classification report\n",
    "accuracy = accuracy_score(y_test, y_pred)\n",
    "print(f\"Accuracy: {accuracy:.4f}\")\n",
    "\n",
    "# Print detailed classification report\n",
    "print(\"Classification Report:\")\n",
    "print(classification_report(y_test, y_pred))"
   ]
  },
  {
   "cell_type": "markdown",
   "id": "894d9e7b-92da-4f09-8e12-841d9fd1961b",
   "metadata": {},
   "source": [
    "### Predicting the new text it is spam or not"
   ]
  },
  {
   "cell_type": "code",
   "execution_count": null,
   "id": "7169d51d-0842-4f84-b360-ddc677ba6d9a",
   "metadata": {},
   "outputs": [],
   "source": [
    "new_text = \"Subject: you won a one million$\"\n",
    "text = preprocess_text(new_text)\n",
    "new_document_vector = get_document_vector(text, model)\n",
    "\n",
    "# Reshape the new document vector to match the shape expected by the classifier\n",
    "new_document_vector = new_document_vector.reshape(1, -1)\n",
    "\n",
    "# Predict the class of the new text using the trained model\n",
    "predicted_class = model_lr.predict(new_document_vector)\n",
    "\n",
    "# Output the prediction\n",
    "print(f\"The predicted class for the new text is: {predicted_class[0]}\")"
   ]
  },
  {
   "cell_type": "code",
   "execution_count": null,
   "id": "b8dff3e8-04a4-4a8e-b535-4e70689ecb0a",
   "metadata": {},
   "outputs": [],
   "source": [
    "df.head()"
   ]
  },
  {
   "cell_type": "code",
   "execution_count": null,
   "id": "6ec8fa3e-f45a-4921-ab9f-e858f772b6f8",
   "metadata": {},
   "outputs": [],
   "source": [
    "df['text'][1]"
   ]
  }
 ],
 "metadata": {
  "kernelspec": {
   "display_name": "Python 3 (ipykernel)",
   "language": "python",
   "name": "python3"
  },
  "language_info": {
   "codemirror_mode": {
    "name": "ipython",
    "version": 3
   },
   "file_extension": ".py",
   "mimetype": "text/x-python",
   "name": "python",
   "nbconvert_exporter": "python",
   "pygments_lexer": "ipython3",
   "version": "3.12.4"
  }
 },
 "nbformat": 4,
 "nbformat_minor": 5
}
